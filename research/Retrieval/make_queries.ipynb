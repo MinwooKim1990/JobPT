{
 "cells": [
  {
   "cell_type": "code",
   "execution_count": 2,
   "id": "2f1e4d2d",
   "metadata": {},
   "outputs": [],
   "source": [
    "import pandas as pd\n",
    "import matplotlib.pyplot as plt\n",
    "import sys\n",
    "import os\n",
    "import yaml\n",
    "from dotenv import  load_dotenv\n",
    "\n",
    "import numpy as np\n",
    "sys.path.append('../../system/')\n",
    "# from langchain_experimental.text_splitter import SemanticChunker\n",
    "from langchain_openai import OpenAIEmbeddings\n",
    "from langchain.embeddings import CacheBackedEmbeddings\n",
    "from langchain.storage import LocalFileStore\n",
    "\n",
    "from configs import JD_PATH, COLLECTION, DB_PATH\n",
    "from get_similarity.utils.preprocess import preprocess\n",
    "from insert_chunks import *\n",
    "\n",
    "from tqdm import tqdm"
   ]
  },
  {
   "cell_type": "markdown",
   "id": "b3337ccd",
   "metadata": {},
   "source": [
    "# 데이터 로드 및 전처리"
   ]
  },
  {
   "cell_type": "code",
   "execution_count": 7,
   "id": "b4c8ae2b",
   "metadata": {},
   "outputs": [
    {
     "name": "stdout",
     "output_type": "stream",
     "text": [
      "Path: ../../data/jd_origin/USA_jobs_total_front_end.csv, Length: 20\n",
      "Path: ../../data/jd_origin/USA_jobs_total_back_end.csv, Length: 20\n",
      "Path: ../../data/jd_origin/USA_jobs_total.csv, Length: 20\n",
      "Total Length: 60\n"
     ]
    }
   ],
   "source": [
    "# jd_folder = \"/home/yhkim/code/JobPT/data/jd_origin\"\n",
    "jd_folder = \"../../data/jd_origin\"\n",
    "\n",
    "\n",
    "all_data = pd.DataFrame()\n",
    "for jd_path in os.listdir(jd_folder):\n",
    "    full_path = os.path.join(jd_folder, jd_path)\n",
    "    df = preprocess(full_path)\n",
    "    print(f\"Path: {full_path}, Length: {len(df)}\")\n",
    "    all_data = pd.concat([all_data, df], ignore_index=True)\n",
    "print(f\"Total Length: {len(all_data)}\")"
   ]
  },
  {
   "cell_type": "code",
   "execution_count": 8,
   "id": "88a7e90e",
   "metadata": {},
   "outputs": [
    {
     "name": "stdout",
     "output_type": "stream",
     "text": [
      "Index(['job_url', 'title', 'company', 'company_url', 'location', 'job_type',\n",
      "       'date_posted', 'is_remote', 'description'],\n",
      "      dtype='object')\n"
     ]
    }
   ],
   "source": [
    "print(df.columns)"
   ]
  },
  {
   "cell_type": "code",
   "execution_count": null,
   "id": "e9bdd7a8",
   "metadata": {},
   "outputs": [
    {
     "name": "stdout",
     "output_type": "stream",
     "text": [
      "Category                                         Data Science\n",
      "Resume      Skills • R • Python • SAP HANA • Tableau • SAP...\n",
      "Name: 3, dtype: object\n"
     ]
    }
   ],
   "source": [
    "example_cv = pd.read_csv(\"./UpdatedResumeDataSet.csv\", encoding='utf=8')\n",
    "print(example_cv.iloc[3])"
   ]
  },
  {
   "cell_type": "code",
   "execution_count": null,
   "id": "846b27d4",
   "metadata": {},
   "outputs": [],
   "source": [
    "# #초기 데이터 인코딩 오류 수정\n",
    "# example_cv = pd.read_csv(\"./UpdatedResumeDataSet.csv\", encoding='latin-1')\n",
    "\n",
    "# col_name = \"Resume\"        # 예: 'description', 'Skills', …\n",
    "# # ③ 역‑디코딩:  문자열 → 바이트(CP‑1252) → UTF‑8 → 문자열\n",
    "# example_cv[col_name] = (\n",
    "#     example_cv[col_name]\n",
    "#       .str.encode(\"latin1\")      # ⇢   원래 바이트값 E2 80 A2 복원\n",
    "#       .str.decode(\"utf-8\")       # ⇢   • 로 올바르게 변환\n",
    "# )\n",
    "\n",
    "# #중복 제거\n",
    "# example_cv.drop_duplicates(subset=[\"Resume\"], inplace=True)\n",
    "# # example_cv.to_csv(\"./UpdatedResumeDataSet.csv\", encoding='utf=8', index=False)"
   ]
  },
  {
   "cell_type": "code",
   "execution_count": 20,
   "id": "33d36206",
   "metadata": {},
   "outputs": [
    {
     "data": {
      "text/plain": [
       "166"
      ]
     },
     "execution_count": 20,
     "metadata": {},
     "output_type": "execute_result"
    }
   ],
   "source": [
    "len((example_cv[\"Resume\"]).unique())"
   ]
  },
  {
   "cell_type": "markdown",
   "id": "3b899091",
   "metadata": {},
   "source": [
    "# Prompt Engineering"
   ]
  },
  {
   "cell_type": "code",
   "execution_count": 21,
   "id": "f4a3fe0c",
   "metadata": {},
   "outputs": [],
   "source": [
    "from openai import OpenAI\n",
    "client = OpenAI()"
   ]
  },
  {
   "cell_type": "code",
   "execution_count": 22,
   "id": "95e77db1",
   "metadata": {},
   "outputs": [],
   "source": [
    "def make_cv(system, user, model=\"gpt-4.1-mini\"):\n",
    "    completion = client.chat.completions.create(\n",
    "      model=model,\n",
    "      messages=[\n",
    "    {\"role\": \"developer\", \"content\": f\"{system}\"},\n",
    "    {\"role\": \"user\", \"content\": f\"{user}\"}\n",
    "  ]\n",
    "    )\n",
    "    return completion.choices[0].message.content"
   ]
  },
  {
   "cell_type": "code",
   "execution_count": 23,
   "id": "331cbdb8",
   "metadata": {},
   "outputs": [],
   "source": [
    "with open(\"./data/cv_prompt.yaml\", \"r\") as f:\n",
    "    prompt = yaml.safe_load(f)"
   ]
  },
  {
   "cell_type": "code",
   "execution_count": 24,
   "id": "fae3a2d6",
   "metadata": {},
   "outputs": [
    {
     "data": {
      "text/plain": [
       "{'system': {'base': 'You are a professional CV generator.\\n Your task is to create a tailored curriculum vitae (CV) based on the provided job description (JD).\\n The CV must be professional, realistic, and meet the key requirements and preferred qualifications in the JD.\\n Include sections for personal information, education, work experience, skills, certifications, and project experience.\\n The CV should be of practical quality and proper formatting for real-world use.\\n',\n",
       "  'version1(format)': 'You are a professional CV generator.\\nYou must output a CV that **exactly matches** the example format \\n(same section order, headings, bold text, indentation, bullet style, and line breaks).\\nThe CV should be of practical quality and proper formatting for real-world use.\\n'},\n",
       " 'user': {'base': '\"Generate a professional CV tailored to the following job description:\\n\\nExample CV format : {cv}\\n\\nJD: {jd}\\n\\nPlease create a complete CV that matches the requirements in the job description while following a Example CV format.\\nRemember you have to make virtual personal information and fill private infos(name, phone, email, etc.)\\n\\nCreated CV:\\n',\n",
       "  'version1(format)': '--- Example CV format ---\\n{cv}\\n\\n--- Job Description (JD) ---\\n{jd}\\n\\n###Guidelines###\\n1. Follow the *Example CV format* **exactly**—do not rearrange or rename sections.  \\n2. Tailor content so the candidate clearly meets every key requirement in the JD.  \\n3. Invent realistic personal info if missing.  \\n\\nIf this Guideline is not followed, think again and write a new CV.'}}"
      ]
     },
     "execution_count": 24,
     "metadata": {},
     "output_type": "execute_result"
    }
   ],
   "source": [
    "prompt"
   ]
  },
  {
   "cell_type": "markdown",
   "id": "69125526",
   "metadata": {},
   "source": [
    "## 데이터 생성 예제"
   ]
  },
  {
   "cell_type": "code",
   "execution_count": null,
   "id": "149fbdac",
   "metadata": {},
   "outputs": [],
   "source": [
    "###cv 생성 예제\n",
    "\n",
    "# cv_result = make_cv(\n",
    "#     system=prompt[\"system\"][\"base\"],\n",
    "#     user=prompt[\"user\"][\"base\"].format(cv=example_cv[\"Resume\"].iloc[0], jd=df.iloc[0]),\n",
    "#     model=\"gpt-4o-mini\"\n",
    "# )"
   ]
  },
  {
   "cell_type": "code",
   "execution_count": 25,
   "id": "f5873aa2",
   "metadata": {},
   "outputs": [
    {
     "name": "stderr",
     "output_type": "stream",
     "text": [
      "100%|██████████| 10/10 [02:00<00:00, 12.09s/it]\n"
     ]
    }
   ],
   "source": [
    "results = []\n",
    "for i in tqdm(range(10)):\n",
    "    # cv와 jd 예제를 하나씩 가져옴\n",
    "    cv_example = example_cv[\"Resume\"].iloc[i]\n",
    "    jd_example = df.iloc[i][\"description\"]\n",
    "\n",
    "    system = prompt[\"system\"][\"base\"]\n",
    "    user=prompt[\"user\"][\"base\"].format(cv=cv_example, jd=jd_example)\n",
    "\n",
    "    generated_cv = make_cv(system, user, model=\"gpt-4.1-mini\")\n",
    "\n",
    "    #cv, jd, generated_cv를 dict로 저장\n",
    "    results.append({\n",
    "        \"cv_example\": cv_example,\n",
    "        \"jd\": jd_example,\n",
    "        \"generated_cv\": generated_cv\n",
    "    })\n",
    "\n",
    "# dataframe으로 변환 및 id 지정\n",
    "df_result = pd.DataFrame(results)\n",
    "df_result.index.name = \"id\""
   ]
  },
  {
   "cell_type": "code",
   "execution_count": 28,
   "id": "94eaf4f8",
   "metadata": {},
   "outputs": [
    {
     "data": {
      "text/html": [
       "<div>\n",
       "<style scoped>\n",
       "    .dataframe tbody tr th:only-of-type {\n",
       "        vertical-align: middle;\n",
       "    }\n",
       "\n",
       "    .dataframe tbody tr th {\n",
       "        vertical-align: top;\n",
       "    }\n",
       "\n",
       "    .dataframe thead th {\n",
       "        text-align: right;\n",
       "    }\n",
       "</style>\n",
       "<table border=\"1\" class=\"dataframe\">\n",
       "  <thead>\n",
       "    <tr style=\"text-align: right;\">\n",
       "      <th></th>\n",
       "      <th>cv_example</th>\n",
       "      <th>jd</th>\n",
       "      <th>generated_cv</th>\n",
       "    </tr>\n",
       "    <tr>\n",
       "      <th>id</th>\n",
       "      <th></th>\n",
       "      <th></th>\n",
       "      <th></th>\n",
       "    </tr>\n",
       "  </thead>\n",
       "  <tbody>\n",
       "    <tr>\n",
       "      <th>0</th>\n",
       "      <td>Skills * Programming Languages: Python (pandas...</td>\n",
       "      <td>#####  **Job Type: Contract**\\n\\n##### **Job C...</td>\n",
       "      <td>**John Doe**  \\nAzure GenAI Engineer  \\nPhone:...</td>\n",
       "    </tr>\n",
       "    <tr>\n",
       "      <th>1</th>\n",
       "      <td>Education Details \\r\\nMay 2013 to May 2017 B.E...</td>\n",
       "      <td>Location\\n\\nRemote, USA\\n\\nType\\n\\nFull time\\n...</td>\n",
       "      <td>John A. Mitchell  \\nAustin, TX, USA  \\nPhone: ...</td>\n",
       "    </tr>\n",
       "    <tr>\n",
       "      <th>2</th>\n",
       "      <td>Areas of Interest Deep Learning, Control Syste...</td>\n",
       "      <td>EvenUp is on a mission to support injury law f...</td>\n",
       "      <td>**John A. Smith**  \\nSan Francisco Bay Area, C...</td>\n",
       "    </tr>\n",
       "    <tr>\n",
       "      <th>3</th>\n",
       "      <td>Skills • R • Python • SAP HANA • Tableau • SAP...</td>\n",
       "      <td>Riverbed. Empower the Experience:\\n\\nRiverbed,...</td>\n",
       "      <td>John A. Mitchell  \\nPhone: +1 (312) 555-7890  ...</td>\n",
       "    </tr>\n",
       "    <tr>\n",
       "      <th>4</th>\n",
       "      <td>Education Details \\r\\n MCA   YMCAUST,  Faridab...</td>\n",
       "      <td>##  **Teamwork makes the stream work.**\\n\\n###...</td>\n",
       "      <td>Education Details  \\nMaster of Science (M.S.) ...</td>\n",
       "    </tr>\n",
       "  </tbody>\n",
       "</table>\n",
       "</div>"
      ],
      "text/plain": [
       "                                           cv_example  \\\n",
       "id                                                      \n",
       "0   Skills * Programming Languages: Python (pandas...   \n",
       "1   Education Details \\r\\nMay 2013 to May 2017 B.E...   \n",
       "2   Areas of Interest Deep Learning, Control Syste...   \n",
       "3   Skills • R • Python • SAP HANA • Tableau • SAP...   \n",
       "4   Education Details \\r\\n MCA   YMCAUST,  Faridab...   \n",
       "\n",
       "                                                   jd  \\\n",
       "id                                                      \n",
       "0   #####  **Job Type: Contract**\\n\\n##### **Job C...   \n",
       "1   Location\\n\\nRemote, USA\\n\\nType\\n\\nFull time\\n...   \n",
       "2   EvenUp is on a mission to support injury law f...   \n",
       "3   Riverbed. Empower the Experience:\\n\\nRiverbed,...   \n",
       "4   ##  **Teamwork makes the stream work.**\\n\\n###...   \n",
       "\n",
       "                                         generated_cv  \n",
       "id                                                     \n",
       "0   **John Doe**  \\nAzure GenAI Engineer  \\nPhone:...  \n",
       "1   John A. Mitchell  \\nAustin, TX, USA  \\nPhone: ...  \n",
       "2   **John A. Smith**  \\nSan Francisco Bay Area, C...  \n",
       "3   John A. Mitchell  \\nPhone: +1 (312) 555-7890  ...  \n",
       "4   Education Details  \\nMaster of Science (M.S.) ...  "
      ]
     },
     "execution_count": 28,
     "metadata": {},
     "output_type": "execute_result"
    }
   ],
   "source": [
    "df_result.head()"
   ]
  },
  {
   "cell_type": "code",
   "execution_count": 29,
   "id": "3fa7b447",
   "metadata": {},
   "outputs": [],
   "source": [
    "df_result.to_csv(\"./data/base_cv.csv\", index=True)"
   ]
  },
  {
   "cell_type": "code",
   "execution_count": 30,
   "id": "bd6a899d",
   "metadata": {},
   "outputs": [
    {
     "data": {
      "text/plain": [
       "60"
      ]
     },
     "execution_count": 30,
     "metadata": {},
     "output_type": "execute_result"
    }
   ],
   "source": [
    "len(all_data)"
   ]
  },
  {
   "cell_type": "markdown",
   "id": "0dbb3e3f",
   "metadata": {},
   "source": [
    "## jd별로 10개씩 생성 및 저장"
   ]
  },
  {
   "cell_type": "code",
   "execution_count": null,
   "id": "d2555fe0",
   "metadata": {},
   "outputs": [
    {
     "name": "stderr",
     "output_type": "stream",
     "text": [
      "100%|██████████| 10/10 [01:02<00:00,  6.22s/it]\n",
      "100%|██████████| 10/10 [06:56<00:00, 41.65s/it]\n",
      "100%|██████████| 10/10 [03:57<00:00, 23.77s/it]\n",
      "100%|██████████| 10/10 [02:52<00:00, 17.30s/it]\n"
     ]
    }
   ],
   "source": [
    "for model in [\"gpt-4.1-mini\",\"o4-mini\", \"o3-mini\", \"gpt-4.1\"]:\n",
    "    results = []\n",
    "    for i in tqdm(range(10)):\n",
    "        cv_example = example_cv[\"Resume\"].iloc[i]\n",
    "        jd_example = df.iloc[i][\"description\"]\n",
    "\n",
    "        system = prompt[\"system\"][\"version1(format)\"]\n",
    "        user=prompt[\"user\"][\"version1(format)\"].format(cv=cv_example, jd=jd_example)\n",
    "\n",
    "        generated_cv = make_cv(system, user, model=model)\n",
    "        results.append({\n",
    "            \"cv_example\": cv_example,\n",
    "            \"jd\": jd_example,\n",
    "            \"generated_cv\": generated_cv\n",
    "        })\n",
    "\n",
    "\n",
    "    df_result = pd.DataFrame(results)\n",
    "    df_result.index.name = \"id\"\n",
    "    df_result.to_csv(f\"./data/{model}_format.csv\", index=True)"
   ]
  },
  {
   "cell_type": "markdown",
   "id": "02f276cb",
   "metadata": {},
   "source": [
    "## 모든 jd별로 cv생성하여 저장"
   ]
  },
  {
   "cell_type": "code",
   "execution_count": 29,
   "id": "9231215f",
   "metadata": {},
   "outputs": [
    {
     "name": "stderr",
     "output_type": "stream",
     "text": [
      "100%|██████████| 60/60 [07:58<00:00,  7.97s/it]\n",
      "100%|██████████| 60/60 [42:41<00:00, 42.69s/it]\n",
      "100%|██████████| 60/60 [23:50<00:00, 23.84s/it]\n",
      "100%|██████████| 60/60 [10:30<00:00, 10.51s/it]\n"
     ]
    }
   ],
   "source": [
    "for model in [\"gpt-4.1-mini\",\"o4-mini\", \"o3-mini\", \"gpt-4.1\"]:\n",
    "    results = []\n",
    "    for i in tqdm(range(len(all_data))):\n",
    "        cv_example = example_cv[\"Resume\"].iloc[i]\n",
    "        jd_example = all_data.iloc[i][\"description\"]\n",
    "\n",
    "        system = prompt[\"system\"][\"version1(format)\"]\n",
    "        user=prompt[\"user\"][\"version1(format)\"].format(cv=cv_example, jd=jd_example)\n",
    "\n",
    "        generated_cv = make_cv(system, user, model=model)\n",
    "        results.append({\n",
    "            \"cv_example\": cv_example,\n",
    "            \"jd\": jd_example,\n",
    "            \"generated_cv\": generated_cv\n",
    "        })\n",
    "\n",
    "\n",
    "    df_result = pd.DataFrame(results)\n",
    "    df_result.index.name = \"id\"\n",
    "    df_result.to_csv(f\"./data/{model}_resume.csv\", index=True)"
   ]
  }
 ],
 "metadata": {
  "kernelspec": {
   "display_name": "RAG",
   "language": "python",
   "name": "python3"
  },
  "language_info": {
   "codemirror_mode": {
    "name": "ipython",
    "version": 3
   },
   "file_extension": ".py",
   "mimetype": "text/x-python",
   "name": "python",
   "nbconvert_exporter": "python",
   "pygments_lexer": "ipython3",
   "version": "3.10.12"
  }
 },
 "nbformat": 4,
 "nbformat_minor": 5
}
