{
 "cells": [
  {
   "cell_type": "code",
   "execution_count": 45,
   "id": "d0a5156f",
   "metadata": {},
   "outputs": [],
   "source": [
    "import pandas as pd\n",
    "import matplotlib.pyplot as plt\n",
    "import sys\n",
    "import os\n",
    "from dotenv import  load_dotenv\n",
    "\n",
    "import numpy as np\n",
    "sys.path.append('../../system/')\n",
    "from get_similarity.utils.preprocess import preprocess\n",
    "# from langchain_experimental.text_splitter import SemanticChunker\n",
    "from langchain_openai import OpenAIEmbeddings\n",
    "from langchain.embeddings import CacheBackedEmbeddings\n",
    "from langchain.storage import LocalFileStore\n",
    "from langchain_chroma import Chroma\n",
    "from configs import JD_PATH, COLLECTION, DB_PATH\n",
    "from langchain_community.retrievers import BM25Retriever\n",
    "import string\n",
    "from langchain.text_splitter import RecursiveCharacterTextSplitter\n",
    "\n",
    "from insert_chunks import *\n",
    "from tqdm import tqdm\n",
    "from collections import defaultdict\n",
    "import re\n",
    "from uuid import uuid4"
   ]
  },
  {
   "cell_type": "markdown",
   "id": "3cdf5706",
   "metadata": {},
   "source": [
    "## 현재 vectorDB query process"
   ]
  },
  {
   "cell_type": "code",
   "execution_count": 3,
   "id": "804f8e32",
   "metadata": {},
   "outputs": [
    {
     "name": "stdout",
     "output_type": "stream",
     "text": [
      "벤치마크 데이터셋 크기: 300\n"
     ]
    }
   ],
   "source": [
    "# 생성된 CV전문(`generated_cv`column)을 Omniparser로 처리된 데이터로 가정\n",
    "# o3-mini의 generation_score가 제일높아 사용\n",
    "dataset = pd.read_csv(\"./data/evaluation/o3-mini_evaluation_large.csv\")\n",
    "print(f\"벤치마크 데이터셋 크기: {len(dataset)}\")"
   ]
  },
  {
   "cell_type": "code",
   "execution_count": 5,
   "id": "77412848",
   "metadata": {},
   "outputs": [
    {
     "data": {
      "text/html": [
       "<div>\n",
       "<style scoped>\n",
       "    .dataframe tbody tr th:only-of-type {\n",
       "        vertical-align: middle;\n",
       "    }\n",
       "\n",
       "    .dataframe tbody tr th {\n",
       "        vertical-align: top;\n",
       "    }\n",
       "\n",
       "    .dataframe thead th {\n",
       "        text-align: right;\n",
       "    }\n",
       "</style>\n",
       "<table border=\"1\" class=\"dataframe\">\n",
       "  <thead>\n",
       "    <tr style=\"text-align: right;\">\n",
       "      <th></th>\n",
       "      <th>id</th>\n",
       "      <th>cv_example</th>\n",
       "      <th>jd</th>\n",
       "      <th>generated_cv</th>\n",
       "      <th>skill_score</th>\n",
       "      <th>experience_score</th>\n",
       "      <th>culture_fit_score</th>\n",
       "      <th>readability_score</th>\n",
       "      <th>generation_score</th>\n",
       "      <th>reasoning</th>\n",
       "    </tr>\n",
       "  </thead>\n",
       "  <tbody>\n",
       "    <tr>\n",
       "      <th>0</th>\n",
       "      <td>0</td>\n",
       "      <td>TECHNICAL SKILLS • HP ALM, RTC and JIRA • AS40...</td>\n",
       "      <td>Full Stack Developer, Senior**The Opportunity:...</td>\n",
       "      <td>TECHNICAL SKILLS • Languages: Java, Python, Ja...</td>\n",
       "      <td>90</td>\n",
       "      <td>85</td>\n",
       "      <td>80</td>\n",
       "      <td>85</td>\n",
       "      <td>90</td>\n",
       "      <td>The resume demonstrates a strong match with th...</td>\n",
       "    </tr>\n",
       "    <tr>\n",
       "      <th>1</th>\n",
       "      <td>1</td>\n",
       "      <td>KEY SKILLS: • Planning &amp; Strategizing • Presen...</td>\n",
       "      <td>Full\\\\-Stack Web Developer**The Opportunity:**...</td>\n",
       "      <td>KEY SKILLS: • Full‐Stack Development • UI/UX C...</td>\n",
       "      <td>90</td>\n",
       "      <td>90</td>\n",
       "      <td>85</td>\n",
       "      <td>80</td>\n",
       "      <td>85</td>\n",
       "      <td>The resume demonstrates a strong alignment wit...</td>\n",
       "    </tr>\n",
       "    <tr>\n",
       "      <th>3</th>\n",
       "      <td>3</td>\n",
       "      <td>Education Details \\r\\nJanuary 2016 BSc.  Mumba...</td>\n",
       "      <td>Posted Date\\n\\n\\n5/08/2025\\n\\n\\nDescription\\n\\...</td>\n",
       "      <td>Education Details \\nJanuary 2014 BSc. Computer...</td>\n",
       "      <td>90</td>\n",
       "      <td>90</td>\n",
       "      <td>85</td>\n",
       "      <td>90</td>\n",
       "      <td>85</td>\n",
       "      <td>Skills Score: The resume lists the required ba...</td>\n",
       "    </tr>\n",
       "    <tr>\n",
       "      <th>4</th>\n",
       "      <td>4</td>\n",
       "      <td>SKILLS • 1.Autocad • 2.Pro v • 3.Catia • 4.wor...</td>\n",
       "      <td>Posted Date\\n\\n\\n5/07/2025\\n\\n\\nDescription\\n\\...</td>\n",
       "      <td>SKILLS • 1.Java • 2.Python • 3.Node.js • 4.SQL...</td>\n",
       "      <td>90</td>\n",
       "      <td>85</td>\n",
       "      <td>90</td>\n",
       "      <td>75</td>\n",
       "      <td>80</td>\n",
       "      <td>Skills: The candidate demonstrates proficiency...</td>\n",
       "    </tr>\n",
       "    <tr>\n",
       "      <th>5</th>\n",
       "      <td>5</td>\n",
       "      <td>Computer Skills: • Proficient in MS office (Wo...</td>\n",
       "      <td>**About Us**\\n At Hayden AI, we are on a missi...</td>\n",
       "      <td>Computer Skills: • Proficient in AWS CLI, Clou...</td>\n",
       "      <td>90</td>\n",
       "      <td>90</td>\n",
       "      <td>80</td>\n",
       "      <td>85</td>\n",
       "      <td>85</td>\n",
       "      <td>The resume clearly highlights essential techni...</td>\n",
       "    </tr>\n",
       "  </tbody>\n",
       "</table>\n",
       "</div>"
      ],
      "text/plain": [
       "   id                                         cv_example  \\\n",
       "0   0  TECHNICAL SKILLS • HP ALM, RTC and JIRA • AS40...   \n",
       "1   1  KEY SKILLS: • Planning & Strategizing • Presen...   \n",
       "3   3  Education Details \\r\\nJanuary 2016 BSc.  Mumba...   \n",
       "4   4  SKILLS • 1.Autocad • 2.Pro v • 3.Catia • 4.wor...   \n",
       "5   5  Computer Skills: • Proficient in MS office (Wo...   \n",
       "\n",
       "                                                  jd  \\\n",
       "0  Full Stack Developer, Senior**The Opportunity:...   \n",
       "1  Full\\\\-Stack Web Developer**The Opportunity:**...   \n",
       "3  Posted Date\\n\\n\\n5/08/2025\\n\\n\\nDescription\\n\\...   \n",
       "4  Posted Date\\n\\n\\n5/07/2025\\n\\n\\nDescription\\n\\...   \n",
       "5  **About Us**\\n At Hayden AI, we are on a missi...   \n",
       "\n",
       "                                        generated_cv  skill_score  \\\n",
       "0  TECHNICAL SKILLS • Languages: Java, Python, Ja...           90   \n",
       "1  KEY SKILLS: • Full‐Stack Development • UI/UX C...           90   \n",
       "3  Education Details \\nJanuary 2014 BSc. Computer...           90   \n",
       "4  SKILLS • 1.Java • 2.Python • 3.Node.js • 4.SQL...           90   \n",
       "5  Computer Skills: • Proficient in AWS CLI, Clou...           90   \n",
       "\n",
       "   experience_score  culture_fit_score  readability_score  generation_score  \\\n",
       "0                85                 80                 85                90   \n",
       "1                90                 85                 80                85   \n",
       "3                90                 85                 90                85   \n",
       "4                85                 90                 75                80   \n",
       "5                90                 80                 85                85   \n",
       "\n",
       "                                           reasoning  \n",
       "0  The resume demonstrates a strong match with th...  \n",
       "1  The resume demonstrates a strong alignment wit...  \n",
       "3  Skills Score: The resume lists the required ba...  \n",
       "4  Skills: The candidate demonstrates proficiency...  \n",
       "5  The resume clearly highlights essential techni...  "
      ]
     },
     "execution_count": 5,
     "metadata": {},
     "output_type": "execute_result"
    }
   ],
   "source": [
    "dataset.head()"
   ]
  },
  {
   "cell_type": "code",
   "execution_count": 6,
   "id": "afb45538",
   "metadata": {},
   "outputs": [
    {
     "name": "stdout",
     "output_type": "stream",
     "text": [
      "필터링된 데이터셋 크기: 179\n"
     ]
    }
   ],
   "source": [
    "dataset = dataset[dataset[\"generation_score\"]>=40]\n",
    "print(f\"필터링된 데이터셋 크기: {len(dataset)}\")\n",
    "\n",
    "jd = dataset['jd']\n",
    "generated_cv = dataset['generated_cv']"
   ]
  },
  {
   "cell_type": "code",
   "execution_count": 7,
   "id": "da3fe59f",
   "metadata": {},
   "outputs": [],
   "source": [
    "# 현재 JobPT의 쿼리 전처리\n",
    "\n",
    "def preprocess_query(parsed_content):\n",
    "\n",
    "    lines = parsed_content.split(\"\\n\")\n",
    "\n",
    "    texts = []\n",
    "    for line in lines:\n",
    "        if \":\" in line:\n",
    "            text = line.split(\":\", 1)[1].strip()\n",
    "            texts.append(text)\n",
    "\n",
    "    processed_texts = []\n",
    "    i = 0\n",
    "    while i < len(texts):\n",
    "        text = texts[i]\n",
    "        if text.endswith(\"-\"):\n",
    "            text = text[:-1]\n",
    "            if i + 1 < len(texts):\n",
    "                text += texts[i + 1]\n",
    "                i += 1\n",
    "        processed_texts.append(text)\n",
    "        i += 1\n",
    "\n",
    "    combined_text = \" \".join(processed_texts)\n",
    "\n",
    "    sentence_endings = re.compile(r\"(?<=[.!?]) +\")\n",
    "    sentences = sentence_endings.split(combined_text)\n",
    "\n",
    "    paragraphs = []\n",
    "    current_paragraph = \"\"\n",
    "    for sentence in sentences:\n",
    "        headings = [\"Education\", \"Publications\", \"Honors\", \"Relevant Courses\", \"GPA\", \"Advisor\", \"Minor\", \"Email\", \"Research Advisor\"]\n",
    "        if any(heading in sentence for heading in headings):\n",
    "            print(f\"sentence: {sentence}\")\n",
    "            if current_paragraph:\n",
    "                paragraphs.append(current_paragraph.strip())\n",
    "            current_paragraph = sentence.strip() + \" \"\n",
    "        else:\n",
    "            current_paragraph += sentence.strip() + \" \"\n",
    "\n",
    "    if current_paragraph:\n",
    "        paragraphs.append(current_paragraph.strip())\n",
    "\n",
    "    # for para in paragraphs:\n",
    "        # print(para)\n",
    "        # print(\"\\n\")\n",
    "\n",
    "    return \"\\n\".join(paragraphs)"
   ]
  },
  {
   "cell_type": "code",
   "execution_count": 8,
   "id": "8af6fd29",
   "metadata": {},
   "outputs": [
    {
     "name": "stdout",
     "output_type": "stream",
     "text": [
      "Java, Python, JavaScript, C# • Frameworks: Spring Boot, Node.js, React, Angular • Tools: Git, Docker, Kubernetes, Jenkins, Maven, Gradle • Cloud: AWS, Azure • Database: SQL, NoSQL (MongoDB) • Others: API Design, Microservices, Agile & Scrum\n"
     ]
    }
   ],
   "source": [
    "print(preprocess_query(generated_cv[0]))"
   ]
  },
  {
   "cell_type": "markdown",
   "id": "ca16a77b",
   "metadata": {},
   "source": [
    "# Benchmark  \n",
    "- chunking: semantic\n",
    "- preprocess: true"
   ]
  },
  {
   "cell_type": "code",
   "execution_count": 15,
   "id": "05ade985",
   "metadata": {},
   "outputs": [],
   "source": [
    "queries = generated_cv\n",
    "# answers = jd"
   ]
  },
  {
   "cell_type": "code",
   "execution_count": 16,
   "id": "fdf4177e",
   "metadata": {},
   "outputs": [],
   "source": [
    "def get_chunks_bench(df, text_splitter):\n",
    "    ## 데이터 프레임을 넣으면 chunking된 결과를 리턴\n",
    "    total_chunks = []\n",
    "    for i, desciption in enumerate(tqdm(df)):\n",
    "        ### 메타데이터는 각 jd별 index로 지정\n",
    "        chunk = text_splitter.create_documents([desciption], [{\"index\": i}])\n",
    "        total_chunks.extend(chunk)\n",
    "    return total_chunks"
   ]
  },
  {
   "cell_type": "code",
   "execution_count": 17,
   "id": "746d5279",
   "metadata": {},
   "outputs": [
    {
     "name": "stderr",
     "output_type": "stream",
     "text": [
      "100%|██████████| 179/179 [00:01<00:00, 115.26it/s]\n"
     ]
    }
   ],
   "source": [
    "total_chunks = get_chunks_bench(jd, set_splitter(emb_model))"
   ]
  },
  {
   "cell_type": "code",
   "execution_count": null,
   "id": "cc953b5b",
   "metadata": {},
   "outputs": [
    {
     "name": "stdout",
     "output_type": "stream",
     "text": [
      "생성된 DB의 크기: 721\n"
     ]
    }
   ],
   "source": [
    "def make_test_db(total_chunks, emb_model):\n",
    "    try:\n",
    "        db.reset_collection()\n",
    "    except NameError:\n",
    "        pass\n",
    "    db = Chroma.from_documents(total_chunks, emb_model, collection_name=str(uuid4()))\n",
    "    print(f\"생성된 DB의 크기: {len(db.get()['ids'])}\")\n",
    "    return db"
   ]
  },
  {
   "cell_type": "code",
   "execution_count": 19,
   "id": "af314db7",
   "metadata": {},
   "outputs": [
    {
     "name": "stdout",
     "output_type": "stream",
     "text": [
      "생성된 DB의 크기: 721\n"
     ]
    }
   ],
   "source": [
    "db = make_test_db(total_chunks, emb_model)"
   ]
  },
  {
   "cell_type": "code",
   "execution_count": 20,
   "id": "16a25983",
   "metadata": {},
   "outputs": [
    {
     "data": {
      "text/plain": [
       "[Document(id='752a30d1-487c-46b7-a01f-2fb873e25a01', metadata={'index': 161}, page_content='Data Scientist**The Opportunity:**\\n\\nAs a data scientist, you’re excited at the prospect of unlocking the secrets held by a data set, and you’re fascinated by the possibilities presented by IoT, machine learning, and artificial intelligence. In an increasingly connected world, massive amounts of structured and unstructured data open new opportunities. As a data scientist at Booz Allen, you can help turn these complex data sets into useful information to solve global challenges. Across private and public sectors from fraud detection to cancer research, to national intelligence, we need you to help find the answers in the data. On our team, you’ll use your leadership skills and data science expertise to create real\\\\\\\\-world impact. You’ll work closely with clients to understand their questions and needs, and then dig into their data\\\\\\\\-rich environments to find the pieces of their information puzzle. You’ll guide teammates and lead the development of algorithms and systems. You’ll use the right combination of tools and frameworks to turn sets of disparate data points into objective answers to advise your clients as they make informed decisions. Ultimately, you’ll provide a deep understanding of the data, what it all means, and how it can be used. Join us.'),\n",
       " Document(id='b107fc66-20c2-459c-9499-e69a29822701', metadata={'index': 161}, page_content='The world can’t wait. **You Have:**\\n\\n* 8\\\\\\\\+ years of experience with data exploration, data cleaning, data analysis, data visualization, or data mining\\n* 5\\\\\\\\+ years of experience analyzing structured and unstructured data sources\\n* 3\\\\\\\\+ years of experience with statistical and general\\\\\\\\-purpose programming languages for data analysis\\n* Experience developing predictive data models, quantitative analyses, and visualization of targeted data sources\\n* Experience leading the development of solutions to complex problems\\n* Experience with natural language processing, text mining, or machine learning techniques\\n* Secret clearance\\n* Bachelor’s degree\\n\\n**Nice If You Have:**\\n\\n* Experience in the development of algorithms leveraging Python and SQL\\n* Experience developing solutions incorporating Large Language Models\\n* Experience with distributed data or computing tools such as Spark\\n* Experience with Python data science and visualization packages\\n\\n**Clearance:**\\n\\nApplicants selected will be subject to a security investigation and may need to meet eligibility requirements for access to classified information; Secret clearance is required. **Compensation**\\n\\n\\nAt Booz Allen, we celebrate your contributions, provide you with opportunities and choices, and support your total well\\\\\\\\-being.'),\n",
       " Document(id='c3ec9e95-7db0-4c2d-b0ae-b264cbc708cf', metadata={'index': 160}, page_content='Data Engineer**The Opportunity:**\\n\\n\\nEver\\\\\\\\-expanding technology like IoT, machine learning, and artificial intelligence means that there’s more structured and unstructured data available today than ever before. As a data engineer, you know that organizing big data can yield pivotal insights when it’s gathered from disparate sources. We need an experienced data engineer like you to help our clients find answers in their big data to impact important missions—from fraud detection to cancer research to national intelligence. As a data engineer at Booz Allen, you’ll implement data engineering activities on some of the most mission\\\\\\\\-driven projects in the industry. You’ll deploy and develop pipelines and platforms that organize and make disparate data meaningful. Here, you’ll work with and guide a multi\\\\\\\\-disciplinary team of analysts, data engineers, developers, and data consumers in a fast\\\\\\\\-paced, Agile environment. You’ll use your experience in analytical exploration and data examination while you manage the assessment, design, building, and maintenance of scalable platforms for your clients. Join us.'),\n",
       " Document(id='1ff8b7e5-effb-4869-8315-3e6d58ddff1d', metadata={'index': 163}, page_content='In this position, you will develop rapid prototype solutions to mission challenges by leveraging existing open\\\\\\\\-source models and technologies. Sample topic areas may include object detection, data triage, search/optimization, cyber security data science, and other cyber related data challenges. On our team, you will:* Identify, adapt, and integrate state\\\\\\\\-of\\\\\\\\-the\\\\\\\\-art research and open\\\\\\\\-source technologies into creative solutions. * Develop and train new machine learning models. * Identify, curate, and process large data sets. * Research, apply, analyze, and document technical approaches and their outcomes. * Leverage various computing resources such as GPU clusters and cloud\\\\\\\\-based compute servers. Required Qualifications:\\n* Bachlors degree in STEM fields such as computer science, statistics, statistics, data analytics, computer engineering, mathematics, and physics. * 3\\\\\\\\+ years of related professional experience. * Proficiency with major data science tools and languages such as Python, PostgreSQL/SQL, Spark, and Git\\n* Experience using ML and data science packages such as PyTorch, TensorFlow, or scikit\\\\\\\\-learn\\n* Experience leveraging open\\\\\\\\-source models and adapting them to generate custom solutions\\n* ACTIVE Top Secret with SCI and Polygraph\\n* US Citizenship is required. Desired Qualifications:\\n* Comfortable using development tools such as VSCode, github/gitlab, Jira, and Confluence\\n* Familiarity with database systems such as PostgreSQL and Elasticsearch\\n* Demonstrated experience working with open\\\\\\\\-source datasets\\n* Familiarity with data science best practices and methodologies\\n* Familiarity with Agile development workflows\\n* Experience working with Cyber data to include examples such as (Shodan, Censys.IO, etc.). * Demonstrated experience with cleaning, managing, optimizing performance with, and processing large volumes of data.')]"
      ]
     },
     "execution_count": 20,
     "metadata": {},
     "output_type": "execute_result"
    }
   ],
   "source": [
    "# 쿼리 테스트\n",
    "db.similarity_search(\"I want to be a Data Scientist.\")"
   ]
  },
  {
   "cell_type": "code",
   "execution_count": 23,
   "id": "b2bbeb70",
   "metadata": {},
   "outputs": [],
   "source": [
    "retriever = db.as_retriever(search_kwargs={\"k\": 3}, embedding_function=emb_model)  # top-3 문서 검색  # 임베딩 모델 명시적 지정"
   ]
  },
  {
   "cell_type": "code",
   "execution_count": 31,
   "id": "e2686752",
   "metadata": {},
   "outputs": [],
   "source": [
    "def make_rank(results,k, full=False):\n",
    "    ## query와 db를 넣으면 id의 list를 리턴\n",
    "    search_range = min(k, len(results))\n",
    "    scores = np.full([search_range], -1)\n",
    "    for i in range(search_range):\n",
    "        scores[i] = results[i].metadata['index']\n",
    "    return scores"
   ]
  },
  {
   "cell_type": "code",
   "execution_count": 29,
   "id": "f90c2f11",
   "metadata": {},
   "outputs": [
    {
     "data": {
      "text/plain": [
       "[Document(id='752a30d1-487c-46b7-a01f-2fb873e25a01', metadata={'index': 161}, page_content='Data Scientist**The Opportunity:**\\n\\nAs a data scientist, you’re excited at the prospect of unlocking the secrets held by a data set, and you’re fascinated by the possibilities presented by IoT, machine learning, and artificial intelligence. In an increasingly connected world, massive amounts of structured and unstructured data open new opportunities. As a data scientist at Booz Allen, you can help turn these complex data sets into useful information to solve global challenges. Across private and public sectors from fraud detection to cancer research, to national intelligence, we need you to help find the answers in the data. On our team, you’ll use your leadership skills and data science expertise to create real\\\\\\\\-world impact. You’ll work closely with clients to understand their questions and needs, and then dig into their data\\\\\\\\-rich environments to find the pieces of their information puzzle. You’ll guide teammates and lead the development of algorithms and systems. You’ll use the right combination of tools and frameworks to turn sets of disparate data points into objective answers to advise your clients as they make informed decisions. Ultimately, you’ll provide a deep understanding of the data, what it all means, and how it can be used. Join us.'),\n",
       " Document(id='b107fc66-20c2-459c-9499-e69a29822701', metadata={'index': 161}, page_content='The world can’t wait. **You Have:**\\n\\n* 8\\\\\\\\+ years of experience with data exploration, data cleaning, data analysis, data visualization, or data mining\\n* 5\\\\\\\\+ years of experience analyzing structured and unstructured data sources\\n* 3\\\\\\\\+ years of experience with statistical and general\\\\\\\\-purpose programming languages for data analysis\\n* Experience developing predictive data models, quantitative analyses, and visualization of targeted data sources\\n* Experience leading the development of solutions to complex problems\\n* Experience with natural language processing, text mining, or machine learning techniques\\n* Secret clearance\\n* Bachelor’s degree\\n\\n**Nice If You Have:**\\n\\n* Experience in the development of algorithms leveraging Python and SQL\\n* Experience developing solutions incorporating Large Language Models\\n* Experience with distributed data or computing tools such as Spark\\n* Experience with Python data science and visualization packages\\n\\n**Clearance:**\\n\\nApplicants selected will be subject to a security investigation and may need to meet eligibility requirements for access to classified information; Secret clearance is required. **Compensation**\\n\\n\\nAt Booz Allen, we celebrate your contributions, provide you with opportunities and choices, and support your total well\\\\\\\\-being.'),\n",
       " Document(id='c3ec9e95-7db0-4c2d-b0ae-b264cbc708cf', metadata={'index': 160}, page_content='Data Engineer**The Opportunity:**\\n\\n\\nEver\\\\\\\\-expanding technology like IoT, machine learning, and artificial intelligence means that there’s more structured and unstructured data available today than ever before. As a data engineer, you know that organizing big data can yield pivotal insights when it’s gathered from disparate sources. We need an experienced data engineer like you to help our clients find answers in their big data to impact important missions—from fraud detection to cancer research to national intelligence. As a data engineer at Booz Allen, you’ll implement data engineering activities on some of the most mission\\\\\\\\-driven projects in the industry. You’ll deploy and develop pipelines and platforms that organize and make disparate data meaningful. Here, you’ll work with and guide a multi\\\\\\\\-disciplinary team of analysts, data engineers, developers, and data consumers in a fast\\\\\\\\-paced, Agile environment. You’ll use your experience in analytical exploration and data examination while you manage the assessment, design, building, and maintenance of scalable platforms for your clients. Join us.')]"
      ]
     },
     "execution_count": 29,
     "metadata": {},
     "output_type": "execute_result"
    }
   ],
   "source": [
    "retriever.invoke(\"I want to be a Data Scientist.\")"
   ]
  },
  {
   "cell_type": "code",
   "execution_count": 32,
   "id": "8bd5b45b",
   "metadata": {},
   "outputs": [
    {
     "data": {
      "text/plain": [
       "array([161, 161, 160])"
      ]
     },
     "execution_count": 32,
     "metadata": {},
     "output_type": "execute_result"
    }
   ],
   "source": [
    "make_rank(retriever.invoke(\"I want to be a Data Scientist.\"), k=10)"
   ]
  },
  {
   "cell_type": "code",
   "execution_count": 34,
   "id": "13eef7e9",
   "metadata": {},
   "outputs": [],
   "source": [
    "def make_score(queries, db, full=False):\n",
    "    ## query와 db를 넣으면 score(0: 오답, 1: 정답)를 리턴\n",
    "    scores = np.zeros([len(queries), 10])\n",
    "    for i in tqdm(range(len(queries))):\n",
    "        query = queries.iloc[i]\n",
    "        results = db.similarity_search(query, k=10)\n",
    "        for j in range(len(results)):\n",
    "            if results[j].metadata['index'] ==  i:\n",
    "                scores[i][j] = 1\n",
    "    return scores"
   ]
  },
  {
   "cell_type": "code",
   "execution_count": 35,
   "id": "0d8495c2",
   "metadata": {},
   "outputs": [
    {
     "name": "stderr",
     "output_type": "stream",
     "text": [
      "100%|██████████| 179/179 [01:15<00:00,  2.38it/s]\n"
     ]
    }
   ],
   "source": [
    "scores = make_score(queries, db)"
   ]
  },
  {
   "cell_type": "code",
   "execution_count": 36,
   "id": "22a2a5d6",
   "metadata": {},
   "outputs": [],
   "source": [
    "def print_score(scores):\n",
    "    one_shot = scores[:,0]\n",
    "    # 10개 중 하나라도 매칭된 이력서가 있다면 정답으로 취급\n",
    "    ten_shot = np.sum(scores[:,:10], axis=1)\n",
    "\n",
    "    one_shot = np.mean(one_shot)\n",
    "    ten_shot = (ten_shot > 0).mean()\n",
    "\n",
    "    print(f\"1-shot accuracy: {one_shot*100:.2f}%\")\n",
    "    print(f\"10-shot accuracy: {ten_shot*100:.2f}%\")"
   ]
  },
  {
   "cell_type": "code",
   "execution_count": 37,
   "id": "82586aa3",
   "metadata": {},
   "outputs": [
    {
     "name": "stdout",
     "output_type": "stream",
     "text": [
      "1-shot accuracy: 78.21%\n",
      "10-shot accuracy: 95.53%\n"
     ]
    }
   ],
   "source": [
    "print_score(scores)"
   ]
  },
  {
   "cell_type": "markdown",
   "id": "950d7300",
   "metadata": {},
   "source": [
    "## BM25 성능평가"
   ]
  },
  {
   "cell_type": "code",
   "execution_count": 38,
   "id": "35d9e972",
   "metadata": {},
   "outputs": [],
   "source": [
    "def clean_tokens(text: str):\n",
    "    \"\"\"공백 기준 토큰화 후 특수문자 제거·소문자 변환\"\"\"\n",
    "    tokens = text.split()                       # ① 공백 기준 분리\n",
    "    cleaned = []\n",
    "    for tok in tokens:\n",
    "        # ② 토큰 앞뒤 특수문자 제거  ( ###Job**  →  Job )\n",
    "        tok = tok.strip(string.punctuation)\n",
    "        # ③ 소문자 변환\n",
    "        tok = tok.lower()\n",
    "        # ④ 빈 토큰·순수 특수문자 토큰은 건너뛰기\n",
    "        if tok and not all(ch in string.punctuation for ch in tok):\n",
    "            cleaned.append(tok)\n",
    "    return cleaned"
   ]
  },
  {
   "cell_type": "code",
   "execution_count": 39,
   "id": "de67f37e",
   "metadata": {},
   "outputs": [],
   "source": [
    "lexical_db = BM25Retriever.from_documents(total_chunks, preprocess_func=clean_tokens, k=10)"
   ]
  },
  {
   "cell_type": "code",
   "execution_count": 40,
   "id": "dbcfff63",
   "metadata": {},
   "outputs": [],
   "source": [
    "def make_lexical_score(queries, lexical_db, full=False):\n",
    "    scores = np.zeros([len(queries), 10])\n",
    "    for i in tqdm(range(len(queries))):\n",
    "        query = queries.iloc[i]\n",
    "        results = lexical_db.get_relevant_documents(query, k=10)\n",
    "        for j in range(len(results)):\n",
    "            if results[j].metadata['index'] ==  i:\n",
    "                scores[i][j] = 1\n",
    "    return scores"
   ]
  },
  {
   "cell_type": "code",
   "execution_count": 41,
   "id": "a0d418e5",
   "metadata": {},
   "outputs": [
    {
     "name": "stderr",
     "output_type": "stream",
     "text": [
      "  0%|          | 0/179 [00:00<?, ?it/s]/tmp/ipykernel_38241/3035066337.py:5: LangChainDeprecationWarning: The method `BaseRetriever.get_relevant_documents` was deprecated in langchain-core 0.1.46 and will be removed in 1.0. Use :meth:`~invoke` instead.\n",
      "  results = lexical_db.get_relevant_documents(query, k=10)\n",
      "100%|██████████| 179/179 [00:02<00:00, 62.55it/s]"
     ]
    },
    {
     "name": "stdout",
     "output_type": "stream",
     "text": [
      "1-shot accuracy: 61.45%\n",
      "10-shot accuracy: 83.80%\n"
     ]
    },
    {
     "name": "stderr",
     "output_type": "stream",
     "text": [
      "\n"
     ]
    }
   ],
   "source": [
    "scores = make_lexical_score(queries, lexical_db)\n",
    "print_score(scores)"
   ]
  },
  {
   "cell_type": "markdown",
   "id": "954bdd6a",
   "metadata": {},
   "source": [
    "### mekab 사용"
   ]
  },
  {
   "cell_type": "code",
   "execution_count": null,
   "id": "550e80cc",
   "metadata": {},
   "outputs": [],
   "source": [
    "from nltk.tokenize import word_tokenize\n",
    "\n",
    "lexical_db = BM25Retriever.from_documents(total_chunks, preprocess_func=word_tokenize)"
   ]
  },
  {
   "cell_type": "code",
   "execution_count": 44,
   "id": "b2f3512b",
   "metadata": {},
   "outputs": [
    {
     "name": "stderr",
     "output_type": "stream",
     "text": [
      "100%|██████████| 179/179 [00:03<00:00, 52.79it/s]"
     ]
    },
    {
     "name": "stdout",
     "output_type": "stream",
     "text": [
      "1-shot accuracy: 51.40%\n",
      "10-shot accuracy: 74.86%\n"
     ]
    },
    {
     "name": "stderr",
     "output_type": "stream",
     "text": [
      "\n"
     ]
    }
   ],
   "source": [
    "scores = make_lexical_score(queries, lexical_db)\n",
    "#분명 idf 리스트 체크할때는 더 clean해보였는데?\n",
    "print_score(scores)"
   ]
  },
  {
   "cell_type": "markdown",
   "id": "fcadc370",
   "metadata": {},
   "source": [
    "# JD청킹변경"
   ]
  },
  {
   "cell_type": "code",
   "execution_count": 46,
   "id": "be07d17f",
   "metadata": {},
   "outputs": [],
   "source": [
    "def set_recursive_splitter(chunk_size=512, chunk_overlap=100):\n",
    "    \"\"\"splitter를 셋업하는 함수입니다.\"\"\"\n",
    "    text_splitter = RecursiveCharacterTextSplitter(chunk_size=chunk_size, chunk_overlap=chunk_overlap, separators=[\"#\",\"##,\"\"###\",\"####\",\"#####\",\"---\",\"**\",\"*\", \"\\r\\n\",\"\\n\\n\", \"\\n\", \"\\t\", \" \", \"\"])\n",
    "    return text_splitter\n"
   ]
  },
  {
   "cell_type": "code",
   "execution_count": 47,
   "id": "20d20e17",
   "metadata": {},
   "outputs": [
    {
     "name": "stderr",
     "output_type": "stream",
     "text": [
      "100%|██████████| 179/179 [00:00<00:00, 13576.50it/s]\n"
     ]
    },
    {
     "name": "stdout",
     "output_type": "stream",
     "text": [
      "생성된 DB의 크기: 1366\n"
     ]
    },
    {
     "name": "stderr",
     "output_type": "stream",
     "text": [
      "100%|██████████| 179/179 [01:05<00:00,  2.71it/s]\n"
     ]
    }
   ],
   "source": [
    "recursive_splitter = set_recursive_splitter(chunk_size=1024, chunk_overlap=100)\n",
    "recursive_chunks = get_chunks_bench(jd, recursive_splitter)\n",
    "recursive_db = make_test_db(recursive_chunks, emb_model)\n",
    "recursive_scores = make_score(queries, recursive_db, full=True)"
   ]
  },
  {
   "cell_type": "code",
   "execution_count": 48,
   "id": "6f0889e2",
   "metadata": {},
   "outputs": [
    {
     "name": "stdout",
     "output_type": "stream",
     "text": [
      "1-shot accuracy: 71.51%\n",
      "10-shot accuracy: 92.74%\n"
     ]
    }
   ],
   "source": [
    "print_score(recursive_scores)"
   ]
  },
  {
   "cell_type": "code",
   "execution_count": 94,
   "id": "a42216c2",
   "metadata": {},
   "outputs": [
    {
     "name": "stdout",
     "output_type": "stream",
     "text": [
      "1-shot accuracy: 72.07%\n",
      "10-shot accuracy: 92.74%\n"
     ]
    }
   ],
   "source": [
    "print_score(scores)"
   ]
  },
  {
   "cell_type": "code",
   "execution_count": 49,
   "id": "8ff45c77",
   "metadata": {},
   "outputs": [
    {
     "name": "stderr",
     "output_type": "stream",
     "text": [
      "100%|██████████| 179/179 [00:06<00:00, 27.29it/s]\n"
     ]
    }
   ],
   "source": [
    "lexical_db = BM25Retriever.from_documents(recursive_chunks, preprocess_func=word_tokenize, k=10,\n",
    "                                          bm25_params={\"k1\": 1.2, \"b\": 0.5})\n",
    "scores = make_lexical_score(queries, lexical_db, full=True)"
   ]
  },
  {
   "cell_type": "code",
   "execution_count": 50,
   "id": "381b8241",
   "metadata": {},
   "outputs": [
    {
     "name": "stdout",
     "output_type": "stream",
     "text": [
      "1-shot accuracy: 51.96%\n",
      "10-shot accuracy: 81.01%\n"
     ]
    }
   ],
   "source": [
    "print_score(scores)"
   ]
  },
  {
   "cell_type": "markdown",
   "id": "ecacf820",
   "metadata": {},
   "source": [
    "# RRF"
   ]
  },
  {
   "cell_type": "code",
   "execution_count": 51,
   "id": "08727fba",
   "metadata": {},
   "outputs": [],
   "source": [
    "def make_rank(queries, db, full=False):\n",
    "    ## query와 db를 넣으면 id의 list를 리턴\n",
    "    scores = np.full([len(queries), 10], -1)\n",
    "    for i in tqdm(range(len(queries))):\n",
    "        query = queries.iloc[i]\n",
    "        results = db.similarity_search(query, k=10)\n",
    "        for j in range(len(results)):\n",
    "            scores[i][j] = results[j].metadata['index']\n",
    "    return scores"
   ]
  },
  {
   "cell_type": "code",
   "execution_count": 53,
   "id": "e5815eec",
   "metadata": {},
   "outputs": [
    {
     "name": "stderr",
     "output_type": "stream",
     "text": [
      "100%|██████████| 179/179 [01:04<00:00,  2.79it/s]\n"
     ]
    }
   ],
   "source": [
    "ranks = make_rank(queries, recursive_db, full=True)"
   ]
  },
  {
   "cell_type": "code",
   "execution_count": 54,
   "id": "223794c5",
   "metadata": {},
   "outputs": [],
   "source": [
    "def make_lexical_rank(queries, lexical_db, full=False):\n",
    "    scores = np.full([len(queries), 10], -1)\n",
    "    for i in tqdm(range(len(queries))):\n",
    "        query = queries.iloc[i]\n",
    "        results = lexical_db.invoke(query, k=10)\n",
    "        for j in range(len(results)):\n",
    "            scores[i][j] = results[j].metadata['index']\n",
    "    return scores"
   ]
  },
  {
   "cell_type": "code",
   "execution_count": 55,
   "id": "edb30af5",
   "metadata": {},
   "outputs": [
    {
     "name": "stderr",
     "output_type": "stream",
     "text": [
      "100%|██████████| 179/179 [00:06<00:00, 26.93it/s]\n"
     ]
    }
   ],
   "source": [
    "# lexical_db = BM25Retriever.from_documents(total_chunks, preprocess_func=clean_tokens, k=10,\n",
    "#                                            bm25_params={\"k1\": 1.2, \"b\": 0.5})\n",
    "# lexical_db = BM25Retriever.from_documents(total_chunks, preprocess_func=clean_tokens, k=10)\n",
    "\n",
    "lexical_ranks = make_lexical_rank(queries, lexical_db, full=True)"
   ]
  },
  {
   "cell_type": "code",
   "execution_count": 56,
   "id": "93eeef74",
   "metadata": {},
   "outputs": [],
   "source": [
    "def rrf(multi_scores, k=1):        #n*10개의 입력, id로 들어옴\n",
    "    score = 0.0\n",
    "    score_dict = defaultdict(int)\n",
    "    for scores in multi_scores:\n",
    "        for rank, id in enumerate(scores):\n",
    "            score = 1.0 / ( k + rank+1)       #index는 0부터 시작하므로 +1\n",
    "            score_dict[id]+=score\n",
    "    score_dict = sorted(score_dict.items(), key=lambda x: x[1], reverse=True)\n",
    "    return score_dict"
   ]
  },
  {
   "cell_type": "code",
   "execution_count": null,
   "id": "4f9828ad",
   "metadata": {},
   "outputs": [
    {
     "name": "stderr",
     "output_type": "stream",
     "text": [
      "100%|██████████| 179/179 [01:05<00:00,  2.73it/s]\n",
      "100%|██████████| 179/179 [00:06<00:00, 26.88it/s]\n"
     ]
    }
   ],
   "source": [
    "# RRF 성능 확인을 위해 각 점수를 chk'\n",
    "semantic_scores = make_score(queries, db, full=True)\n",
    "lexical_score = make_lexical_score(queries, lexical_db, full=True)"
   ]
  },
  {
   "cell_type": "code",
   "execution_count": null,
   "id": "6f33a333",
   "metadata": {},
   "outputs": [
    {
     "name": "stdout",
     "output_type": "stream",
     "text": [
      "1-shot accuracy: 78.21%\n",
      "10-shot accuracy: 95.53%\n",
      "1-shot accuracy: 51.96%\n",
      "10-shot accuracy: 81.01%\n"
     ]
    }
   ],
   "source": [
    "print_score(semantic_scores)\n",
    "print_score(lexical_score)"
   ]
  },
  {
   "cell_type": "code",
   "execution_count": 81,
   "id": "e7c8d76f",
   "metadata": {},
   "outputs": [],
   "source": [
    "results=[]\n",
    "for i,v in enumerate(range(len(queries))):\n",
    "    result = rrf([ranks[i], lexical_ranks[i]], k=1)\n",
    "    results.append(result)"
   ]
  },
  {
   "cell_type": "code",
   "execution_count": 82,
   "id": "3bfca6ae",
   "metadata": {},
   "outputs": [],
   "source": [
    "scores = np.zeros([len(queries), 10])\n",
    "for i in range(len(results)):\n",
    "    for j in range(min(10, len(results[i]))):\n",
    "        if results[i][j][0] == i:\n",
    "            scores[i][j]=1"
   ]
  },
  {
   "cell_type": "code",
   "execution_count": 83,
   "id": "6765e9b3",
   "metadata": {},
   "outputs": [
    {
     "name": "stdout",
     "output_type": "stream",
     "text": [
      "1-shot accuracy: 69.27%\n",
      "10-shot accuracy: 95.53%\n"
     ]
    }
   ],
   "source": [
    "print_score(scores)"
   ]
  },
  {
   "cell_type": "code",
   "execution_count": 84,
   "id": "a3b5773e",
   "metadata": {},
   "outputs": [
    {
     "name": "stderr",
     "output_type": "stream",
     "text": [
      "100%|██████████| 179/179 [01:11<00:00,  2.52it/s]\n",
      "100%|██████████| 179/179 [00:07<00:00, 23.61it/s]"
     ]
    },
    {
     "name": "stdout",
     "output_type": "stream",
     "text": [
      "1-shot accuracy: 74.30%\n",
      "10-shot accuracy: 95.53%\n"
     ]
    },
    {
     "name": "stderr",
     "output_type": "stream",
     "text": [
      "\n"
     ]
    }
   ],
   "source": [
    "ranks = make_rank(queries, recursive_db, full=True)\n",
    "lexical_db = BM25Retriever.from_documents(recursive_chunks, preprocess_func=clean_tokens, k=10)\n",
    "lexical_ranks = make_lexical_rank(queries, lexical_db, full=True)\n",
    "\n",
    "results=[]\n",
    "for i,v in enumerate(range(len(queries))):\n",
    "    result = rrf([ranks[i], lexical_ranks[i]], k=1)\n",
    "    results.append(result)\n",
    "\n",
    "scores = np.zeros([len(queries), 10])\n",
    "for i in range(len(results)):\n",
    "    for j in range(min(10, len(results[i]))):\n",
    "        if results[i][j][0] == i:\n",
    "            scores[i][j]=1\n",
    "\n",
    "print_score(scores)"
   ]
  },
  {
   "cell_type": "code",
   "execution_count": 85,
   "id": "b86fa160",
   "metadata": {},
   "outputs": [
    {
     "name": "stdout",
     "output_type": "stream",
     "text": [
      "1-shot accuracy: 74.30%\n",
      "10-shot accuracy: 95.53%\n"
     ]
    }
   ],
   "source": [
    "scores = np.zeros([len(queries), 10])\n",
    "for i in range(len(results)):\n",
    "    for j in range(min(10, len(results[i]))):\n",
    "        if results[i][j][0] == i:\n",
    "            scores[i][j]=1\n",
    "\n",
    "print_score(scores)"
   ]
  },
  {
   "cell_type": "code",
   "execution_count": null,
   "id": "ee142614",
   "metadata": {},
   "outputs": [
    {
     "name": "stdout",
     "output_type": "stream",
     "text": [
      "[2, 4, 5, 6, 7, 9, 10, 11, 12, 13, 14, 16, 18, 19, 20, 21, 22, 23, 24, 25, 26, 27, 28, 29, 31, 32, 33, 34, 35, 36, 38, 39, 40, 41, 44, 45, 46, 47, 48, 49, 51, 52, 53, 54, 55, 56, 57, 58, 59, 61, 62, 63, 64, 65, 66, 67, 69, 70, 71, 72, 73, 75, 76, 77, 78, 79, 80, 81, 82, 85, 86, 87, 88, 89, 90, 92, 93, 94, 95, 96, 97, 99, 100, 101, 102, 103, 104, 106, 107, 110, 111, 114, 115, 118, 120, 121, 122, 123, 124, 125, 127, 128, 129, 131, 132, 133, 134, 135, 137, 138, 139, 140, 141, 142, 143, 144, 145, 146, 148, 150, 151, 152, 153, 154, 155, 156, 157, 160, 161, 162, 163, 164, 165, 169, 170, 171, 172, 174, 177, 178]\n",
      "[6, 7, 9, 11, 15, 18, 22, 24, 25, 29, 31, 32, 41, 44, 48, 49, 50, 51, 52, 53, 55, 57, 58, 60, 61, 62, 63, 66, 69, 70, 71, 72, 76, 78, 79, 80, 81, 84, 85, 86, 87, 88, 92, 93, 95, 99, 100, 103, 106, 116, 117, 118, 121, 122, 124, 127, 128, 129, 130, 132, 133, 134, 135, 138, 139, 140, 141, 142, 144, 145, 146, 148, 150, 151, 152, 153, 154, 155, 156, 157, 159, 162, 164, 168, 169, 170, 171, 172, 173, 174, 176, 177, 178]\n"
     ]
    }
   ],
   "source": [
    "semantic_match = [i for i, num in enumerate(semantic_scores[:,0]) if num==1]\n",
    "lexical_match = [i for i, num in enumerate(lexical_score[:,0]) if num==1]\n",
    "\n",
    "# one shot 결과 확인하여 서로 보완이 가능할지 chk`\n",
    "print(semantic_match)\n",
    "print(lexical_match)"
   ]
  },
  {
   "cell_type": "code",
   "execution_count": 104,
   "id": "f725c2c8",
   "metadata": {},
   "outputs": [
    {
     "data": {
      "image/png": "[encoded data removed]",
      "text/plain": [
       "<Figure size 1400x400 with 1 Axes>"
      ]
     },
     "metadata": {},
     "output_type": "display_data"
    }
   ],
   "source": [
    "# 시각화\n",
    "semantic_set = set(semantic_match)\n",
    "lexical_set = set(lexical_match)\n",
    "common = semantic_set & lexical_set\n",
    "\n",
    "# 시각화\n",
    "plt.figure(figsize=(14, 4))\n",
    "\n",
    "# Semantic match\n",
    "plt.scatter(semantic_match, [1]*len(semantic_match), label=\"Semantic\", color=\"orange\", marker=\"o\")\n",
    "\n",
    "# Lexical match\n",
    "plt.scatter(lexical_match, [0]*len(lexical_match), label=\"Lexical\", color=\"blue\", marker=\"x\")\n",
    "\n",
    "# 공통 인덱스\n",
    "plt.scatter(list(common), [0.5]*len(common), label=\"Common\", color=\"red\", marker=\"*\", s=120)\n",
    "\n",
    "plt.yticks([0, 1], ['Lexical', 'Semantic'])\n",
    "plt.xlabel(\"Index\")\n",
    "plt.title(\"Semantic vs Lexical Match Index Comparison\")\n",
    "plt.legend()\n",
    "plt.grid(True)\n",
    "plt.tight_layout()\n",
    "plt.show()"
   ]
  },
  {
   "cell_type": "code",
   "execution_count": 106,
   "id": "88def429",
   "metadata": {},
   "outputs": [
    {
     "data": {
      "image/png": "[encoded data removed]",
      "text/plain": [
       "<Figure size 1400x400 with 1 Axes>"
      ]
     },
     "metadata": {},
     "output_type": "display_data"
    }
   ],
   "source": [
    "semantic_only = list(set(semantic_match) - set(lexical_match))\n",
    "lexical_only = list(set(lexical_match) - set(semantic_match))\n",
    "\n",
    "# 시각화\n",
    "plt.figure(figsize=(14, 4))\n",
    "\n",
    "# 고유 Semantic match (공통 제외)\n",
    "plt.scatter(semantic_only, [1]*len(semantic_only), label=\"Semantic Only\", color=\"orange\", marker=\"o\")\n",
    "\n",
    "# 고유 Lexical match (공통 제외)\n",
    "plt.scatter(lexical_only, [0]*len(lexical_only), label=\"Lexical Only\", color=\"blue\", marker=\"x\")\n",
    "\n",
    "# 레이블 및 레이아웃\n",
    "plt.yticks([0, 1], ['Lexical Only', 'Semantic Only'])\n",
    "plt.xlabel(\"Index\")\n",
    "plt.title(\"Exclusive Matches (Common Removed)\")\n",
    "plt.legend()\n",
    "plt.grid(True)\n",
    "plt.tight_layout()\n",
    "plt.show()"
   ]
  },
  {
   "cell_type": "code",
   "execution_count": null,
   "id": "b31d5e0b",
   "metadata": {},
   "outputs": [],
   "source": []
  },
  {
   "cell_type": "code",
   "execution_count": null,
   "id": "b0910b83",
   "metadata": {},
   "outputs": [],
   "source": []
  },
  {
   "cell_type": "code",
   "execution_count": null,
   "id": "4e6eb88c",
   "metadata": {},
   "outputs": [],
   "source": []
  }
 ],
 "metadata": {
  "kernelspec": {
   "display_name": "Test3",
   "language": "python",
   "name": "python3"
  },
  "language_info": {
   "codemirror_mode": {
    "name": "ipython",
    "version": 3
   },
   "file_extension": ".py",
   "mimetype": "text/x-python",
   "name": "python",
   "nbconvert_exporter": "python",
   "pygments_lexer": "ipython3",
   "version": "3.10.12"
  }
 },
 "nbformat": 4,
 "nbformat_minor": 5
}
