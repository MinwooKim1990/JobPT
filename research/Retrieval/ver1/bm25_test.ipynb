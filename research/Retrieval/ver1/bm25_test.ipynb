{
 "cells": [
  {
   "cell_type": "code",
   "execution_count": 1,
   "id": "fa620587",
   "metadata": {},
   "outputs": [],
   "source": [
    "import pandas as pd\n",
    "import sys\n",
    "import numpy as np\n",
    "import os\n",
    "\n",
    "sys.path.append('../../system/')\n",
    "# from parser import run_parser, convert_pdf_to_jpg     #for image preprocess\n",
    "# from get_similarity.utils.preprocess import preprocess\n",
    "from configs import JD_PATH, COLLECTION, DB_PATH\n",
    "\n",
    "from insert_chunks import *\n",
    "from tqdm import tqdm\n",
    "from collections import Counter, defaultdict\n",
    "from uuid import uuid4\n",
    "from dotenv import load_dotenv\n",
    "\n",
    "from nltk.tokenize import word_tokenize\n",
    "from langchain_community.retrievers import BM25Retriever\n",
    "import string"
   ]
  },
  {
   "cell_type": "code",
   "execution_count": 2,
   "id": "d98a8f0d",
   "metadata": {},
   "outputs": [],
   "source": [
    "def preprocess(df):\n",
    "    ## 기존과 데이터가 달라져서 대부분의 전처리 과정이 필요없음\n",
    "    df.dropna(subset=['description', 'is_remote'], inplace=True)\n",
    "    df = df.reset_index(drop=True)\n",
    "    return df"
   ]
  },
  {
   "cell_type": "code",
   "execution_count": 3,
   "id": "c511b196",
   "metadata": {},
   "outputs": [],
   "source": [
    "def classify_jobpype(df):\n",
    "    remove_index = []\n",
    "    for idx, data in df.iterrows():\n",
    "        job_type = data[\"job_type\"]\n",
    "        if \"fulltime\" in job_type:\n",
    "            label=\"fulltime\"\n",
    "        elif \"parttime\" in job_type:\n",
    "            label=\"parttime\"\n",
    "        elif \"contract\" in job_type:\n",
    "            label=\"fulltime\"\n",
    "        elif \"internship\" in job_type:\n",
    "            label=\"fulltime\"\n",
    "        #대부분 위 4개의 카테고리에 속함, 그렇지 않은경우 제거\n",
    "        else:\n",
    "            remove_index.append(idx)\n",
    "\n",
    "        df.at[idx, \"job_type\"] = label\n",
    "\n",
    "    for index in remove_index:\n",
    "        print(f\"Removing index: {index}\")\n",
    "        df.drop(index, inplace=True)\n",
    "        \n",
    "    return df"
   ]
  },
  {
   "cell_type": "code",
   "execution_count": 4,
   "id": "7d2ed94c",
   "metadata": {},
   "outputs": [
    {
     "name": "stdout",
     "output_type": "stream",
     "text": [
      "updated_jd/USA_Back-End_jobs_total_filtered.csv\n",
      "updated_jd/Germany_marketing_jobs_total_filtered.csv\n",
      "updated_jd/Germany_Back-End_jobs_total_filtered.csv\n",
      "updated_jd/UK_Machine Learning_jobs_total_filtered.csv\n",
      "updated_jd/UK_mechanical engineer_jobs_total_filtered.csv\n",
      "updated_jd/USA_mechanical engineer_jobs_total_filtered.csv\n",
      "updated_jd/Germany_Machine Learning_jobs_total_filtered.csv\n",
      "updated_jd/Germany_Front-End_jobs_total_filtered.csv\n",
      "updated_jd/Germany_mechanical engineer_jobs_total_filtered.csv\n",
      "updated_jd/UK_marketing_jobs_total_filtered.csv\n",
      "updated_jd/UK_Front-End_jobs_total_filtered.csv\n",
      "updated_jd/USA_marketing_jobs_total_filtered.csv\n",
      "updated_jd/USA_Machine Learning_jobs_total_filtered.csv\n",
      "updated_jd/USA_Front-End_jobs_total_filtered.csv\n",
      "updated_jd/UK_Back-End_jobs_total_filtered.csv\n"
     ]
    }
   ],
   "source": [
    "JD_PATH = \"updated_jd\"\n",
    "jd_folder = JD_PATH\n",
    "full_paths = []\n",
    "for jd_path in os.listdir(jd_folder):\n",
    "    full_paths.append(os.path.join(jd_folder, jd_path))\n",
    "\n",
    "### vectorDB에 들어갈 파일들\n",
    "for path in full_paths:\n",
    "    print(path)"
   ]
  },
  {
   "cell_type": "code",
   "execution_count": 5,
   "id": "33be7883",
   "metadata": {},
   "outputs": [
    {
     "name": "stdout",
     "output_type": "stream",
     "text": [
      "(1184, 8)\n",
      "704\n",
      "중복 제거 후 description 개수: 704\n"
     ]
    }
   ],
   "source": [
    "all_dfs = []\n",
    "\n",
    "for path in full_paths:\n",
    "    df = pd.read_csv(path)\n",
    "    df[\"location\"] = path.split(\"/\")[-1].split(\"_\")[0]\n",
    "    # print(df.shape)\n",
    "    all_dfs.append(df)\n",
    "# 하나의 DataFrame으로 병합\n",
    "merged_df = pd.concat(all_dfs, ignore_index=True)\n",
    "# 확인\n",
    "print(merged_df.shape)\n",
    "\n",
    "#description 기준 중복값 제거\n",
    "print(len(merged_df[\"description\"].unique()))\n",
    "merged_df_dedup = merged_df.drop_duplicates(subset=\"description\")\n",
    "# 중복 제거 후 행 수 출력\n",
    "print(f\"중복 제거 후 description 개수: {len(merged_df_dedup)}\")\n"
   ]
  },
  {
   "cell_type": "code",
   "execution_count": 6,
   "id": "71e8c5c9",
   "metadata": {},
   "outputs": [
    {
     "name": "stdout",
     "output_type": "stream",
     "text": [
      "Removing index: 566\n",
      "703\n"
     ]
    },
    {
     "name": "stderr",
     "output_type": "stream",
     "text": [
      "/tmp/ipykernel_36288/4198774661.py:21: SettingWithCopyWarning: \n",
      "A value is trying to be set on a copy of a slice from a DataFrame\n",
      "\n",
      "See the caveats in the documentation: https://pandas.pydata.org/pandas-docs/stable/user_guide/indexing.html#returning-a-view-versus-a-copy\n",
      "  df.drop(index, inplace=True)\n"
     ]
    }
   ],
   "source": [
    "merged_df_dedup = classify_jobpype(merged_df_dedup)\n",
    "print(len(merged_df_dedup))"
   ]
  },
  {
   "cell_type": "code",
   "execution_count": 7,
   "id": "5298325f",
   "metadata": {},
   "outputs": [
    {
     "data": {
      "text/plain": [
       "691"
      ]
     },
     "execution_count": 7,
     "metadata": {},
     "output_type": "execute_result"
    }
   ],
   "source": [
    "## 길이가 과하게 긴 문서 제거\n",
    "max_len = 10000\n",
    "merged_df_dedup = merged_df_dedup[merged_df_dedup['description'].apply(lambda x: len(x) <= max_len if isinstance(x, str) else True)]\n",
    "len(merged_df_dedup)"
   ]
  },
  {
   "cell_type": "code",
   "execution_count": 8,
   "id": "dbb6dd62",
   "metadata": {},
   "outputs": [],
   "source": [
    "final_df = preprocess(merged_df_dedup)"
   ]
  },
  {
   "cell_type": "code",
   "execution_count": 9,
   "id": "da819e58",
   "metadata": {},
   "outputs": [
    {
     "name": "stdout",
     "output_type": "stream",
     "text": [
      "2741\n"
     ]
    }
   ],
   "source": [
    "### chunk로 나누어주어야 BM25가 더 잘 작동함\n",
    "\n",
    "emb_model = load_emb_model()\n",
    "#### 지금은 semantic chunking을 사용했는데 파이썬 파일 제작시에는 recursive chunking 사용할 것\n",
    "total_chunks = get_chunks(final_df, set_splitter(emb_model))   # semantic chunking, langchain document list 반환\n",
    "print(len(total_chunks))"
   ]
  },
  {
   "cell_type": "markdown",
   "id": "49c567e9",
   "metadata": {},
   "source": [
    "# Make lexical DB"
   ]
  },
  {
   "cell_type": "code",
   "execution_count": 10,
   "id": "0b43678e",
   "metadata": {},
   "outputs": [],
   "source": [
    "def clean_tokens(text: str):\n",
    "    \"\"\"공백 기준 토큰화 후 특수문자 제거·소문자 변환\"\"\"\n",
    "    tokens = text.split()                       # ① 공백 기준 분리\n",
    "    cleaned = []\n",
    "    for tok in tokens:\n",
    "        # ② 토큰 앞뒤 특수문자 제거  ( ###Job**  →  Job )\n",
    "        tok = tok.strip(string.punctuation)\n",
    "        # ③ 소문자 변환\n",
    "        tok = tok.lower()\n",
    "        # ④ 빈 토큰·순수 특수문자 토큰은 건너뛰기\n",
    "        if tok and not all(ch in string.punctuation for ch in tok):\n",
    "            cleaned.append(tok)\n",
    "    return cleaned\n",
    "\n",
    "#### 예제 출력\n",
    "# sample = \"\"\"##### **Job Type: Contract** ##### **Job Category: IT** #### **Job Description**\n",
    "# Job Title: Azure GenAI Engineer ...\"\"\"\n",
    "# print(clean_tokens(sample)[:40])   # 앞 40개 토큰만 확인"
   ]
  },
  {
   "cell_type": "code",
   "execution_count": 11,
   "id": "d7c87c24",
   "metadata": {},
   "outputs": [
    {
     "data": {
      "text/plain": [
       "['Full', 'Stack', 'Developer', ',', 'Senior']"
      ]
     },
     "execution_count": 11,
     "metadata": {},
     "output_type": "execute_result"
    }
   ],
   "source": [
    "word_tokenize(total_chunks[0].page_content)[:5]"
   ]
  },
  {
   "cell_type": "code",
   "execution_count": 12,
   "id": "7eafe6f8",
   "metadata": {},
   "outputs": [],
   "source": [
    "#기본 tokenizer는 기본 sentence.split()으로 되어있음, markdown 불용어 처리만 더하여 토크나이징\n",
    "# retriever = BM25Retriever.from_documents(total_chunks, preprocess_func=clean_tokens)\n",
    "retriever = BM25Retriever.from_documents(total_chunks, preprocess_func=word_tokenize)\n",
    "                                        #  bm25_params={\"k1\": 1.2, \"b\": 0.5})\n"
   ]
  },
  {
   "cell_type": "code",
   "execution_count": 13,
   "id": "e4b3cce2",
   "metadata": {},
   "outputs": [
    {
     "name": "stderr",
     "output_type": "stream",
     "text": [
      "/tmp/ipykernel_36288/62100555.py:1: LangChainDeprecationWarning: The method `BaseRetriever.get_relevant_documents` was deprecated in langchain-core 0.1.46 and will be removed in 1.0. Use :meth:`~invoke` instead.\n",
      "  retriever.get_relevant_documents(\"azure genai engineer\")  # 검색 쿼리\n"
     ]
    },
    {
     "data": {
      "text/plain": [
       "[Document(metadata={'job_url': 'https://www.indeed.com/viewjob?jk=75e354ef2304575e', 'title': 'Data Engineer', 'company': 'Booz Allen Hamilton', 'location': 'USA', 'date_posted': '2025-05-08', 'job_type': 'fulltime', 'is_remote': True, 'description': \"Data Engineer**The Opportunity:**\\n\\n\\nEver\\\\\\\\-expanding technology like IoT, machine learning, and artificial intelligence means that there’s more structured and unstructured data available today than ever before. As a data engineer, you know that organizing big data can yield pivotal insights when it’s gathered from disparate sources. We need an experienced data engineer like you to help our clients find answers in their big data to impact important missions—from fraud detection to cancer research to national intelligence.\\n\\n  \\n\\nAs a data engineer at Booz Allen, you’ll implement data engineering activities on some of the most mission\\\\\\\\-driven projects in the industry. You’ll deploy and develop pipelines and platforms that organize and make disparate data meaningful.\\n\\n  \\n\\nHere, you’ll work with and guide a multi\\\\\\\\-disciplinary team of analysts, data engineers, developers, and data consumers in a fast\\\\\\\\-paced, Agile environment. You’ll use your experience in analytical exploration and data examination while you manage the assessment, design, building, and maintenance of scalable platforms for your clients.\\n\\n  \\n\\nJoin us. The world can’t wait.\\n\\n **You Have:**\\n\\n* 8\\\\\\\\+ years of experience with Python, SQL, or Scala\\n* 8\\\\\\\\+ years of experience building scalable ETL and ELT workflows with Amazon Web Services or Microsoft Azure\\n* 8\\\\\\\\+ years of experience with designing, developing, operationalizing, and maintaining complex data applications at enterprise scale\\n* Experience with working in a demanding, collaborative, and cross\\\\\\\\-functional team environment\\n* Secret clearance\\n* Bachelor's degree\\n\\n **Nice If You Have:**\\n\\n* Experience working at a Combatant Command\\n* Experience with working on real\\\\\\\\-time data and streaming applications\\n* Ability to develop scripts and programs for converting various types of IoT and sensor data into usable formats\\n\\n **Clearance:**\\n\\nApplicants selected will be subject to a security investigation and may need to meet eligibility requirements for access to classified information; Secret clearance is required.\\n\\n**Compensation**\\n\\n\\nAt Booz Allen, we celebrate your contributions, provide you with opportunities and choices, and support your total well\\\\\\\\-being. Our offerings include health, life, disability, financial, and retirement benefits, as well as paid leave, professional development, tuition assistance, work\\\\\\\\-life programs, and dependent care. Our recognition awards program acknowledges employees for exceptional performance and superior demonstration of our values. Full\\\\\\\\-time and part\\\\\\\\-time employees working at least 20 hours a week on a regular basis are eligible to participate in Booz Allen’s benefit programs. Individuals that do not meet the threshold are only eligible for select offerings, not inclusive of health benefits. We encourage you to learn more about our total benefits by visiting the Resource page on our Careers site and reviewing Our Employee Benefits page.\\n\\n\\nSalary at Booz Allen is determined by various factors, including but not limited to location, the individual’s particular combination of education, knowledge, skills, competencies, and experience, as well as contract\\\\\\\\-specific affordability and organizational requirements. The projected compensation range for this position is $77,500\\\\\\\\.00 to $176,000\\\\\\\\.00 (annualized USD). The estimate displayed represents the typical salary range for this position and is just one component of Booz Allen’s total compensation package for employees. This posting will close within 90 days from the Posting Date.**Identity Statement**\\n\\n\\nAs part of the application process, you are expected to be on camera during interviews and assessments. We reserve the right to take your picture to verify your identity and prevent fraud.\\n\\n**Work Model**  \\n\\nOur people\\\\\\\\-first culture prioritizes the benefits of flexibility and collaboration, whether that happens in person or remotely.\\n\\n* If this position is listed as remote or hybrid, you’ll periodically work from a Booz Allen or client site facility.\\n* If this position is listed as onsite, you’ll work with colleagues and clients in person, as needed for the specific role.\\n\\n**Commitment to Non\\\\\\\\-Discrimination**\\n\\n\\nAll qualified applicants will receive consideration for employment without regard to disability, status as a protected veteran or any other status protected by applicable federal, state, local, or international law.\"}, page_content='Data Engineer**The Opportunity:**\\n\\n\\nEver\\\\\\\\-expanding technology like IoT, machine learning, and artificial intelligence means that there’s more structured and unstructured data available today than ever before. As a data engineer, you know that organizing big data can yield pivotal insights when it’s gathered from disparate sources. We need an experienced data engineer like you to help our clients find answers in their big data to impact important missions—from fraud detection to cancer research to national intelligence. As a data engineer at Booz Allen, you’ll implement data engineering activities on some of the most mission\\\\\\\\-driven projects in the industry. You’ll deploy and develop pipelines and platforms that organize and make disparate data meaningful. Here, you’ll work with and guide a multi\\\\\\\\-disciplinary team of analysts, data engineers, developers, and data consumers in a fast\\\\\\\\-paced, Agile environment. You’ll use your experience in analytical exploration and data examination while you manage the assessment, design, building, and maintenance of scalable platforms for your clients. Join us.'),\n",
       " Document(metadata={'job_url': 'https://www.indeed.com/viewjob?jk=02b452b830fa8195', 'title': 'Mid- Level Mechanical Engineer', 'company': 'Dewberry', 'location': 'USA', 'date_posted': '2025-05-08', 'job_type': 'fulltime', 'is_remote': False, 'description': 'Job Description:\\n\\nDewberry is currently seeking a **Mid\\\\\\\\-Level** **Mechanical Engineer** for our **Fairfax, VA** office. Duties will include building information modeling (BIM), design, drawing production, specification writing, discipline coordination between the various trades, shop drawing and submittal reviews, construction site reviews, and code reviews for MEP systems for Dewberry projects. *Dewberry is a leading, market\\\\\\\\-facing professional services firm with more than 60 locations and 2,500 professionals nationwide. What sets us apart from our competitors are our people. At Dewberry, we seek out exceptional talent and strive to deliver the highest quality of services to our clients. Whether you’re an experienced professional or a new graduate, you’ll have the chance to collaborate with the best and brightest and work on innovative and complex projects at the forefront of the industry. Our commitment to excellence stems from our personal integrity and from other defining attributes, which we call “Dewberry at Work,” that have inspired our employees to be successful for more than a half\\\\\\\\-century.*  \\n\\n\\nResponsibilities:\\n\\nFocus will be on HVAC mechanical systems, sustainable design, and energy efficiency for buildings, however, this position may also include assisting with other building systems and the construction process in the various engineering disciplines practiced by Dewberry: sustainable design, mechanical, electrical, plumbing, fire protection, construction services, energy modeling, and commissioning.  \\n\\nExperience with AutoCad MEP and Revit MEP software is required. USGBC LEED Accreditation is a plus. PE or EIT certification is plus. Full time experience in the MEP engineering industry is a plus. The position requires a strong technical background and attention to detail and quality control. Position is for a person considering an upward professional engineering career path aspiring to project engineer, senior project engineer, assistant project manager, project manager, assistant department head, and department head.\\nRequired Skills \\\\\\\\& Required Experience:\\n* BS Mechanical Engineering or Architect Engineering degree required.\\n* Experience in running HVAC loads and energy modeling using Trane Trace software, preferred.\\n* Experience using HVAC Solutions software is preferred.\\n* Experience designing mechanical systems for buildings in Revit and AutoCAD.\\n* Must be a self\\\\\\\\-starter with initiative, drive and determination.\\n\\n**Must have a valid driver’s license, good driving record and ability to pass a driving record background check.** *Don’t meet every single requirement? At Dewberry we are dedicated to building a diverse and inclusive workplace for our employee’s. So if you’re excited about this role, but your past experience doesn’t align perfectly with every qualification in the position description, we encourage you to apply anyway. You may just be the right candidate for this or other opportunities.** At this time, Dewberry will not sponsor a new applicant for work authorization.\\n* Dewberry is an Equal Opportunity/ Affirmative Action Employer. All qualified applicants will receive consideration for employment without regard to race, color, religion, sex, national origin, disability, or protected veteran status.\\n* Only recipients of an offer of employment from Dewberry, will be required to submit to a background screening which may include, but is not limited to, employment verification, educational and other credential verification, driving record check, criminal background check, and an investigative consumer report. These screenings will be conducted by Dewberry’s background vendor of choice and will be conducted in compliance with all applicable federal, state, and local law.\\n\\n **Notice to Third Party Recruiters:** Dewberry only compensates job placement recruiters that have a valid Dewberry\\\\\\\\-approved written agreement in place for recruiting services. Dewberry does not compensate third party recruiters for unsolicited job placement candidate information.'}, page_content='USGBC LEED Accreditation is a plus. PE or EIT certification is plus. Full time experience in the MEP engineering industry is a plus. The position requires a strong technical background and attention to detail and quality control. Position is for a person considering an upward professional engineering career path aspiring to project engineer, senior project engineer, assistant project manager, project manager, assistant department head, and department head. Required Skills \\\\\\\\& Required Experience:\\n* BS Mechanical Engineering or Architect Engineering degree required. * Experience in running HVAC loads and energy modeling using Trane Trace software, preferred. * Experience using HVAC Solutions software is preferred. * Experience designing mechanical systems for buildings in Revit and AutoCAD. * Must be a self\\\\\\\\-starter with initiative, drive and determination.'),\n",
       " Document(metadata={'job_url': 'https://uk.indeed.com/viewjob?jk=538459343e85bec4', 'title': 'Women in Engineering Community', 'company': 'MBDA', 'location': 'UK', 'date_posted': '2025-05-08', 'job_type': 'fulltime', 'is_remote': True, 'description': '***Bolton***\\n\\n**Women in Engineering – Careers at MBDA**\\n\\n\\nDo you have post\\\\\\\\-education industry experience as a **skilled engineer**, **mathematician** or **physicist**? Ideally we are looking for proven experience within these domains.\\n\\n\\nAre you looking for a workplace that values the abilities, experiences and the talent you bring? If so, please upload your CV here.\\n\\n**At MBDA, we know that diverse teams deliver better, more innovative results, and we are committed to a workplace where everyone can reach their full potential. If you are a skilled, mathematician, physicist or engineer looking for a new opportunity apply today.**\\n\\n**Join one of our Engineering Departments:**\\n\\n\\nFrom seekers to warheads, requirements to integration, missiles to launchers, our engineers ensure that MBDA\\'s products remain at the forefront of technical innovation and deliver competitive advantage to our sovereign nations and export partners alike.\\n\\n\\nIf you are looking to step into industry or a change in career direction, Why not consider looking at our Early Careers opportunities. You can find out more information about these via our dedicated pages on our website\\n\\n\\n**Why choose MBDA?**\\n\\n**We value our women in engineering and actively encourage greater gender balance across our business and our industry.**\\n\\n\\nWe\\'re a European leader in weapon system design and development, and proud of the work we do that enables our Armed Forces to protect our nations, people and freedoms.\\n\\n* Top Employer: With awards from The Sunday Times Best Places to Work 2024, Glassdoor Best Places to Work 2022, and Gold in all Investors in People categories.\\n* Dynamic Workforce: 5,500 individuals working together across our Stevenage, Bolton and Bristol sites, across every engineering discipline and stage of our products\\' lifecycles.\\n* Unique Products, Challenges and Technologies: Work on projects unlike those of any industry outside defence.\\n\\n\\nCore Engineering Domains:\\n\\n* Systems Engineering\\n* Software Engineering\\n* Electrical and Electronic Engineering\\n* Algorithms\\n* Simulation and Modelling\\n* Mechanical Engineering\\n* Hardware Engineering\\n* Supportability / ILS Engineering\\n\\n**Apply today!**\\n\\n\\nDue to the nature of our work, we are only able to accept applications from British Citizens or a Dual UK nationals with British citizenship.\\n\\n\\nFor specific opportunities, we encourage you to explore all our vacancies and apply directly on our website at **www.mbdacareers.co.uk/career\\\\\\\\-areas****.**\\n\\nIf your skills and experience align to one or more of our engineering domains but you aren\\'t sure which vacancy to apply for, you can upload your CV to the ‘Women in Engineering Community\\'. We will review your information and get in touch if we have a suitable opportunity for you to consider at this time.\\n\\n\\nAfter you\\'ve uploaded your CV, we also recommend setting up ‘Job Alerts\\', via your ‘Candidate Home\\'.\\n\\n**Our Culture:**\\n\\n* Inclusive Environment: Diverse thinking is encouraged at MBDA, and everyone is given a voice at the table. Employee\\\\\\\\-led communities and mentors are also available to help you build your network and exchange learning with others.\\n* Career Growth: We encourage career development in whatever direction you want to take it, and provide all the training needed to ensure you develop the skills and confidence to achieve your goals.\\n* Flexible and family friendly, whatever shape that takes: We\\'re members of Working Families and work closely with our Parents \\\\\\\\& Carers employee network to listen to employee feedback. We support formal flexible working requests to accommodate your commitments and where possible, through Dynamic Working we provide a blended approach to where, when and how we work. See our benefits below for more detail.\\n\\n**Our commitment to gender balance, diversity and inclusion in Defence and Engineering:**\\n\\n* Proud signatory of the Women in Defence Charter\\n* Fawcett partners of Women in Defence\\n* Core members of WISE \\\\\\\\- enabling and promoting the participation, contribution and success of women in the UK STEM workforce\\n* Sponsors of Royal Academy of Engineering\\'s \"This is Engineering\" campaign – inspiring young people into careers in Engineering\\n* Founding members of Neurodiversity in Business\\n* Disability Confident – Committed\\n* Committed members of Inclusive Employers\\n\\n**What we can offer:**\\n\\n* Formal Flexible Working to accommodate your commitments\\n* Hybrid working: Where possible, we will seek to accommodate a blended approach to on\\\\\\\\-site and remote working. Note: due to the nature of our work and workload classification, many of our engineering roles require an element of onsite working. This can range from 2\\\\\\\\-5 days a week depending on the role.\\n* Enhanced pay for additional hours (depending on level)\\n* 25 days annual leave\\n* Additional holiday purchase available and enhanced continuous service annual leave\\n* Up to 15 days additional flexi leave (depending on level)\\n* Company bonus schemes\\n* Pension of maximum total (employer and employee) contribution of up to 14%\\n* Enhanced Parental Leave offers up to 26 weeks for maternity, adoption and shared parental leave. Enhancements are available for paternity leave, neonatal leave and fertility testing and treatments\\n* Healthcare benefits for all, including Private Medical Insurance at Exec Level\\n* Fantastic site facilities, including subsidised meals, free car parking and more\\n* Excellent training, career progression and development opportunities\\n* We may be able to offer a relocation package\\n\\n**Networks/Communities:**\\n\\n\\nMBDA UK are proud to have a wide range of employee led networks to promote a working environment that is positive and supportive, where everyone is able to reach their full potential.\\n\\n* **GEN\\\\\\\\-EQ:** Gender network aiming to inspire and encourage\\n* **Pride at MBDA:** Passionate about creating an inclusive culture\\n* **Mosaic**: Championing ethnic diversity at MBDA\\n* **Neurodiversity:** Dedicated to raising awareness and challenging misperceptions\\n* **Menopause Matters:** An environment where conversations about menopause is normalised\\n* **Parents and Carers community:** Supportive environment for parents and those with caring responsibilities\\n* **Disability Network**\\n\\n**Our Business:**\\n\\n**Security Clearance**: British Citizen or a Dual UK national with British citizenship.\\n\\n\\nRestrictions and/or limitations relating to nationality and/or rights to work may apply. As a minimum and after offer stage, all successful candidates will need to undergo HMG Basic Personnel Security Standard checks (BPSS), which are managed by the MBDA Personnel Security Team.\\n\\n\\nWe recognise that everyone is unique, and we encourage you to speak to us should you require any advice, support or adjustments throughout our recruitment process. We also welcome applicants who are looking for flexible working arrangements.\\n\\n\\nFollow us on LinkedIn (MBDA), X (@MBDA\\\\\\\\_UK), Instagram (MBDA\\\\\\\\_UK) and Glassdoor or visit our MBDA Careers website for more information.\\n\\n\\n\\\\\\\\#LI\\\\\\\\-DNI\\n\\n  \\n\\n\\\\\\\\#LI\\\\\\\\-LA1'}, page_content='***Bolton***\\n\\n**Women in Engineering – Careers at MBDA**\\n\\n\\nDo you have post\\\\\\\\-education industry experience as a **skilled engineer**, **mathematician** or **physicist**? Ideally we are looking for proven experience within these domains.'),\n",
       " Document(metadata={'job_url': 'https://uk.indeed.com/viewjob?jk=cbf5cda38adc3dc2', 'title': 'Women in Engineering Community', 'company': 'MBDA', 'location': 'UK', 'date_posted': '2025-05-08', 'job_type': 'fulltime', 'is_remote': True, 'description': '***Stevenage***\\n\\n**Women in Engineering – Careers at MBDA**\\n\\n\\nDo you have post\\\\\\\\-education industry experience as a **skilled engineer**, **mathematician** or **physicist**? Ideally we are looking for proven experience within these domains.\\n\\n\\nAre you looking for a workplace that values the abilities, experiences and the talent you bring? If so, please upload your CV here.\\n\\n**At MBDA, we know that diverse teams deliver better, more innovative results, and we are committed to a workplace where everyone can reach their full potential. If you are a skilled, mathematician, physicist or engineer looking for a new opportunity apply today.**\\n\\n**Join one of our Engineering Departments:**\\n\\n\\nFrom seekers to warheads, requirements to integration, missiles to launchers, our engineers ensure that MBDA\\'s products remain at the forefront of technical innovation and deliver competitive advantage to our sovereign nations and export partners alike.\\n\\n\\nIf you are looking to step into industry or a change in career direction, Why not consider looking at our Early Careers opportunities. You can find out more information about these via our dedicated pages on our website\\n\\n\\n**Why choose MBDA?**\\n\\n**We value our women in engineering and actively encourage greater gender balance across our business and our industry.**\\n\\n\\nWe\\'re a European leader in weapon system design and development, and proud of the work we do that enables our Armed Forces to protect our nations, people and freedoms.\\n\\n* Top Employer: With awards from The Sunday Times Best Places to Work 2024, Glassdoor Best Places to Work 2022, and Gold in all Investors in People categories.\\n* Dynamic Workforce: 5,500 individuals working together across our Stevenage, Bolton and Bristol sites, across every engineering discipline and stage of our products\\' lifecycles.\\n* Unique Products, Challenges and Technologies: Work on projects unlike those of any industry outside defence.\\n\\n\\nCore Engineering Domains:\\n\\n* Systems Engineering\\n* Software Engineering\\n* Electrical and Electronic Engineering\\n* Algorithms\\n* Simulation and Modelling\\n* Mechanical Engineering\\n* Hardware Engineering\\n* Supportability / ILS Engineering\\n\\n**Apply today!**\\n\\n\\nDue to the nature of our work, we are only able to accept applications from British Citizens or a Dual UK nationals with British citizenship.\\n\\n\\nFor specific opportunities, we encourage you to explore all our vacancies and apply directly on our website at **www.mbdacareers.co.uk/career\\\\\\\\-areas****.**\\n\\nIf your skills and experience align to one or more of our engineering domains but you aren\\'t sure which vacancy to apply for, you can upload your CV to the ‘Women in Engineering Community\\'. We will review your information and get in touch if we have a suitable opportunity for you to consider at this time.\\n\\n\\nAfter you\\'ve uploaded your CV, we also recommend setting up ‘Job Alerts\\', via your ‘Candidate Home\\'.\\n\\n**Our Culture:**\\n\\n* Inclusive Environment: Diverse thinking is encouraged at MBDA, and everyone is given a voice at the table. Employee\\\\\\\\-led communities and mentors are also available to help you build your network and exchange learning with others.\\n* Career Growth: We encourage career development in whatever direction you want to take it, and provide all the training needed to ensure you develop the skills and confidence to achieve your goals.\\n* Flexible and family friendly, whatever shape that takes: We\\'re members of Working Families and work closely with our Parents \\\\\\\\& Carers employee network to listen to employee feedback. We support formal flexible working requests to accommodate your commitments and where possible, through Dynamic Working we provide a blended approach to where, when and how we work. See our benefits below for more detail.\\n\\n**Our commitment to gender balance, diversity and inclusion in Defence and Engineering:**\\n\\n* Proud signatory of the Women in Defence Charter\\n* Fawcett partners of Women in Defence\\n* Core members of WISE \\\\\\\\- enabling and promoting the participation, contribution and success of women in the UK STEM workforce\\n* Sponsors of Royal Academy of Engineering\\'s \"This is Engineering\" campaign – inspiring young people into careers in Engineering\\n* Founding members of Neurodiversity in Business\\n* Disability Confident – Committed\\n* Committed members of Inclusive Employers\\n\\n**What we can offer:**\\n\\n* Formal Flexible Working to accommodate your commitments\\n* Hybrid working: Where possible, we will seek to accommodate a blended approach to on\\\\\\\\-site and remote working. Note: due to the nature of our work and workload classification, many of our engineering roles require an element of onsite working. This can range from 2\\\\\\\\-5 days a week depending on the role.\\n* Enhanced pay for additional hours (depending on level)\\n* 25 days annual leave\\n* Additional holiday purchase available and enhanced continuous service annual leave\\n* Up to 15 days additional flexi leave (depending on level)\\n* Company bonus schemes\\n* Pension of maximum total (employer and employee) contribution of up to 14%\\n* Enhanced Parental Leave offers up to 26 weeks for maternity, adoption and shared parental leave. Enhancements are available for paternity leave, neonatal leave and fertility testing and treatments\\n* Healthcare benefits for all, including Private Medical Insurance at Exec Level\\n* Fantastic site facilities, including subsidised meals, free car parking and more\\n* Excellent training, career progression and development opportunities\\n* We may be able to offer a relocation package\\n\\n**Networks/Communities:**\\n\\n\\nMBDA UK are proud to have a wide range of employee led networks to promote a working environment that is positive and supportive, where everyone is able to reach their full potential.\\n\\n* **GEN\\\\\\\\-EQ:** Gender network aiming to inspire and encourage\\n* **Pride at MBDA:** Passionate about creating an inclusive culture\\n* **Mosaic**: Championing ethnic diversity at MBDA\\n* **Neurodiversity:** Dedicated to raising awareness and challenging misperceptions\\n* **Menopause Matters:** An environment where conversations about menopause is normalised\\n* **Parents and Carers community:** Supportive environment for parents and those with caring responsibilities\\n* **Disability Network**\\n\\n**Our Business:**\\n\\n**Security Clearance**: British Citizen or a Dual UK national with British citizenship.\\n\\n\\nRestrictions and/or limitations relating to nationality and/or rights to work may apply. As a minimum and after offer stage, all successful candidates will need to undergo HMG Basic Personnel Security Standard checks (BPSS), which are managed by the MBDA Personnel Security Team.\\n\\n\\nWe recognise that everyone is unique, and we encourage you to speak to us should you require any advice, support or adjustments throughout our recruitment process. We also welcome applicants who are looking for flexible working arrangements.\\n\\n\\nFollow us on LinkedIn (MBDA), X (@MBDA\\\\\\\\_UK), Instagram (MBDA\\\\\\\\_UK) and Glassdoor or visit our MBDA Careers website for more information.\\n\\n\\n\\\\\\\\#LI\\\\\\\\-DNI\\n\\n  \\n\\n\\\\\\\\#LI\\\\\\\\-LA1'}, page_content='***Stevenage***\\n\\n**Women in Engineering – Careers at MBDA**\\n\\n\\nDo you have post\\\\\\\\-education industry experience as a **skilled engineer**, **mathematician** or **physicist**? Ideally we are looking for proven experience within these domains.')]"
      ]
     },
     "execution_count": 13,
     "metadata": {},
     "output_type": "execute_result"
    }
   ],
   "source": [
    "retriever.get_relevant_documents(\"azure genai engineer\")  # 검색 쿼리"
   ]
  },
  {
   "cell_type": "code",
   "execution_count": 14,
   "id": "2f66b55e",
   "metadata": {},
   "outputs": [],
   "source": [
    "sorted_dict = dict(sorted(retriever.vectorizer.idf.items(), key=lambda item: item[1], reverse=True))"
   ]
  },
  {
   "cell_type": "code",
   "execution_count": 23,
   "id": "2a51079d",
   "metadata": {},
   "outputs": [
    {
     "data": {
      "text/plain": [
       "[('responds', 7.510430556378006),\n",
       " ('lockdown', 7.510430556378006),\n",
       " ('Kit', 7.510430556378006),\n",
       " ('Gin', 7.510430556378006),\n",
       " ('Toolkit', 7.510430556378006),\n",
       " ('Struts', 7.510430556378006),\n",
       " ('antipattern', 7.510430556378006),\n",
       " ('diagnosing', 7.510430556378006),\n",
       " ('86,800\\\\\\\\.00', 7.510430556378006),\n",
       " ('198,000\\\\\\\\.00', 7.510430556378006)]"
      ]
     },
     "execution_count": 23,
     "metadata": {},
     "output_type": "execute_result"
    }
   ],
   "source": [
    "list(sorted_dict.items())[:10]"
   ]
  },
  {
   "cell_type": "code",
   "execution_count": 24,
   "id": "a969607a",
   "metadata": {},
   "outputs": [
    {
     "data": {
      "text/plain": [
       "26744"
      ]
     },
     "execution_count": 24,
     "metadata": {},
     "output_type": "execute_result"
    }
   ],
   "source": [
    "len(sorted_dict)"
   ]
  },
  {
   "cell_type": "code",
   "execution_count": 26,
   "id": "73ef587f",
   "metadata": {},
   "outputs": [],
   "source": [
    "import pickle\n",
    "from pathlib import Path\n",
    "\n",
    "\n",
    "SAVE_PATH = Path(\"temp_bm25_retriever.pkl\")\n",
    "with SAVE_PATH.open(\"wb\") as f:\n",
    "    pickle.dump(retriever, f)"
   ]
  },
  {
   "cell_type": "code",
   "execution_count": 27,
   "id": "805e63ae",
   "metadata": {},
   "outputs": [],
   "source": [
    "\n",
    "with open(\"temp_bm25_retriever.pkl\", \"rb\") as f:\n",
    "    data = pickle.load(f)"
   ]
  },
  {
   "cell_type": "code",
   "execution_count": 28,
   "id": "7461be4e",
   "metadata": {},
   "outputs": [
    {
     "data": {
      "text/plain": [
       "[Document(metadata={'job_url': 'https://www.indeed.com/viewjob?jk=75e354ef2304575e', 'title': 'Data Engineer', 'company': 'Booz Allen Hamilton', 'location': 'USA', 'date_posted': '2025-05-08', 'job_type': 'fulltime', 'is_remote': True, 'description': \"Data Engineer**The Opportunity:**\\n\\n\\nEver\\\\\\\\-expanding technology like IoT, machine learning, and artificial intelligence means that there’s more structured and unstructured data available today than ever before. As a data engineer, you know that organizing big data can yield pivotal insights when it’s gathered from disparate sources. We need an experienced data engineer like you to help our clients find answers in their big data to impact important missions—from fraud detection to cancer research to national intelligence.\\n\\n  \\n\\nAs a data engineer at Booz Allen, you’ll implement data engineering activities on some of the most mission\\\\\\\\-driven projects in the industry. You’ll deploy and develop pipelines and platforms that organize and make disparate data meaningful.\\n\\n  \\n\\nHere, you’ll work with and guide a multi\\\\\\\\-disciplinary team of analysts, data engineers, developers, and data consumers in a fast\\\\\\\\-paced, Agile environment. You’ll use your experience in analytical exploration and data examination while you manage the assessment, design, building, and maintenance of scalable platforms for your clients.\\n\\n  \\n\\nJoin us. The world can’t wait.\\n\\n **You Have:**\\n\\n* 8\\\\\\\\+ years of experience with Python, SQL, or Scala\\n* 8\\\\\\\\+ years of experience building scalable ETL and ELT workflows with Amazon Web Services or Microsoft Azure\\n* 8\\\\\\\\+ years of experience with designing, developing, operationalizing, and maintaining complex data applications at enterprise scale\\n* Experience with working in a demanding, collaborative, and cross\\\\\\\\-functional team environment\\n* Secret clearance\\n* Bachelor's degree\\n\\n **Nice If You Have:**\\n\\n* Experience working at a Combatant Command\\n* Experience with working on real\\\\\\\\-time data and streaming applications\\n* Ability to develop scripts and programs for converting various types of IoT and sensor data into usable formats\\n\\n **Clearance:**\\n\\nApplicants selected will be subject to a security investigation and may need to meet eligibility requirements for access to classified information; Secret clearance is required.\\n\\n**Compensation**\\n\\n\\nAt Booz Allen, we celebrate your contributions, provide you with opportunities and choices, and support your total well\\\\\\\\-being. Our offerings include health, life, disability, financial, and retirement benefits, as well as paid leave, professional development, tuition assistance, work\\\\\\\\-life programs, and dependent care. Our recognition awards program acknowledges employees for exceptional performance and superior demonstration of our values. Full\\\\\\\\-time and part\\\\\\\\-time employees working at least 20 hours a week on a regular basis are eligible to participate in Booz Allen’s benefit programs. Individuals that do not meet the threshold are only eligible for select offerings, not inclusive of health benefits. We encourage you to learn more about our total benefits by visiting the Resource page on our Careers site and reviewing Our Employee Benefits page.\\n\\n\\nSalary at Booz Allen is determined by various factors, including but not limited to location, the individual’s particular combination of education, knowledge, skills, competencies, and experience, as well as contract\\\\\\\\-specific affordability and organizational requirements. The projected compensation range for this position is $77,500\\\\\\\\.00 to $176,000\\\\\\\\.00 (annualized USD). The estimate displayed represents the typical salary range for this position and is just one component of Booz Allen’s total compensation package for employees. This posting will close within 90 days from the Posting Date.**Identity Statement**\\n\\n\\nAs part of the application process, you are expected to be on camera during interviews and assessments. We reserve the right to take your picture to verify your identity and prevent fraud.\\n\\n**Work Model**  \\n\\nOur people\\\\\\\\-first culture prioritizes the benefits of flexibility and collaboration, whether that happens in person or remotely.\\n\\n* If this position is listed as remote or hybrid, you’ll periodically work from a Booz Allen or client site facility.\\n* If this position is listed as onsite, you’ll work with colleagues and clients in person, as needed for the specific role.\\n\\n**Commitment to Non\\\\\\\\-Discrimination**\\n\\n\\nAll qualified applicants will receive consideration for employment without regard to disability, status as a protected veteran or any other status protected by applicable federal, state, local, or international law.\"}, page_content='Data Engineer**The Opportunity:**\\n\\n\\nEver\\\\\\\\-expanding technology like IoT, machine learning, and artificial intelligence means that there’s more structured and unstructured data available today than ever before. As a data engineer, you know that organizing big data can yield pivotal insights when it’s gathered from disparate sources. We need an experienced data engineer like you to help our clients find answers in their big data to impact important missions—from fraud detection to cancer research to national intelligence. As a data engineer at Booz Allen, you’ll implement data engineering activities on some of the most mission\\\\\\\\-driven projects in the industry. You’ll deploy and develop pipelines and platforms that organize and make disparate data meaningful. Here, you’ll work with and guide a multi\\\\\\\\-disciplinary team of analysts, data engineers, developers, and data consumers in a fast\\\\\\\\-paced, Agile environment. You’ll use your experience in analytical exploration and data examination while you manage the assessment, design, building, and maintenance of scalable platforms for your clients. Join us.'),\n",
       " Document(metadata={'job_url': 'https://www.indeed.com/viewjob?jk=02b452b830fa8195', 'title': 'Mid- Level Mechanical Engineer', 'company': 'Dewberry', 'location': 'USA', 'date_posted': '2025-05-08', 'job_type': 'fulltime', 'is_remote': False, 'description': 'Job Description:\\n\\nDewberry is currently seeking a **Mid\\\\\\\\-Level** **Mechanical Engineer** for our **Fairfax, VA** office. Duties will include building information modeling (BIM), design, drawing production, specification writing, discipline coordination between the various trades, shop drawing and submittal reviews, construction site reviews, and code reviews for MEP systems for Dewberry projects. *Dewberry is a leading, market\\\\\\\\-facing professional services firm with more than 60 locations and 2,500 professionals nationwide. What sets us apart from our competitors are our people. At Dewberry, we seek out exceptional talent and strive to deliver the highest quality of services to our clients. Whether you’re an experienced professional or a new graduate, you’ll have the chance to collaborate with the best and brightest and work on innovative and complex projects at the forefront of the industry. Our commitment to excellence stems from our personal integrity and from other defining attributes, which we call “Dewberry at Work,” that have inspired our employees to be successful for more than a half\\\\\\\\-century.*  \\n\\n\\nResponsibilities:\\n\\nFocus will be on HVAC mechanical systems, sustainable design, and energy efficiency for buildings, however, this position may also include assisting with other building systems and the construction process in the various engineering disciplines practiced by Dewberry: sustainable design, mechanical, electrical, plumbing, fire protection, construction services, energy modeling, and commissioning.  \\n\\nExperience with AutoCad MEP and Revit MEP software is required. USGBC LEED Accreditation is a plus. PE or EIT certification is plus. Full time experience in the MEP engineering industry is a plus. The position requires a strong technical background and attention to detail and quality control. Position is for a person considering an upward professional engineering career path aspiring to project engineer, senior project engineer, assistant project manager, project manager, assistant department head, and department head.\\nRequired Skills \\\\\\\\& Required Experience:\\n* BS Mechanical Engineering or Architect Engineering degree required.\\n* Experience in running HVAC loads and energy modeling using Trane Trace software, preferred.\\n* Experience using HVAC Solutions software is preferred.\\n* Experience designing mechanical systems for buildings in Revit and AutoCAD.\\n* Must be a self\\\\\\\\-starter with initiative, drive and determination.\\n\\n**Must have a valid driver’s license, good driving record and ability to pass a driving record background check.** *Don’t meet every single requirement? At Dewberry we are dedicated to building a diverse and inclusive workplace for our employee’s. So if you’re excited about this role, but your past experience doesn’t align perfectly with every qualification in the position description, we encourage you to apply anyway. You may just be the right candidate for this or other opportunities.** At this time, Dewberry will not sponsor a new applicant for work authorization.\\n* Dewberry is an Equal Opportunity/ Affirmative Action Employer. All qualified applicants will receive consideration for employment without regard to race, color, religion, sex, national origin, disability, or protected veteran status.\\n* Only recipients of an offer of employment from Dewberry, will be required to submit to a background screening which may include, but is not limited to, employment verification, educational and other credential verification, driving record check, criminal background check, and an investigative consumer report. These screenings will be conducted by Dewberry’s background vendor of choice and will be conducted in compliance with all applicable federal, state, and local law.\\n\\n **Notice to Third Party Recruiters:** Dewberry only compensates job placement recruiters that have a valid Dewberry\\\\\\\\-approved written agreement in place for recruiting services. Dewberry does not compensate third party recruiters for unsolicited job placement candidate information.'}, page_content='USGBC LEED Accreditation is a plus. PE or EIT certification is plus. Full time experience in the MEP engineering industry is a plus. The position requires a strong technical background and attention to detail and quality control. Position is for a person considering an upward professional engineering career path aspiring to project engineer, senior project engineer, assistant project manager, project manager, assistant department head, and department head. Required Skills \\\\\\\\& Required Experience:\\n* BS Mechanical Engineering or Architect Engineering degree required. * Experience in running HVAC loads and energy modeling using Trane Trace software, preferred. * Experience using HVAC Solutions software is preferred. * Experience designing mechanical systems for buildings in Revit and AutoCAD. * Must be a self\\\\\\\\-starter with initiative, drive and determination.'),\n",
       " Document(metadata={'job_url': 'https://uk.indeed.com/viewjob?jk=538459343e85bec4', 'title': 'Women in Engineering Community', 'company': 'MBDA', 'location': 'UK', 'date_posted': '2025-05-08', 'job_type': 'fulltime', 'is_remote': True, 'description': '***Bolton***\\n\\n**Women in Engineering – Careers at MBDA**\\n\\n\\nDo you have post\\\\\\\\-education industry experience as a **skilled engineer**, **mathematician** or **physicist**? Ideally we are looking for proven experience within these domains.\\n\\n\\nAre you looking for a workplace that values the abilities, experiences and the talent you bring? If so, please upload your CV here.\\n\\n**At MBDA, we know that diverse teams deliver better, more innovative results, and we are committed to a workplace where everyone can reach their full potential. If you are a skilled, mathematician, physicist or engineer looking for a new opportunity apply today.**\\n\\n**Join one of our Engineering Departments:**\\n\\n\\nFrom seekers to warheads, requirements to integration, missiles to launchers, our engineers ensure that MBDA\\'s products remain at the forefront of technical innovation and deliver competitive advantage to our sovereign nations and export partners alike.\\n\\n\\nIf you are looking to step into industry or a change in career direction, Why not consider looking at our Early Careers opportunities. You can find out more information about these via our dedicated pages on our website\\n\\n\\n**Why choose MBDA?**\\n\\n**We value our women in engineering and actively encourage greater gender balance across our business and our industry.**\\n\\n\\nWe\\'re a European leader in weapon system design and development, and proud of the work we do that enables our Armed Forces to protect our nations, people and freedoms.\\n\\n* Top Employer: With awards from The Sunday Times Best Places to Work 2024, Glassdoor Best Places to Work 2022, and Gold in all Investors in People categories.\\n* Dynamic Workforce: 5,500 individuals working together across our Stevenage, Bolton and Bristol sites, across every engineering discipline and stage of our products\\' lifecycles.\\n* Unique Products, Challenges and Technologies: Work on projects unlike those of any industry outside defence.\\n\\n\\nCore Engineering Domains:\\n\\n* Systems Engineering\\n* Software Engineering\\n* Electrical and Electronic Engineering\\n* Algorithms\\n* Simulation and Modelling\\n* Mechanical Engineering\\n* Hardware Engineering\\n* Supportability / ILS Engineering\\n\\n**Apply today!**\\n\\n\\nDue to the nature of our work, we are only able to accept applications from British Citizens or a Dual UK nationals with British citizenship.\\n\\n\\nFor specific opportunities, we encourage you to explore all our vacancies and apply directly on our website at **www.mbdacareers.co.uk/career\\\\\\\\-areas****.**\\n\\nIf your skills and experience align to one or more of our engineering domains but you aren\\'t sure which vacancy to apply for, you can upload your CV to the ‘Women in Engineering Community\\'. We will review your information and get in touch if we have a suitable opportunity for you to consider at this time.\\n\\n\\nAfter you\\'ve uploaded your CV, we also recommend setting up ‘Job Alerts\\', via your ‘Candidate Home\\'.\\n\\n**Our Culture:**\\n\\n* Inclusive Environment: Diverse thinking is encouraged at MBDA, and everyone is given a voice at the table. Employee\\\\\\\\-led communities and mentors are also available to help you build your network and exchange learning with others.\\n* Career Growth: We encourage career development in whatever direction you want to take it, and provide all the training needed to ensure you develop the skills and confidence to achieve your goals.\\n* Flexible and family friendly, whatever shape that takes: We\\'re members of Working Families and work closely with our Parents \\\\\\\\& Carers employee network to listen to employee feedback. We support formal flexible working requests to accommodate your commitments and where possible, through Dynamic Working we provide a blended approach to where, when and how we work. See our benefits below for more detail.\\n\\n**Our commitment to gender balance, diversity and inclusion in Defence and Engineering:**\\n\\n* Proud signatory of the Women in Defence Charter\\n* Fawcett partners of Women in Defence\\n* Core members of WISE \\\\\\\\- enabling and promoting the participation, contribution and success of women in the UK STEM workforce\\n* Sponsors of Royal Academy of Engineering\\'s \"This is Engineering\" campaign – inspiring young people into careers in Engineering\\n* Founding members of Neurodiversity in Business\\n* Disability Confident – Committed\\n* Committed members of Inclusive Employers\\n\\n**What we can offer:**\\n\\n* Formal Flexible Working to accommodate your commitments\\n* Hybrid working: Where possible, we will seek to accommodate a blended approach to on\\\\\\\\-site and remote working. Note: due to the nature of our work and workload classification, many of our engineering roles require an element of onsite working. This can range from 2\\\\\\\\-5 days a week depending on the role.\\n* Enhanced pay for additional hours (depending on level)\\n* 25 days annual leave\\n* Additional holiday purchase available and enhanced continuous service annual leave\\n* Up to 15 days additional flexi leave (depending on level)\\n* Company bonus schemes\\n* Pension of maximum total (employer and employee) contribution of up to 14%\\n* Enhanced Parental Leave offers up to 26 weeks for maternity, adoption and shared parental leave. Enhancements are available for paternity leave, neonatal leave and fertility testing and treatments\\n* Healthcare benefits for all, including Private Medical Insurance at Exec Level\\n* Fantastic site facilities, including subsidised meals, free car parking and more\\n* Excellent training, career progression and development opportunities\\n* We may be able to offer a relocation package\\n\\n**Networks/Communities:**\\n\\n\\nMBDA UK are proud to have a wide range of employee led networks to promote a working environment that is positive and supportive, where everyone is able to reach their full potential.\\n\\n* **GEN\\\\\\\\-EQ:** Gender network aiming to inspire and encourage\\n* **Pride at MBDA:** Passionate about creating an inclusive culture\\n* **Mosaic**: Championing ethnic diversity at MBDA\\n* **Neurodiversity:** Dedicated to raising awareness and challenging misperceptions\\n* **Menopause Matters:** An environment where conversations about menopause is normalised\\n* **Parents and Carers community:** Supportive environment for parents and those with caring responsibilities\\n* **Disability Network**\\n\\n**Our Business:**\\n\\n**Security Clearance**: British Citizen or a Dual UK national with British citizenship.\\n\\n\\nRestrictions and/or limitations relating to nationality and/or rights to work may apply. As a minimum and after offer stage, all successful candidates will need to undergo HMG Basic Personnel Security Standard checks (BPSS), which are managed by the MBDA Personnel Security Team.\\n\\n\\nWe recognise that everyone is unique, and we encourage you to speak to us should you require any advice, support or adjustments throughout our recruitment process. We also welcome applicants who are looking for flexible working arrangements.\\n\\n\\nFollow us on LinkedIn (MBDA), X (@MBDA\\\\\\\\_UK), Instagram (MBDA\\\\\\\\_UK) and Glassdoor or visit our MBDA Careers website for more information.\\n\\n\\n\\\\\\\\#LI\\\\\\\\-DNI\\n\\n  \\n\\n\\\\\\\\#LI\\\\\\\\-LA1'}, page_content='***Bolton***\\n\\n**Women in Engineering – Careers at MBDA**\\n\\n\\nDo you have post\\\\\\\\-education industry experience as a **skilled engineer**, **mathematician** or **physicist**? Ideally we are looking for proven experience within these domains.'),\n",
       " Document(metadata={'job_url': 'https://uk.indeed.com/viewjob?jk=cbf5cda38adc3dc2', 'title': 'Women in Engineering Community', 'company': 'MBDA', 'location': 'UK', 'date_posted': '2025-05-08', 'job_type': 'fulltime', 'is_remote': True, 'description': '***Stevenage***\\n\\n**Women in Engineering – Careers at MBDA**\\n\\n\\nDo you have post\\\\\\\\-education industry experience as a **skilled engineer**, **mathematician** or **physicist**? Ideally we are looking for proven experience within these domains.\\n\\n\\nAre you looking for a workplace that values the abilities, experiences and the talent you bring? If so, please upload your CV here.\\n\\n**At MBDA, we know that diverse teams deliver better, more innovative results, and we are committed to a workplace where everyone can reach their full potential. If you are a skilled, mathematician, physicist or engineer looking for a new opportunity apply today.**\\n\\n**Join one of our Engineering Departments:**\\n\\n\\nFrom seekers to warheads, requirements to integration, missiles to launchers, our engineers ensure that MBDA\\'s products remain at the forefront of technical innovation and deliver competitive advantage to our sovereign nations and export partners alike.\\n\\n\\nIf you are looking to step into industry or a change in career direction, Why not consider looking at our Early Careers opportunities. You can find out more information about these via our dedicated pages on our website\\n\\n\\n**Why choose MBDA?**\\n\\n**We value our women in engineering and actively encourage greater gender balance across our business and our industry.**\\n\\n\\nWe\\'re a European leader in weapon system design and development, and proud of the work we do that enables our Armed Forces to protect our nations, people and freedoms.\\n\\n* Top Employer: With awards from The Sunday Times Best Places to Work 2024, Glassdoor Best Places to Work 2022, and Gold in all Investors in People categories.\\n* Dynamic Workforce: 5,500 individuals working together across our Stevenage, Bolton and Bristol sites, across every engineering discipline and stage of our products\\' lifecycles.\\n* Unique Products, Challenges and Technologies: Work on projects unlike those of any industry outside defence.\\n\\n\\nCore Engineering Domains:\\n\\n* Systems Engineering\\n* Software Engineering\\n* Electrical and Electronic Engineering\\n* Algorithms\\n* Simulation and Modelling\\n* Mechanical Engineering\\n* Hardware Engineering\\n* Supportability / ILS Engineering\\n\\n**Apply today!**\\n\\n\\nDue to the nature of our work, we are only able to accept applications from British Citizens or a Dual UK nationals with British citizenship.\\n\\n\\nFor specific opportunities, we encourage you to explore all our vacancies and apply directly on our website at **www.mbdacareers.co.uk/career\\\\\\\\-areas****.**\\n\\nIf your skills and experience align to one or more of our engineering domains but you aren\\'t sure which vacancy to apply for, you can upload your CV to the ‘Women in Engineering Community\\'. We will review your information and get in touch if we have a suitable opportunity for you to consider at this time.\\n\\n\\nAfter you\\'ve uploaded your CV, we also recommend setting up ‘Job Alerts\\', via your ‘Candidate Home\\'.\\n\\n**Our Culture:**\\n\\n* Inclusive Environment: Diverse thinking is encouraged at MBDA, and everyone is given a voice at the table. Employee\\\\\\\\-led communities and mentors are also available to help you build your network and exchange learning with others.\\n* Career Growth: We encourage career development in whatever direction you want to take it, and provide all the training needed to ensure you develop the skills and confidence to achieve your goals.\\n* Flexible and family friendly, whatever shape that takes: We\\'re members of Working Families and work closely with our Parents \\\\\\\\& Carers employee network to listen to employee feedback. We support formal flexible working requests to accommodate your commitments and where possible, through Dynamic Working we provide a blended approach to where, when and how we work. See our benefits below for more detail.\\n\\n**Our commitment to gender balance, diversity and inclusion in Defence and Engineering:**\\n\\n* Proud signatory of the Women in Defence Charter\\n* Fawcett partners of Women in Defence\\n* Core members of WISE \\\\\\\\- enabling and promoting the participation, contribution and success of women in the UK STEM workforce\\n* Sponsors of Royal Academy of Engineering\\'s \"This is Engineering\" campaign – inspiring young people into careers in Engineering\\n* Founding members of Neurodiversity in Business\\n* Disability Confident – Committed\\n* Committed members of Inclusive Employers\\n\\n**What we can offer:**\\n\\n* Formal Flexible Working to accommodate your commitments\\n* Hybrid working: Where possible, we will seek to accommodate a blended approach to on\\\\\\\\-site and remote working. Note: due to the nature of our work and workload classification, many of our engineering roles require an element of onsite working. This can range from 2\\\\\\\\-5 days a week depending on the role.\\n* Enhanced pay for additional hours (depending on level)\\n* 25 days annual leave\\n* Additional holiday purchase available and enhanced continuous service annual leave\\n* Up to 15 days additional flexi leave (depending on level)\\n* Company bonus schemes\\n* Pension of maximum total (employer and employee) contribution of up to 14%\\n* Enhanced Parental Leave offers up to 26 weeks for maternity, adoption and shared parental leave. Enhancements are available for paternity leave, neonatal leave and fertility testing and treatments\\n* Healthcare benefits for all, including Private Medical Insurance at Exec Level\\n* Fantastic site facilities, including subsidised meals, free car parking and more\\n* Excellent training, career progression and development opportunities\\n* We may be able to offer a relocation package\\n\\n**Networks/Communities:**\\n\\n\\nMBDA UK are proud to have a wide range of employee led networks to promote a working environment that is positive and supportive, where everyone is able to reach their full potential.\\n\\n* **GEN\\\\\\\\-EQ:** Gender network aiming to inspire and encourage\\n* **Pride at MBDA:** Passionate about creating an inclusive culture\\n* **Mosaic**: Championing ethnic diversity at MBDA\\n* **Neurodiversity:** Dedicated to raising awareness and challenging misperceptions\\n* **Menopause Matters:** An environment where conversations about menopause is normalised\\n* **Parents and Carers community:** Supportive environment for parents and those with caring responsibilities\\n* **Disability Network**\\n\\n**Our Business:**\\n\\n**Security Clearance**: British Citizen or a Dual UK national with British citizenship.\\n\\n\\nRestrictions and/or limitations relating to nationality and/or rights to work may apply. As a minimum and after offer stage, all successful candidates will need to undergo HMG Basic Personnel Security Standard checks (BPSS), which are managed by the MBDA Personnel Security Team.\\n\\n\\nWe recognise that everyone is unique, and we encourage you to speak to us should you require any advice, support or adjustments throughout our recruitment process. We also welcome applicants who are looking for flexible working arrangements.\\n\\n\\nFollow us on LinkedIn (MBDA), X (@MBDA\\\\\\\\_UK), Instagram (MBDA\\\\\\\\_UK) and Glassdoor or visit our MBDA Careers website for more information.\\n\\n\\n\\\\\\\\#LI\\\\\\\\-DNI\\n\\n  \\n\\n\\\\\\\\#LI\\\\\\\\-LA1'}, page_content='***Stevenage***\\n\\n**Women in Engineering – Careers at MBDA**\\n\\n\\nDo you have post\\\\\\\\-education industry experience as a **skilled engineer**, **mathematician** or **physicist**? Ideally we are looking for proven experience within these domains.')]"
      ]
     },
     "execution_count": 28,
     "metadata": {},
     "output_type": "execute_result"
    }
   ],
   "source": [
    "data.get_relevant_documents(\"azure genai engineer\")  # 검색 쿼리"
   ]
  }
 ],
 "metadata": {
  "kernelspec": {
   "display_name": "Test3",
   "language": "python",
   "name": "python3"
  },
  "language_info": {
   "codemirror_mode": {
    "name": "ipython",
    "version": 3
   },
   "file_extension": ".py",
   "mimetype": "text/x-python",
   "name": "python",
   "nbconvert_exporter": "python",
   "pygments_lexer": "ipython3",
   "version": "3.10.12"
  }
 },
 "nbformat": 4,
 "nbformat_minor": 5
}
