{
 "cells": [
  {
   "cell_type": "code",
   "execution_count": 1,
   "id": "d0a5156f",
   "metadata": {},
   "outputs": [],
   "source": [
    "import pandas as pd\n",
    "import matplotlib.pyplot as plt\n",
    "import sys\n",
    "import os\n",
    "import yaml\n",
    "from dotenv import  load_dotenv\n",
    "\n",
    "import numpy as np\n",
    "sys.path.append('../../system/')\n",
    "from get_similarity.utils.preprocess import preprocess\n",
    "# from langchain_experimental.text_splitter import SemanticChunker\n",
    "from langchain_openai import OpenAIEmbeddings\n",
    "from langchain.embeddings import CacheBackedEmbeddings\n",
    "from langchain.storage import LocalFileStore\n",
    "from langchain_chroma import Chroma\n",
    "from configs import JD_PATH, COLLECTION, DB_PATH\n",
    "\n",
    "from insert_chunks import *\n",
    "from tqdm import tqdm\n",
    "from collections import defaultdict\n",
    "import re\n",
    "from uuid import uuid4"
   ]
  },
  {
   "cell_type": "markdown",
   "id": "74fd589b",
   "metadata": {},
   "source": [
    "## 현재 vectorDB document"
   ]
  },
  {
   "cell_type": "code",
   "execution_count": 2,
   "id": "e35c0d23",
   "metadata": {},
   "outputs": [],
   "source": [
    "JD_PATH = \"../../data/jd_origin\"\n",
    "jd_folder = JD_PATH\n",
    "for jd_path in os.listdir(jd_folder):\n",
    "    full_path = os.path.join(jd_folder, jd_path)"
   ]
  },
  {
   "cell_type": "code",
   "execution_count": 3,
   "id": "eea0d9e9",
   "metadata": {},
   "outputs": [],
   "source": [
    "emb_model = load_emb_model()\n",
    "preprocessed_doc = preprocess(full_path)    #dataframe\n",
    "total_chunks = get_chunks(preprocessed_doc, set_splitter(emb_model))"
   ]
  },
  {
   "cell_type": "code",
   "execution_count": 4,
   "id": "efcc4671",
   "metadata": {},
   "outputs": [
    {
     "data": {
      "text/plain": [
       "'#####  **Job Type: Contract**\\n\\n##### **Job Category: IT**\\n\\n#### **Job Description**\\n\\nJob Title: Azure GenAI Engineer\\n\\nJob Summary:\\n\\nWe are seeking a highly skilled Azure GenAI Engineer to join our team and help\\ndrive the development and implementation of cutting-edge artificial\\nintelligence solutions on the Azure platform. The ideal candidate will have a\\ndeep understanding of Azure services, machine learning models, and data\\nanalytics to create robust and scalable AI solutions for our clients.'"
      ]
     },
     "execution_count": 4,
     "metadata": {},
     "output_type": "execute_result"
    }
   ],
   "source": [
    "total_chunks[0].page_content"
   ]
  },
  {
   "cell_type": "markdown",
   "id": "3cdf5706",
   "metadata": {},
   "source": [
    "## 현재 vectorDB query process"
   ]
  },
  {
   "cell_type": "code",
   "execution_count": 5,
   "id": "804f8e32",
   "metadata": {},
   "outputs": [
    {
     "name": "stdout",
     "output_type": "stream",
     "text": [
      "벤치마크 데이터셋 크기: 60\n"
     ]
    }
   ],
   "source": [
    "# 생성된 CV전문(`generated_cv`column)을 Omniparser로 처리된 데이터로 가정\n",
    "# o3-mini의 generation_score가 제일높아 사용\n",
    "dataset = pd.read_csv(\"./data/evaluation/o3-mini_evaluation2.csv\")\n",
    "print(f\"벤치마크 데이터셋 크기: {len(dataset)}\")"
   ]
  },
  {
   "cell_type": "code",
   "execution_count": 6,
   "id": "afb45538",
   "metadata": {},
   "outputs": [
    {
     "name": "stdout",
     "output_type": "stream",
     "text": [
      "필터링된 데이터셋 크기: 38\n"
     ]
    }
   ],
   "source": [
    "dataset = dataset[dataset[\"generation_score\"]>=40]\n",
    "print(f\"필터링된 데이터셋 크기: {len(dataset)}\")"
   ]
  },
  {
   "cell_type": "code",
   "execution_count": 7,
   "id": "52253e1d",
   "metadata": {},
   "outputs": [],
   "source": [
    "jd = dataset['jd']\n",
    "generated_cv = dataset['generated_cv']"
   ]
  },
  {
   "cell_type": "code",
   "execution_count": 8,
   "id": "da3fe59f",
   "metadata": {},
   "outputs": [],
   "source": [
    "# 현재 JobPT의 쿼리 전처리\n",
    "\n",
    "def preprocess_query(parsed_content):\n",
    "\n",
    "    lines = parsed_content.split(\"\\n\")\n",
    "\n",
    "    texts = []\n",
    "    for line in lines:\n",
    "        if \":\" in line:\n",
    "            text = line.split(\":\", 1)[1].strip()\n",
    "            texts.append(text)\n",
    "\n",
    "    processed_texts = []\n",
    "    i = 0\n",
    "    while i < len(texts):\n",
    "        text = texts[i]\n",
    "        if text.endswith(\"-\"):\n",
    "            text = text[:-1]\n",
    "            if i + 1 < len(texts):\n",
    "                text += texts[i + 1]\n",
    "                i += 1\n",
    "        processed_texts.append(text)\n",
    "        i += 1\n",
    "\n",
    "    combined_text = \" \".join(processed_texts)\n",
    "\n",
    "    sentence_endings = re.compile(r\"(?<=[.!?]) +\")\n",
    "    sentences = sentence_endings.split(combined_text)\n",
    "\n",
    "    paragraphs = []\n",
    "    current_paragraph = \"\"\n",
    "    for sentence in sentences:\n",
    "        headings = [\"Education\", \"Publications\", \"Honors\", \"Relevant Courses\", \"GPA\", \"Advisor\", \"Minor\", \"Email\", \"Research Advisor\"]\n",
    "        if any(heading in sentence for heading in headings):\n",
    "            print(f\"sentence: {sentence}\")\n",
    "            if current_paragraph:\n",
    "                paragraphs.append(current_paragraph.strip())\n",
    "            current_paragraph = sentence.strip() + \" \"\n",
    "        else:\n",
    "            current_paragraph += sentence.strip() + \" \"\n",
    "\n",
    "    if current_paragraph:\n",
    "        paragraphs.append(current_paragraph.strip())\n",
    "\n",
    "    # for para in paragraphs:\n",
    "        # print(para)\n",
    "        # print(\"\\n\")\n",
    "\n",
    "    return \"\\n\".join(paragraphs)"
   ]
  },
  {
   "cell_type": "code",
   "execution_count": 9,
   "id": "8af6fd29",
   "metadata": {},
   "outputs": [
    {
     "name": "stdout",
     "output_type": "stream",
     "text": [
      "Photolithography, Thin Film Deposition, Etching, Diffusion, Inspection, Bonding, Sawing & Grinding. Clean Room Equipment, Semiconductor Process Tools, Optical Inspection Systems. Statistical Process Control, Defect Analysis, Calibration, Process Optimization. Safety Protocols, Lean Manufacturing, Six Sigma basics, Team Collaboration, Technical Documentation. Photolithography equipment, Thin Film Deposition systems, Etching apparatus, Digital Process Monitoring, MATLAB, Statistical Process Control tools. PLC Systems, Clean Room Equipment, MES, SCADA, Tableau, Python (for process analytics). MES Systems, PLC, SAP, Custom Database Reporting Tools. PLC, SCADA, SQL, Python, Data Visualization Tools, Custom Analytics Software.\n"
     ]
    }
   ],
   "source": [
    "print(preprocess_query(generated_cv[0]))"
   ]
  },
  {
   "cell_type": "markdown",
   "id": "ca16a77b",
   "metadata": {},
   "source": [
    "# Benchmark"
   ]
  },
  {
   "cell_type": "code",
   "execution_count": 10,
   "id": "05ade985",
   "metadata": {},
   "outputs": [],
   "source": [
    "queries = generated_cv\n",
    "answers = jd"
   ]
  },
  {
   "cell_type": "code",
   "execution_count": 11,
   "id": "fdf4177e",
   "metadata": {},
   "outputs": [],
   "source": [
    "def get_chunks_bench(df, text_splitter):\n",
    "    ## 데이터 프레임을 넣으면 chunking된 결과를 리턴\n",
    "    total_chunks = []\n",
    "    # for i, desciption in enumerate(df[\"description\"]):\n",
    "        # meta_data = [df.loc[i, df.columns != 'description'].to_dict()]\n",
    "        # meta_data = [df.loc[i].to_dict()]\n",
    "    for i, desciption in enumerate(tqdm(df)):\n",
    "\n",
    "\n",
    "        ### 메타데이터는 각 jd별 index로 지정\n",
    "        chunk = text_splitter.create_documents([desciption], [{\"index\": i}])\n",
    "        total_chunks.extend(chunk)\n",
    "    return total_chunks"
   ]
  },
  {
   "cell_type": "code",
   "execution_count": 12,
   "id": "746d5279",
   "metadata": {},
   "outputs": [
    {
     "name": "stderr",
     "output_type": "stream",
     "text": [
      "100%|██████████| 38/38 [00:18<00:00,  2.03it/s]\n"
     ]
    }
   ],
   "source": [
    "total_chunks = get_chunks_bench(jd, set_splitter(emb_model))"
   ]
  },
  {
   "cell_type": "code",
   "execution_count": 13,
   "id": "fc3bf002",
   "metadata": {},
   "outputs": [
    {
     "data": {
      "text/plain": [
       "[Document(metadata={'index': 0}, page_content='Overview:\\n\\n  \\nFujifilm Dimatix, Inc. strives to offer a healthy work environment that\\npromotes individual responsibility and growth, a collaborative spirit, and an\\natmosphere that encourages learning, professional development and achievement. We search for the most talented and qualified people for both external and\\ninternal opportunities. At Fujifilm, performance, development and\\naccountability are the standards to which the company and its people strive\\ntoward. And to support its employees, we offer programs that motivate, educate\\nand promote a healthy work-life balance, which increase employee satisfaction\\nand overall personal well-being. Fujifilm is committed to offering a comprehensive and flexible benefit program\\nto meet the needs of employees and their families. This flexible approach\\nallows employees to create a program that fits their lives. At Fujifilm, INNOVATION _and_ PEOPLE matter. FUJIFILM Dimatix, Inc. is an E-Verify Employer\\n\\n  \\nEO-employer-M/F/Vets/Disabled\\n\\n  \\nATTN Staffing Services: We do not accept unsolicited resumes. External :\\n\\n**Manufacturing Technician, Wafer Fab - Front End Days (FED)**\\n\\n ** _Compressed Work Week-Front End Days - Every Sunday, Monday, Tuesday and\\nevery other Wednesday. 5:30 am- 6:00 pm_**\\n\\n  \\nAs a Manufacturing Technician you will perform functions associated with wafer\\nproduction, including photolithography, thin film, etch, diffusion,\\ninspection, bonding and saw and grind - all in support of the printing\\nindustry. **  \\nEarn $19.00 to $28.20 per hour based on experience and shift**\\n\\n **  \\nGenerous incentive bonus programs**\\n\\n  *  **Retention bonus - **Earn up to 10% of your gross wages within your first 12 months for working on a **_qualifying shift_**.'),\n",
       " Document(metadata={'index': 0}, page_content=\"*  **Referral bonus** **-** Once you are on-board, there is an opportunity to earn even more money with our **referral bonus program.** You can earn up to $1000 after 3 months **PLUS** an additional 10% bonus within their first 12 months of working on a qualifying shift. Keep in mind, the more people you refer, the more you will earn! *  **Annual Bonus -** You will participate in our annual incentive bonus program - the target is 6% of your total compensation less any other bonuses paid, based on the achievement of company goals. **Competitive benefit 's package **\\n\\n  * You qualify for our generous 401(k) match of 100% of the first 5% totally your money from day one\\n  * Day one health, dental, and vision with up to 93% of the premiums paid by us\\n  * We offer **3 weeks PTO** to start, sick time, and 10 paid holidays per year\\n  * Plus, tuition assistance, internships, and career path coaching, and much more! **No Experience? Here 's what we'll teach you!**\\n\\n  * Learn aspects of the manufacturing process and earn certification in one or more of our advanced manufacturing processes in the clean room and/or production areas. **  \\nOther benefits of joining our team**\\n\\nInternship opportunities, cross training, and career path program\\n\\nComplete fitness center with group fitness trainer instruction and\\ncertification  \\nFree coffee, tea, and fruit - all day, every day  \\nSpecial celebrations recognizing our amazing employees.\"),\n",
       " Document(metadata={'index': 0}, page_content=\"Past celebrations\\ninclude Company picnics, annual pie day, the list goes on and on! **  \\nCome grow with our team!**\\n\\nWe are committed to fostering a transparent culture of learning and\\ndevelopment at FUJIFILM Dimatix. As part of our career path program, we have\\nestablished clear performance and competency metrics to help define paths for\\ncareer advancement. We'll train you to be part of an elite team within an\\nengineering community that manufactures world-class print heads in an\\nenvironment filled with cutting edge technology. You'll have access to our\\ngenerous tuition assistance program, as well as our career path program.\"),\n",
       " Document(metadata={'index': 0}, page_content=\"Learn\\nvaluable skills and build the career you always wanted! **  \\nFUJIFILM Dimatix embraces the principles and practices of equal employment\\nopportunity, non-discrimination and workforce diversity. We** **take pride in\\nproviding a safe and judgment-free environment for all our employees. We don\\n't require physical screenings for most positions.**\\n\\n  \\n\\n**Come as you are! We 're ready to welcome you to our team.**\\n\\n **  \\nFUJIFILM Dimatix provides competitive wages, a generous benefits package and a\\nfriendly, dynamic working environment.**\\n\\n _  \\nEO-employer-M/F/Vets/Disabled_\\n\\n _FUJIFILM Dimatix is an E-Verify Employer_\"),\n",
       " Document(metadata={'index': 1}, page_content=\"**A Day in the Life:**\\n\\nWhen you begin your job with us working on the front-end as a courtesy clerk,\\ncustomer service associate, or cashier, you are taking a step towards an\\nopportunity that can help you learn, grow, and even develop a long-lasting\\ncareer! We know you're choosing to invest your time with us, and we are\\ncommitted to doing the same for you through on-the-job and online learning\\nopportunities! Whether you are here for your first job or your last, from\\ngroceries to health needs, you guide, inspire, and make all customers' visit\\nmemorable. We build belonging by creating a diverse and inclusive workforce\\nso, if you have smiles to share, we'd love to have you on our team. **What you bring to the table:**\\n\\n  * You take pride in the work you do, whether big or small. * You believe that food is central to all our lives. * Helping customers and fellow associates gives you energy. * Smiling and making others smile is your favorite. * You are eager, willing, and wanting to learn & grow.\"),\n",
       " Document(metadata={'index': 1}, page_content=\"* You believe that being a part of your community matters. **Why you will choose us:**\\n\\nAlbertsons Companies Inc. has always been a people-oriented business, and\\nthoughtful people practices remain a core element of our company's philosophy. Our goal is to continue to bring people together around the joys of food and\\nto inspire well-being and that starts with people like you bringing your\\nunique self to our company and making it one person stronger and better! We also provide a variety of benefits including:\\n\\n  * Diverse & Inclusive Work Culture \\n  * Competitive Wages Paid Weekly \\n  * Flexible work schedules \\n  * Associate discounts \\n  * Leaders invested in your training, career growth & development. * Health and welfare benefits for eligible employees (Medical, Dental, 401k and more!) \\n  * Vacation / Paid Time Off \\n\\n**Our Values**\\n\\n  * We put people first. * We are customer driven.\"),\n",
       " Document(metadata={'index': 1}, page_content='* We value different perspectives. * We raise the bar. * We act as owners. * We are one team. * We build belonging.'),\n",
       " Document(metadata={'index': 1}, page_content=\"* We are committed to a healthy future. Pay Rate: $15.00 - $18.00\\n\\nStarting rates will be no less than the local minimum wage and may vary based\\non things like location, experience, qualifications and the terms of any\\napplicable collective bargaining agreement. Dependent on length of service,\\nhours worked and any applicable collective bargaining agreement, benefits\\ninclude healthcare, sick pay, PTO/Vacation pay and retirement benefits\\n(pension and/or 401(k) eligibility). **About Us:**\\n\\nAlbertsons Companies is committed to bringing people together around the joys\\nof food and to inspire well-being by transforming the grocery and pharmacy-\\nhealth experience for our customers. Each day, we work to earn customers for\\nlife. Albertsons Companies is a leading food and drug retailer in the United States. The Company operated 2,271 retail stores with 1,722 pharmacies, 401 associated\\nfuel centers, 22 dedicated distribution centers and 19 manufacturing\\nfacilities. The Company operates stores across 34 states and the District of\\nColumbia with 24 banners including Albertsons, Safeway, Vons, Jewel-Osco,\\nShaw's, Acme, Tom Thumb, Randalls, United Supermarkets, Pavilions, Star\\nMarket, Haggen, Carrs, Kings Food Markets and Balducci's Food Lovers Market. The Company is committed to helping people across the country live better\\nlives by making a meaningful difference, neighborhood by neighborhood. In\\n2022, along with the Albertsons Companies  \\n\\nFoundation, the Company contributed more than $200 million in food and\\nfinancial support, including more than $40 million through our Nourishing\\nNeighbors Program to ensure those living in our communities and those impacted\\nby disasters have enough to eat. **Disclaimer**\\n\\nThe above statements are intended to describe the general nature of work\\nperformed by the employees assigned to this job and are not the official job\\ndescription for the position.\"),\n",
       " Document(metadata={'index': 1}, page_content='All employees must comply with Company,\\nDivision, and Store policies and applicable laws. The responsibilities,\\nduties, and skills of personnel may vary within store and/or from store to\\nstore and the official job description will be provided during the application\\nprocess. **Albertsons is an Equal Opportunity Employer**\\n\\nThis Company is an Equal Opportunity Employer, and does not discriminate on\\nthe basis of race, gender, ethnicity, religion, national origin, age,\\ndisability, veteran status, gender identity/expression, sexual orientation, or\\non any other basis prohibited by law. Consistent with applicable state and\\nlocal law, the Company will consider for employment qualified applicants with\\narrest and conviction records. We endeavor to make this site accessible to any and all users. If you would\\nlike to contact us regarding the accessibility of our website or need\\nassistance completing the application process, please contact us at\\n1-888-255-2269(option #4).'),\n",
       " Document(metadata={'index': 2}, page_content=\"**A Day in the Life:**\\n\\nWhen you begin your job with us working on the front-end as a courtesy clerk,\\ncustomer service associate, or cashier, you are taking a step towards an\\nopportunity that can help you learn, grow, and even develop a long-lasting\\ncareer! We know you're choosing to invest your time with us, and we are\\ncommitted to doing the same for you through on-the-job and online learning\\nopportunities! Whether you are here for your first job or your last, from\\ngroceries to health needs, you guide, inspire, and make all customers' visit\\nmemorable. We build belonging by creating a diverse and inclusive workforce\\nso, if you have smiles to share, we'd love to have you on our team. **What you bring to the table:**\\n\\n  * You take pride in the work you do, whether big or small. * You believe that food is central to all our lives. * Helping customers and fellow associates gives you energy. * Smiling and making others smile is your favorite. * You are eager, willing, and wanting to learn & grow.\"),\n",
       " Document(metadata={'index': 2}, page_content=\"* You believe that being a part of your community matters. **Why you will choose us:**\\n\\nAlbertsons Companies Inc. has always been a people-oriented business, and\\nthoughtful people practices remain a core element of our company's philosophy. Our goal is to continue to bring people together around the joys of food and\\nto inspire well-being and that starts with people like you bringing your\\nunique self to our company and making it one person stronger and better! We also provide a variety of benefits including:\\n\\n  * Diverse & Inclusive Work Culture \\n  * Competitive Wages Paid Weekly \\n  * Flexible work schedules \\n  * Associate discounts \\n  * Leaders invested in your training, career growth & development. * Health and welfare benefits for eligible employees (Medical, Dental, 401k and more!) \\n  * Vacation / Paid Time Off \\n\\n**Our Values**\\n\\n  * We put people first. * We are customer driven.\"),\n",
       " Document(metadata={'index': 2}, page_content='* We value different perspectives. * We raise the bar. * We act as owners. * We are one team. * We build belonging.'),\n",
       " Document(metadata={'index': 2}, page_content=\"* We are committed to a healthy future. **Pay Rate:** $16.10 - $26.75\\n\\nStarting rates will be no less than the local minimum wage and may vary based\\non things like location, experience, qualifications and the terms of any\\napplicable collective bargaining agreement. **About Us:**\\n\\nAlbertsons Companies is committed to bringing people together around the joys\\nof food and to inspire well-being by transforming the grocery and pharmacy-\\nhealth experience for our customers. Each day, we work to earn customers for\\nlife. Albertsons Companies is a leading food and drug retailer in the United States. The Company operated 2,271 retail stores with 1,722 pharmacies, 401 associated\\nfuel centers, 22 dedicated distribution centers and 19 manufacturing\\nfacilities. The Company operates stores across 34 states and the District of\\nColumbia with 24 banners including Albertsons, Safeway, Vons, Jewel-Osco,\\nShaw's, Acme, Tom Thumb, Randalls, United Supermarkets, Pavilions, Star\\nMarket, Haggen, Carrs, Kings Food Markets and Balducci's Food Lovers Market. The Company is committed to helping people across the country live better\\nlives by making a meaningful difference, neighborhood by neighborhood. In\\n2022, along with the Albertsons Companies  \\n\\nFoundation, the Company contributed more than $200 million in food and\\nfinancial support, including more than $40 million through our Nourishing\\nNeighbors Program to ensure those living in our communities and those impacted\\nby disasters have enough to eat. **Disclaimer**\\n\\nThe above statements are intended to describe the general nature of work\\nperformed by the employees assigned to this job and are not the official job\\ndescription for the position.\"),\n",
       " Document(metadata={'index': 2}, page_content='All employees must comply with Company,\\nDivision, and Store policies and applicable laws. The responsibilities,\\nduties, and skills of personnel may vary within store and/or from store to\\nstore and the official job description will be provided during the application\\nprocess. **Albertsons is an Equal Opportunity Employer**\\n\\nThis Company is an Equal Opportunity Employer, and does not discriminate on\\nthe basis of race, gender, ethnicity, religion, national origin, age,\\ndisability, veteran status, gender identity/expression, sexual orientation, or\\non any other basis prohibited by law. Consistent with applicable state and\\nlocal law, the Company will consider for employment qualified applicants with\\narrest and conviction records. We endeavor to make this site accessible to any and all users. If you would\\nlike to contact us regarding the accessibility of our website or need\\nassistance completing the application process, please contact us at\\n1-888-255-2269(option #4).'),\n",
       " Document(metadata={'index': 3}, page_content='Embrace the Customer 1st strategy to create an outstanding customer experience\\nthrough exceptional service. Establish and maintain a safe and clean\\nenvironment that encourages our customers to return.'),\n",
       " Document(metadata={'index': 3}, page_content='Achieve the Front-end\\nperformance goals and best practices. Drive the department in reaching sales\\nand profit goals established for the department, and monitor all established\\nquality assurance standards. Direct and supervise all functions, duties and\\nactivities for the Front-end department.'),\n",
       " Document(metadata={'index': 3}, page_content=\"Responsible for the execution of best\\npractices, goals and established standards for the department. Demonstrate the\\ncompany's core values of respect, honesty, integrity, diversity, inclusion and\\nsafety.Based in Colorado, King Soopers merged with The Kroger Company in 1983. Today, we're proudly serving King Soopers customers in over 115 stores\\nthroughout Colorado and Wyoming. As part of the Kroger family of companies, we take pride in bringing diverse\\nteams with a passion for food and people together with one common purpose: To\\nFeed the Human Spirit. With a history of innovation, we work tirelessly to\\ncreate amazing experiences for our customers, communities AND each other, with\\nfood at the heart of it all.\"),\n",
       " Document(metadata={'index': 3}, page_content=\"Here, people matter. That's why we strive to provide the ingredients you need\\nto create your own recipe for success at work and in life. We help feed your\\nfuture by providing the value and care you need to grow. If you're caring,\\npurpose-driven and hungry to learn, your potential is unlimited.\"),\n",
       " Document(metadata={'index': 3}, page_content=\"Whether you're seeking a part-time position or a new career path, we've got a\\nfresh opportunity for you. Apply today to become part of our King Soopers\\nfamily!Minimum\\n\\n  * Effective communication skills \\n  * Knowledge of basic math \\n  * Ability to handle stressful situations \\n  * Retail or Customer Service experience \\n  * Front-end experience \\n\\nDesired\\n\\n  * High school diploma or equivalent \\n  * Front-end Supervisor \\n  * Management experience \\n  * Retail experience \\n  * Second language: speaking, reading and/or writing \\n\\n  * Promote trust and respect among associates. * Communicate company, department, and job specific information to associates.\"),\n",
       " Document(metadata={'index': 3}, page_content='* Collaborate with associates and promote teamwork to help achieve company/store goals. * Create an environment that enables customers to feel welcome, important and appreciated by answering questions regarding products sold within the department and throughout the store. * Gain and maintain knowledge of products sold within the departments and be able to respond to questions and make suggestions about products. * Responsible for maintaining records and paperwork required for company and federal compliancy: Anti-money Laundering \\n  * Monitor and control supply expenses for the department. * Manage cash control, sales and cash items and records for the store. * Manage the scheduling of Front-end associates to provide adequate department coverage. * Assist store management in preparing the store/department budget, profit and loss reviews, and take appropriate action on all financial reports. * Develop and implement a department business plan to achieve desired results. * Create and execute sales promotions in partnership with store management. * Implement the period promotional plan for the department. * Stay current with present, future, seasonal and special ads. * Monitor and control expenses for the department. * Maintain an awareness of inventory/stocking conditions; note any discrepancies in inventory. * Responsible for the department associates are current and compliant with company training standards. * Adhere to all food safety regulations and guidelines. * Reinforce safety programs by complying with safety procedures and identify unsafe conditions and notify store management. * Practice preventive maintenance by properly inspecting equipment and notify appropriate department or store manager of any items in need of repair. * Notify management of customer or employee accidents. * Report all safety risks or issues, and illegal activity, including: robbery, theft or fraud. * Adhere to all local, state and federal laws, and company guidelines. * Supervise and coach direct reports in the performance of their duties; complete performance reviews and provides feedback to direct reports. * Ability to work cooperatively in high paced and sometimes stressful environment. * Ability to manage conflict in a reasonable, nonconfrontational and cooperative manner. * Ability to act with honesty and integrity regarding customer and business information. * Ability to follow directions and seek assistance when necessary to resolve customer and business issues. * Provide support and assistance through direct interaction with minors, individuals with special needs, and/or older adults. * Must be able to perform the essential functions of this position with or without reasonable accommodation.')]"
      ]
     },
     "execution_count": 13,
     "metadata": {},
     "output_type": "execute_result"
    }
   ],
   "source": [
    "total_chunks[:20]"
   ]
  },
  {
   "cell_type": "code",
   "execution_count": 14,
   "id": "cc953b5b",
   "metadata": {},
   "outputs": [
    {
     "name": "stdout",
     "output_type": "stream",
     "text": [
      "생성된 DB의 크기: 170\n"
     ]
    }
   ],
   "source": [
    "try:\n",
    "    db.reset_collection()\n",
    "except NameError:\n",
    "    pass\n",
    "db = Chroma.from_documents(total_chunks, emb_model, collection_name=str(uuid4()))\n",
    "print(f\"생성된 DB의 크기: {len(db.get()['ids'])}\")"
   ]
  },
  {
   "cell_type": "code",
   "execution_count": 15,
   "id": "16a25983",
   "metadata": {},
   "outputs": [
    {
     "data": {
      "text/plain": [
       "[Document(id='9a0b07ea-7acd-49fd-bb9f-d8bd835fd51d', metadata={'index': 35}, page_content=\"In this position you should have the following; excellent interpersonal skills\\nwith the ability to communicate at all levels. Strong problem solving and\\ncreative skills and the ability to exercise sound judgment. Most important,\\ndemonstrate a high level of integrity and dependability with a strong sense of\\nurgency and results-orientation. How you'll _create opportunities_ in this Senior Data Scientist role:\\n\\n  * Service Specialization: Develop service specific knowledge through greater exposure to peers, internal experts, clients, regular self-study, and formal training opportunities. Gain exposure to a variety of client situations to develop business skills.\"),\n",
       " Document(id='d6f3216b-ad4d-420d-bc06-0b1958ad7fbf', metadata={'index': 35}, page_content=\"Retain knowledge gained and performance feedback provided to transfer into future work. Approach all problems and projects with a high level of professionalism, objectivity and an open mind to new ideas and solutions. * Data Analysis: Participate and take ownership in the collection, analysis, and automated collection of data using a variety of data tools. Together with the Data Analytics team, support the building and implementing of models, algorithms, and simulations supporting solutions for external clients and internal projects. Assess the effectiveness and accuracy of new data sources and data gathering techniques. * Data Development: Working under the guidance of a variety of Data Analytics team members, gain exposure to developing custom data models and algorithms to apply to data sets. Execute predictive and inferential analytics, machine learning, and artificial intelligence techniques. Use existing processes and tools to monitor and analyze solution performance and accuracy, and communicate findings to team members and end users. * Collaboration: Work individually as well as in collaboration with others. Interaction with others will primarily be virtual with leadership and colleagues from other offices. Take on additional roles beyond technical development and client service that may include: serving as primary contact with clients or business leaders on internal projects, take on administrative tasks, perform support roles, and get involved in new business development. * Collaboration: Work individually as well as in collaboration with others. Interaction with others will primarily be virtual with leadership and colleagues from other offices. Take on additional roles beyond technical development that may include: serving as primary contact with business leaders on internal projects, take on administrative tasks, perform support roles, and get involved in new program/project development. What you will need:\\n\\n  * 2 years of relevant experience\\n    * Experience in data analytics, statics, data science, financial consulting, computer science or related field preferred. * Experience with API's, web scraping, SQL/no-SQL databases, and cloud-based data solutions preferred. * Bachelor's degree or a combination of relevant experience and training may be considered in lieu of a degree.\"),\n",
       " Document(id='d4c80e02-5647-47b2-9ff3-99b40a211351', metadata={'index': 28}, page_content=\"That means developing, delivering, and selling the state-of-the-art\\nproducts and digital tools that make top performers even better. If you are a current Under Armour teammate, apply to this position on the\\n**Internal Career Site Here.**\\n\\n##  **Purpose of Role**\\n\\nWe are looking for a Sr Data Scientist to join our Enterprise Data Management\\norganization. As a member of the enterprise data science team, you will work\\non machine learning solutions supporting all of Under Armour's business units\\nacross the globe. You will be challenged to identify creative solutions to\\nreal world problems by leveraging cutting edge machine learning and\\nstatistical techniques, while striving to maintain rigorous scientific and\\nengineering standards. You will collaborate with other data scientists,\\nengineers, and business decision makers to develop the next generation of data\\ndriven products and initiatives at Under Armour. ##  **Your Impact**\\n\\n  * Support global price optimization workflows by developing, maintaining, and expanding machine learning solutions supporting initial ticket price (ITP) optimization, promotional effectiveness, and product markdown optimization. * Leverage AWS cloud computing solutions to develop and deploy models at scale, adhering to internal best practices in data science and MLOps. * Propose novel statistical and machine learning methods to address key business challenge. * Beome an expert in our internal price optimization modeling methodology -extracting and communicating insights and use cases to non-technical stakeholders and decision makers. * Stay up-to-date with latest technology and modeling techniques\\n  * Work collaboratively to drive improvements through the lifecycle of each product to ensure the technical implementation appropriately aligns with business goals. ##  **Qualifications**\\n\\n  * Bachelor's degree, in Computer Science, Applied Mathematics or other quantitative disciplines, with 5+ years of relevant experience OR Master's degree with typically 3+ of relevant experience OR 9+ years of relevant experience without a degree. * Proficiency with SQL and Python. * Practical work experience with one or more of the following: XGBoost, LightGBM, Prophet, supply chain optimization models, Bayesian statistics. * Ability to apply data science to real-world problems, capable of breaking down complex problems into key components solvable by machine learning solutions. * Knowledgable of limitations and best practices related to model specification, comparison, selection, and deployment. * Ability to provide written and oral interpretation of highly specialized terms and data, and ability to present this data to others with different levels of expertise\\n  * Prior experience with AWS services (e.g., Sagemaker, S3, ECR) preferred. * Prior experience working on an agile team preferred\\n  * Prior experience leveraging version control (e.g., Git, SVN) in a team setting preferred\\n\\n##  **Workplace Location**\\n\\n  *  **Location:** Fully Remote\\n  *  **Return to Work Designation:** Fully Remote\\n  *  **Travel:** 5% of the year\\n  *  **Licenses/Certifications:** N/A\\n\\n##  **Relocation**\\n\\n  * No relocation provided\\n\\n##  **Base Compensation**\\n\\n$127,496.00 - $175,307.00 USD\\n\\nMost new hires fall within this range and have the opportunity to earn more\\nover time. Initial placement within the salary range, however, is based on an\\nindividual's relevant knowledge, skills and experience for the position.\"),\n",
       " Document(id='40d67e3c-45e8-4b8d-b625-8ffdeee905f1', metadata={'index': 29}, page_content=\"Awesome** service. As an Operational Data Scientist with subscription business\\nexperience, you'll play a vital role in shaping the customer experience and\\nmembership growth. We look forward to welcoming someone who is passionate\\nabout leveraging data to enhance our member relationships and ready to grow\\nwith us as we bring Johnny Clean to new markets and audiences.\")]"
      ]
     },
     "execution_count": 15,
     "metadata": {},
     "output_type": "execute_result"
    }
   ],
   "source": [
    "# 쿼리 테스트\n",
    "db.similarity_search(\"I want to be a Data Scientist.\")"
   ]
  },
  {
   "cell_type": "code",
   "execution_count": 17,
   "id": "13eef7e9",
   "metadata": {},
   "outputs": [
    {
     "name": "stderr",
     "output_type": "stream",
     "text": [
      " 24%|██▎       | 9/38 [00:04<00:18,  1.53it/s]"
     ]
    },
    {
     "name": "stdout",
     "output_type": "stream",
     "text": [
      "sentence: Look-ups; Pivot table; other basic functions ; Power Point) • POS System & Inventory Management Software • Internet ApplicationsEducation Details    \n"
     ]
    },
    {
     "name": "stderr",
     "output_type": "stream",
     "text": [
      " 66%|██████▌   | 25/38 [00:09<00:05,  2.58it/s]"
     ]
    },
    {
     "name": "stdout",
     "output_type": "stream",
     "text": [
      "sentence: Education Details \n"
     ]
    },
    {
     "name": "stderr",
     "output_type": "stream",
     "text": [
      " 79%|███████▉  | 30/38 [00:11<00:02,  3.21it/s]"
     ]
    },
    {
     "name": "stdout",
     "output_type": "stream",
     "text": [
      "sentence: ML Content Creation.Education Details  \n"
     ]
    },
    {
     "name": "stderr",
     "output_type": "stream",
     "text": [
      "100%|██████████| 38/38 [00:14<00:00,  2.67it/s]\n"
     ]
    }
   ],
   "source": [
    "scores = np.zeros([len(queries), 10])\n",
    "for i in tqdm(range(len(queries))):\n",
    "    query = queries.iloc[i]\n",
    "    preprocessed_query = preprocess_query(query)\n",
    "    results = db.similarity_search(preprocessed_query, k=10)\n",
    "    for j in range(len(results)):\n",
    "        if results[j].metadata['index'] ==  i:\n",
    "            scores[i][j] = 1"
   ]
  },
  {
   "cell_type": "code",
   "execution_count": 18,
   "id": "6d212e3a",
   "metadata": {},
   "outputs": [],
   "source": [
    "# one-shot이상은 n개 이상의 정답 중 하나라도 matching됐을 경우\n",
    "one_shot = scores[:,0]\n",
    "ten_shot = np.sum(scores[:,:10], axis=1)\n",
    "\n",
    "one_shot = np.mean(one_shot)\n",
    "ten_shot = (ten_shot > 0).mean()"
   ]
  },
  {
   "cell_type": "code",
   "execution_count": 19,
   "id": "edb21de0",
   "metadata": {},
   "outputs": [
    {
     "name": "stdout",
     "output_type": "stream",
     "text": [
      "0.21052631578947367\n",
      "0.3684210526315789\n"
     ]
    }
   ],
   "source": [
    "# 1-shot, 10-shot accuracy\n",
    "print(one_shot)\n",
    "print(ten_shot)"
   ]
  },
  {
   "cell_type": "code",
   "execution_count": null,
   "id": "b51167c3",
   "metadata": {},
   "outputs": [],
   "source": []
  }
 ],
 "metadata": {
  "kernelspec": {
   "display_name": "RAG",
   "language": "python",
   "name": "python3"
  },
  "language_info": {
   "codemirror_mode": {
    "name": "ipython",
    "version": 3
   },
   "file_extension": ".py",
   "mimetype": "text/x-python",
   "name": "python",
   "nbconvert_exporter": "python",
   "pygments_lexer": "ipython3",
   "version": "3.10.12"
  }
 },
 "nbformat": 4,
 "nbformat_minor": 5
}
