{
 "cells": [
  {
   "cell_type": "code",
   "execution_count": 1,
   "id": "2f1e4d2d",
   "metadata": {},
   "outputs": [],
   "source": [
    "import pandas as pd\n",
    "import matplotlib.pyplot as plt\n",
    "import sys\n",
    "import os\n",
    "import yaml\n",
    "from dotenv import  load_dotenv\n",
    "\n",
    "import numpy as np\n",
    "sys.path.append('../../system/')\n",
    "# from langchain_experimental.text_splitter import SemanticChunker\n",
    "from langchain_openai import OpenAIEmbeddings\n",
    "from langchain.embeddings import CacheBackedEmbeddings\n",
    "from langchain.storage import LocalFileStore\n",
    "\n",
    "from configs import JD_PATH, COLLECTION, DB_PATH\n",
    "from get_similarity.utils.preprocess import preprocess\n",
    "from insert_chunks import *\n",
    "\n",
    "from tqdm import tqdm"
   ]
  },
  {
   "cell_type": "markdown",
   "id": "b3337ccd",
   "metadata": {},
   "source": [
    "# 데이터 로드 및 전처리"
   ]
  },
  {
   "cell_type": "code",
   "execution_count": 3,
   "id": "bdcf4d57",
   "metadata": {},
   "outputs": [
    {
     "name": "stdout",
     "output_type": "stream",
     "text": [
      "중복 제거 전 description 개수: 1184\n",
      "중복 제거 후 description 개수: 704\n"
     ]
    }
   ],
   "source": [
    "jd_folder = \"updated_jd\"\n",
    "\n",
    "full_paths = []\n",
    "for jd_path in os.listdir(jd_folder):\n",
    "    full_paths.append(os.path.join(jd_folder, jd_path))\n",
    "\n",
    "all_dfs = []\n",
    "for path in full_paths:\n",
    "    df = pd.read_csv(path)\n",
    "    df[\"location\"] = path.split(\"/\")[1].split(\"_\")[0]\n",
    "    all_dfs.append(df)\n",
    "# 하나의 DataFrame으로 병합\n",
    "merged_df = pd.concat(all_dfs, ignore_index=True)\n",
    "\n",
    "#description 기준 중복값 제거\n",
    "merged_df_dedup = merged_df.drop_duplicates(subset=\"description\")\n",
    "print(f\"중복 제거 전 description 개수: {len(merged_df)}\")\n",
    "print(f\"중복 제거 후 description 개수: {len(merged_df_dedup)}\")"
   ]
  },
  {
   "cell_type": "code",
   "execution_count": 4,
   "id": "88a7e90e",
   "metadata": {},
   "outputs": [
    {
     "name": "stdout",
     "output_type": "stream",
     "text": [
      "Index(['job_url', 'title', 'company', 'location', 'date_posted', 'job_type',\n",
      "       'is_remote', 'description'],\n",
      "      dtype='object')\n"
     ]
    }
   ],
   "source": [
    "print(df.columns)"
   ]
  },
  {
   "cell_type": "code",
   "execution_count": 5,
   "id": "e9bdd7a8",
   "metadata": {},
   "outputs": [
    {
     "name": "stdout",
     "output_type": "stream",
     "text": [
      "Category                                         Data Science\n",
      "Resume      Skills • R • Python • SAP HANA • Tableau • SAP...\n",
      "Name: 3, dtype: object\n"
     ]
    }
   ],
   "source": [
    "example_cv = pd.read_csv(\"./UpdatedResumeDataSet.csv\", encoding='utf=8')\n",
    "print(example_cv.iloc[3])"
   ]
  },
  {
   "cell_type": "code",
   "execution_count": 7,
   "id": "846b27d4",
   "metadata": {},
   "outputs": [],
   "source": [
    "# #초기 데이터 인코딩 오류 수정\n",
    "# example_cv = pd.read_csv(\"./UpdatedResumeDataSet.csv\", encoding='latin-1')\n",
    "\n",
    "# col_name = \"Resume\"        # 예: 'description', 'Skills', …\n",
    "# # ③ 역‑디코딩:  문자열 → 바이트(CP‑1252) → UTF‑8 → 문자열\n",
    "# example_cv[col_name] = (\n",
    "#     example_cv[col_name]\n",
    "#       .str.encode(\"latin1\")      # ⇢   원래 바이트값 E2 80 A2 복원\n",
    "#       .str.decode(\"utf-8\")       # ⇢   • 로 올바르게 변환\n",
    "# )"
   ]
  },
  {
   "cell_type": "code",
   "execution_count": 9,
   "id": "143b4aae",
   "metadata": {},
   "outputs": [],
   "source": [
    "# 과하게 길이가 길거나 짧은 이력서 제거\n",
    "example_cv = example_cv[(example_cv[\"Resume\"].str.len() > 1500) & (example_cv[\"Resume\"].str.len() < 5000)]"
   ]
  },
  {
   "cell_type": "code",
   "execution_count": 10,
   "id": "fb8a5018",
   "metadata": {},
   "outputs": [
    {
     "data": {
      "text/plain": [
       "86"
      ]
     },
     "execution_count": 10,
     "metadata": {},
     "output_type": "execute_result"
    }
   ],
   "source": [
    "len(example_cv)"
   ]
  },
  {
   "cell_type": "markdown",
   "id": "3b899091",
   "metadata": {},
   "source": [
    "# Prompt Engineering"
   ]
  },
  {
   "cell_type": "code",
   "execution_count": 12,
   "id": "f4a3fe0c",
   "metadata": {},
   "outputs": [],
   "source": [
    "from openai import OpenAI\n",
    "client = OpenAI()"
   ]
  },
  {
   "cell_type": "code",
   "execution_count": 13,
   "id": "95e77db1",
   "metadata": {},
   "outputs": [],
   "source": [
    "def make_cv(system, user, model=\"gpt-4.1-mini\"):\n",
    "    completion = client.chat.completions.create(\n",
    "      model=model,\n",
    "      messages=[\n",
    "    {\"role\": \"developer\", \"content\": f\"{system}\"},\n",
    "    {\"role\": \"user\", \"content\": f\"{user}\"}\n",
    "  ]\n",
    "    )\n",
    "    return completion.choices[0].message.content"
   ]
  },
  {
   "cell_type": "code",
   "execution_count": 14,
   "id": "331cbdb8",
   "metadata": {},
   "outputs": [],
   "source": [
    "with open(\"./data/cv_prompt.yaml\", \"r\") as f:\n",
    "    prompt = yaml.safe_load(f)"
   ]
  },
  {
   "cell_type": "code",
   "execution_count": 15,
   "id": "fae3a2d6",
   "metadata": {},
   "outputs": [
    {
     "data": {
      "text/plain": [
       "{'system': {'base': 'You are a professional CV generator.\\n Your task is to create a tailored curriculum vitae (CV) based on the provided job description (JD).\\n The CV must be professional, realistic, and meet the key requirements and preferred qualifications in the JD.\\n Include sections for personal information, education, work experience, skills, certifications, and project experience.\\n The CV should be of practical quality and proper formatting for real-world use.\\n',\n",
       "  'version1(format)': 'You are a professional CV generator.\\nYou must output a CV that **exactly matches** the example format \\n(same section order, headings, bold text, indentation, bullet style, and line breaks).\\nThe CV should be of practical quality and proper formatting for real-world use.\\n'},\n",
       " 'user': {'base': '\"Generate a professional CV tailored to the following job description:\\n\\nExample CV format : {cv}\\n\\nJD: {jd}\\n\\nPlease create a complete CV that matches the requirements in the job description while following a Example CV format.\\nRemember you have to make virtual personal information and fill private infos(name, phone, email, etc.)\\n\\nCreated CV:\\n',\n",
       "  'version1(format)': '--- Example CV format ---\\n{cv}\\n\\n--- Job Description (JD) ---\\n{jd}\\n\\n###Guidelines###\\n1. Follow the *Example CV format* **exactly**—do not rearrange or rename sections.  \\n2. Tailor content so the candidate clearly meets every key requirement in the JD.  \\n3. Do not copy and paste directly from the JD, Instead rephrase and summarize to create a unique CV.\\n4. Invent realistic personal info if missing.  \\n\\nIf this Guideline is not followed, think again and write a new CV.'}}"
      ]
     },
     "execution_count": 15,
     "metadata": {},
     "output_type": "execute_result"
    }
   ],
   "source": [
    "prompt"
   ]
  },
  {
   "cell_type": "markdown",
   "id": "69125526",
   "metadata": {},
   "source": [
    "## 데이터 생성 예제"
   ]
  },
  {
   "cell_type": "code",
   "execution_count": 35,
   "id": "149fbdac",
   "metadata": {},
   "outputs": [],
   "source": [
    "###cv 생성 예제\n",
    "\n",
    "# cv_result = make_cv(\n",
    "#     system=prompt[\"system\"][\"base\"],\n",
    "#     user=prompt[\"user\"][\"base\"].format(cv=example_cv[\"Resume\"].iloc[0], jd=df.iloc[0]),\n",
    "#     model=\"gpt-4o-mini\"\n",
    "# )"
   ]
  },
  {
   "cell_type": "code",
   "execution_count": 16,
   "id": "f5873aa2",
   "metadata": {},
   "outputs": [
    {
     "name": "stderr",
     "output_type": "stream",
     "text": [
      "100%|██████████| 10/10 [03:26<00:00, 20.68s/it]\n"
     ]
    }
   ],
   "source": [
    "results = []\n",
    "for i in tqdm(range(10)):\n",
    "    # cv와 jd 예제를 하나씩 가져옴\n",
    "    cv_example = example_cv[\"Resume\"].iloc[i]\n",
    "    jd_example = df.iloc[i][\"description\"]\n",
    "\n",
    "    system = prompt[\"system\"][\"base\"]\n",
    "    user=prompt[\"user\"][\"base\"].format(cv=cv_example, jd=jd_example)\n",
    "\n",
    "    generated_cv = make_cv(system, user, model=\"gpt-4.1-mini\")\n",
    "\n",
    "    #cv, jd, generated_cv를 dict로 저장\n",
    "    results.append({\n",
    "        \"cv_example\": cv_example,\n",
    "        \"jd\": jd_example,\n",
    "        \"generated_cv\": generated_cv\n",
    "    })\n",
    "\n",
    "# dataframe으로 변환 및 id 지정\n",
    "df_result = pd.DataFrame(results)\n",
    "df_result.index.name = \"id\""
   ]
  },
  {
   "cell_type": "code",
   "execution_count": 17,
   "id": "94eaf4f8",
   "metadata": {},
   "outputs": [
    {
     "data": {
      "text/html": [
       "<div>\n",
       "<style scoped>\n",
       "    .dataframe tbody tr th:only-of-type {\n",
       "        vertical-align: middle;\n",
       "    }\n",
       "\n",
       "    .dataframe tbody tr th {\n",
       "        vertical-align: top;\n",
       "    }\n",
       "\n",
       "    .dataframe thead th {\n",
       "        text-align: right;\n",
       "    }\n",
       "</style>\n",
       "<table border=\"1\" class=\"dataframe\">\n",
       "  <thead>\n",
       "    <tr style=\"text-align: right;\">\n",
       "      <th></th>\n",
       "      <th>cv_example</th>\n",
       "      <th>jd</th>\n",
       "      <th>generated_cv</th>\n",
       "    </tr>\n",
       "    <tr>\n",
       "      <th>id</th>\n",
       "      <th></th>\n",
       "      <th></th>\n",
       "      <th></th>\n",
       "    </tr>\n",
       "  </thead>\n",
       "  <tbody>\n",
       "    <tr>\n",
       "      <th>0</th>\n",
       "      <td>Skills * Programming Languages: Python (pandas...</td>\n",
       "      <td>**An Exceptional Engineering Opportunity Await...</td>\n",
       "      <td>**John A. Smith**  \\nSenior Backend Software E...</td>\n",
       "    </tr>\n",
       "    <tr>\n",
       "      <th>1</th>\n",
       "      <td>Areas of Interest Deep Learning, Control Syste...</td>\n",
       "      <td>**An Exceptional Engineering Opportunity Await...</td>\n",
       "      <td>**Johnathan A. Clarke**  \\nSenior Backend Soft...</td>\n",
       "    </tr>\n",
       "    <tr>\n",
       "      <th>2</th>\n",
       "      <td>Skills • Python • Tableau • Data Visualization...</td>\n",
       "      <td>**An Exceptional Engineering Opportunity Await...</td>\n",
       "      <td>**Johnathan Smith**  \\nSenior Backend Software...</td>\n",
       "    </tr>\n",
       "    <tr>\n",
       "      <th>3</th>\n",
       "      <td>Personal Skills ➢ Ability to quickly grasp tec...</td>\n",
       "      <td>**An Exceptional Engineering Opportunity Await...</td>\n",
       "      <td>John A. Smith  \\nPhone: +44 7700 900123  \\nEma...</td>\n",
       "    </tr>\n",
       "    <tr>\n",
       "      <th>4</th>\n",
       "      <td>Expertise − Data and Quantitative Analysis − D...</td>\n",
       "      <td>**An Exceptional Engineering Opportunity Await...</td>\n",
       "      <td>**Expertise**  \\nBackend Software Engineering ...</td>\n",
       "    </tr>\n",
       "  </tbody>\n",
       "</table>\n",
       "</div>"
      ],
      "text/plain": [
       "                                           cv_example  \\\n",
       "id                                                      \n",
       "0   Skills * Programming Languages: Python (pandas...   \n",
       "1   Areas of Interest Deep Learning, Control Syste...   \n",
       "2   Skills • Python • Tableau • Data Visualization...   \n",
       "3   Personal Skills ➢ Ability to quickly grasp tec...   \n",
       "4   Expertise − Data and Quantitative Analysis − D...   \n",
       "\n",
       "                                                   jd  \\\n",
       "id                                                      \n",
       "0   **An Exceptional Engineering Opportunity Await...   \n",
       "1   **An Exceptional Engineering Opportunity Await...   \n",
       "2   **An Exceptional Engineering Opportunity Await...   \n",
       "3   **An Exceptional Engineering Opportunity Await...   \n",
       "4   **An Exceptional Engineering Opportunity Await...   \n",
       "\n",
       "                                         generated_cv  \n",
       "id                                                     \n",
       "0   **John A. Smith**  \\nSenior Backend Software E...  \n",
       "1   **Johnathan A. Clarke**  \\nSenior Backend Soft...  \n",
       "2   **Johnathan Smith**  \\nSenior Backend Software...  \n",
       "3   John A. Smith  \\nPhone: +44 7700 900123  \\nEma...  \n",
       "4   **Expertise**  \\nBackend Software Engineering ...  "
      ]
     },
     "execution_count": 17,
     "metadata": {},
     "output_type": "execute_result"
    }
   ],
   "source": [
    "df_result.head()"
   ]
  },
  {
   "cell_type": "code",
   "execution_count": 18,
   "id": "3fa7b447",
   "metadata": {},
   "outputs": [],
   "source": [
    "df_result.to_csv(\"./data/base_cv.csv\", index=True)"
   ]
  },
  {
   "cell_type": "markdown",
   "id": "0dbb3e3f",
   "metadata": {},
   "source": [
    "## jd별로 10개씩 생성 및 저장"
   ]
  },
  {
   "cell_type": "code",
   "execution_count": null,
   "id": "d2555fe0",
   "metadata": {},
   "outputs": [
    {
     "name": "stderr",
     "output_type": "stream",
     "text": [
      "100%|██████████| 10/10 [01:02<00:00,  6.22s/it]\n",
      "100%|██████████| 10/10 [06:56<00:00, 41.65s/it]\n",
      "100%|██████████| 10/10 [03:57<00:00, 23.77s/it]\n",
      "100%|██████████| 10/10 [02:52<00:00, 17.30s/it]\n"
     ]
    }
   ],
   "source": [
    "for model in [\"gpt-4.1-mini\",\"o4-mini\", \"o3-mini\", \"gpt-4.1\"]:\n",
    "    results = []\n",
    "    for i in tqdm(range(10)):\n",
    "        cv_example = example_cv[\"Resume\"].iloc[i]\n",
    "        jd_example = df.iloc[i][\"description\"]\n",
    "\n",
    "        system = prompt[\"system\"][\"version1(format)\"]\n",
    "        user=prompt[\"user\"][\"version1(format)\"].format(cv=cv_example, jd=jd_example)\n",
    "\n",
    "        generated_cv = make_cv(system, user, model=model)\n",
    "        results.append({\n",
    "            \"cv_example\": cv_example,\n",
    "            \"jd\": jd_example,\n",
    "            \"generated_cv\": generated_cv\n",
    "        })\n",
    "\n",
    "\n",
    "    df_result = pd.DataFrame(results)\n",
    "    df_result.index.name = \"id\"\n",
    "    df_result.to_csv(f\"./data/{model}_format.csv\", index=True)"
   ]
  },
  {
   "cell_type": "markdown",
   "id": "0bfd5b9e",
   "metadata": {},
   "source": [
    "# 추가 수집된 데이터로 벤치마크 생성"
   ]
  },
  {
   "cell_type": "code",
   "execution_count": 19,
   "id": "5de086da",
   "metadata": {},
   "outputs": [
    {
     "name": "stdout",
     "output_type": "stream",
     "text": [
      "704\n",
      "86\n"
     ]
    }
   ],
   "source": [
    "print(len(merged_df_dedup))     #JD 크기\n",
    "print(len(example_cv))          #CV 크기    "
   ]
  },
  {
   "cell_type": "code",
   "execution_count": 21,
   "id": "0b1fee22",
   "metadata": {},
   "outputs": [],
   "source": [
    "#700개의 인덱스에서 300개를 stratified하게 뽑아냄\n",
    "indices = np.linspace(0, len(merged_df_dedup) - 1, 300, dtype=int)\n",
    "# cv랜덤 생성 seed\n",
    "import numpy as np\n",
    "np.random.seed(42)"
   ]
  },
  {
   "cell_type": "code",
   "execution_count": 25,
   "id": "b33fb550",
   "metadata": {},
   "outputs": [
    {
     "name": "stderr",
     "output_type": "stream",
     "text": [
      "100%|██████████| 300/300 [2:40:45<00:00, 32.15s/it]  \n"
     ]
    }
   ],
   "source": [
    "for model in [\"o3-mini\"]:\n",
    "    results = []\n",
    "    for i in tqdm(indices):\n",
    "        cv_index = np.random.randint(0, len(example_cv))\n",
    "        cv_example = example_cv[\"Resume\"].iloc[cv_index]\n",
    "        jd_example = merged_df_dedup.iloc[i][\"description\"]\n",
    "\n",
    "        system = prompt[\"system\"][\"version1(format)\"]\n",
    "        user=prompt[\"user\"][\"version1(format)\"].format(cv=cv_example, jd=jd_example)\n",
    "\n",
    "        generated_cv = make_cv(system, user, model=model)\n",
    "        results.append({\n",
    "            \"cv_example\": cv_example,\n",
    "            \"jd\": jd_example,\n",
    "            \"generated_cv\": generated_cv\n",
    "        })\n",
    "\n",
    "\n",
    "    df_result = pd.DataFrame(results)\n",
    "    df_result.index.name = \"id\"\n",
    "    df_result.to_csv(f\"./data/{model}_resume.csv\", index=True)"
   ]
  },
  {
   "cell_type": "code",
   "execution_count": 23,
   "id": "36dcb0d3",
   "metadata": {},
   "outputs": [
    {
     "data": {
      "text/html": [
       "<div>\n",
       "<style scoped>\n",
       "    .dataframe tbody tr th:only-of-type {\n",
       "        vertical-align: middle;\n",
       "    }\n",
       "\n",
       "    .dataframe tbody tr th {\n",
       "        vertical-align: top;\n",
       "    }\n",
       "\n",
       "    .dataframe thead th {\n",
       "        text-align: right;\n",
       "    }\n",
       "</style>\n",
       "<table border=\"1\" class=\"dataframe\">\n",
       "  <thead>\n",
       "    <tr style=\"text-align: right;\">\n",
       "      <th></th>\n",
       "      <th>id</th>\n",
       "      <th>cv_example</th>\n",
       "      <th>jd</th>\n",
       "      <th>generated_cv</th>\n",
       "    </tr>\n",
       "  </thead>\n",
       "  <tbody>\n",
       "    <tr>\n",
       "      <th>0</th>\n",
       "      <td>0</td>\n",
       "      <td>TECHNICAL SKILLS • HP ALM, RTC and JIRA • AS40...</td>\n",
       "      <td>Full Stack Developer, Senior**The Opportunity:...</td>\n",
       "      <td>TECHNICAL SKILLS • Languages: Java, Python, Ja...</td>\n",
       "    </tr>\n",
       "    <tr>\n",
       "      <th>1</th>\n",
       "      <td>1</td>\n",
       "      <td>KEY SKILLS: • Planning &amp; Strategizing • Presen...</td>\n",
       "      <td>Full\\\\-Stack Web Developer**The Opportunity:**...</td>\n",
       "      <td>KEY SKILLS: • Full‐Stack Development • UI/UX C...</td>\n",
       "    </tr>\n",
       "    <tr>\n",
       "      <th>2</th>\n",
       "      <td>2</td>\n",
       "      <td>Technical Skills Programming Languages: C, C++...</td>\n",
       "      <td>Posted Date\\n\\n\\n5/08/2025\\n\\n\\nDescription\\n\\...</td>\n",
       "      <td>Technical Skills \\nProgramming Languages: Java...</td>\n",
       "    </tr>\n",
       "    <tr>\n",
       "      <th>3</th>\n",
       "      <td>3</td>\n",
       "      <td>Education Details \\r\\nJanuary 2016 BSc.  Mumba...</td>\n",
       "      <td>Posted Date\\n\\n\\n5/08/2025\\n\\n\\nDescription\\n\\...</td>\n",
       "      <td>Education Details \\nJanuary 2014 BSc. Computer...</td>\n",
       "    </tr>\n",
       "    <tr>\n",
       "      <th>4</th>\n",
       "      <td>4</td>\n",
       "      <td>SKILLS • 1.Autocad • 2.Pro v • 3.Catia • 4.wor...</td>\n",
       "      <td>Posted Date\\n\\n\\n5/07/2025\\n\\n\\nDescription\\n\\...</td>\n",
       "      <td>SKILLS • 1.Java • 2.Python • 3.Node.js • 4.SQL...</td>\n",
       "    </tr>\n",
       "  </tbody>\n",
       "</table>\n",
       "</div>"
      ],
      "text/plain": [
       "   id                                         cv_example  \\\n",
       "0   0  TECHNICAL SKILLS • HP ALM, RTC and JIRA • AS40...   \n",
       "1   1  KEY SKILLS: • Planning & Strategizing • Presen...   \n",
       "2   2  Technical Skills Programming Languages: C, C++...   \n",
       "3   3  Education Details \\r\\nJanuary 2016 BSc.  Mumba...   \n",
       "4   4  SKILLS • 1.Autocad • 2.Pro v • 3.Catia • 4.wor...   \n",
       "\n",
       "                                                  jd  \\\n",
       "0  Full Stack Developer, Senior**The Opportunity:...   \n",
       "1  Full\\\\-Stack Web Developer**The Opportunity:**...   \n",
       "2  Posted Date\\n\\n\\n5/08/2025\\n\\n\\nDescription\\n\\...   \n",
       "3  Posted Date\\n\\n\\n5/08/2025\\n\\n\\nDescription\\n\\...   \n",
       "4  Posted Date\\n\\n\\n5/07/2025\\n\\n\\nDescription\\n\\...   \n",
       "\n",
       "                                        generated_cv  \n",
       "0  TECHNICAL SKILLS • Languages: Java, Python, Ja...  \n",
       "1  KEY SKILLS: • Full‐Stack Development • UI/UX C...  \n",
       "2  Technical Skills \\nProgramming Languages: Java...  \n",
       "3  Education Details \\nJanuary 2014 BSc. Computer...  \n",
       "4  SKILLS • 1.Java • 2.Python • 3.Node.js • 4.SQL...  "
      ]
     },
     "execution_count": 23,
     "metadata": {},
     "output_type": "execute_result"
    }
   ],
   "source": [
    "pd.read_csv(\"./data/o3-mini_resume.csv\").head()"
   ]
  }
 ],
 "metadata": {
  "kernelspec": {
   "display_name": "Test3",
   "language": "python",
   "name": "python3"
  },
  "language_info": {
   "codemirror_mode": {
    "name": "ipython",
    "version": 3
   },
   "file_extension": ".py",
   "mimetype": "text/x-python",
   "name": "python",
   "nbconvert_exporter": "python",
   "pygments_lexer": "ipython3",
   "version": "3.10.12"
  }
 },
 "nbformat": 4,
 "nbformat_minor": 5
}
