{
 "cells": [
  {
   "cell_type": "code",
   "execution_count": 1,
   "metadata": {},
   "outputs": [],
   "source": [
    "import pandas as pd\n",
    "import matplotlib.pyplot as plt\n",
    "import sys\n",
    "import numpy as np\n",
    "import os\n",
    "\n",
    "sys.path.append('../../system/')\n",
    "# from parser import run_parser, convert_pdf_to_jpg     #for image preprocess\n",
    "from get_similarity.utils.preprocess import preprocess\n",
    "from langchain_experimental.text_splitter import SemanticChunker\n",
    "from langchain_openai import OpenAIEmbeddings\n",
    "from langchain.embeddings import CacheBackedEmbeddings\n",
    "from langchain.storage import LocalFileStore\n",
    "from langchain_chroma import Chroma\n",
    "from configs import JD_PATH, COLLECTION, DB_PATH\n",
    "\n",
    "from insert_chunks import *\n",
    "from tqdm import tqdm\n",
    "from collections import Counter, defaultdict\n",
    "from uuid import uuid4\n",
    "from dotenv import load_dotenv\n",
    "\n",
    "\n",
    "#data download\n",
    "# Login using e.g. `huggingface-cli login` to access this dataset\n",
    "# df = pd.read_csv(\"hf://datasets/AzharAli05/Resume-Screening-Dataset/dataset.csv\")"
   ]
  },
  {
   "cell_type": "markdown",
   "metadata": {},
   "source": [
    "# Load"
   ]
  },
  {
   "cell_type": "code",
   "execution_count": 2,
   "metadata": {},
   "outputs": [],
   "source": [
    "load_dotenv()\n",
    "PINECONE_API_KEY = os.getenv(\"PINECONE_API_KEY\", \"\")"
   ]
  },
  {
   "cell_type": "code",
   "execution_count": 4,
   "metadata": {},
   "outputs": [],
   "source": [
    "from pinecone import Pinecone, ServerlessSpec\n",
    "\n",
    "pc = Pinecone(api_key=PINECONE_API_KEY)"
   ]
  },
  {
   "cell_type": "markdown",
   "metadata": {},
   "source": [
    "# Insert data"
   ]
  },
  {
   "cell_type": "code",
   "execution_count": 3,
   "metadata": {},
   "outputs": [
    {
     "data": {
      "text/plain": [
       "{\n",
       "    \"name\": \"quickstart\",\n",
       "    \"metric\": \"cosine\",\n",
       "    \"host\": \"quickstart-7ynlq0x.svc.aped-4627-b74a.pinecone.io\",\n",
       "    \"spec\": {\n",
       "        \"serverless\": {\n",
       "            \"cloud\": \"aws\",\n",
       "            \"region\": \"us-east-1\"\n",
       "        }\n",
       "    },\n",
       "    \"status\": {\n",
       "        \"ready\": true,\n",
       "        \"state\": \"Ready\"\n",
       "    },\n",
       "    \"vector_type\": \"dense\",\n",
       "    \"dimension\": 1024,\n",
       "    \"deletion_protection\": \"disabled\",\n",
       "    \"tags\": null\n",
       "}"
      ]
     },
     "execution_count": 3,
     "metadata": {},
     "output_type": "execute_result"
    }
   ],
   "source": [
    "index_name = \"quickstart\"\n",
    "\n",
    "pc.create_index(\n",
    "    name=index_name,\n",
    "    dimension=1024, # Replace with your model dimensions\n",
    "    metric=\"cosine\", # Replace with your model metric\n",
    "    spec=ServerlessSpec(\n",
    "        cloud=\"aws\",\n",
    "        region=\"us-east-1\"\n",
    "    ) \n",
    ")"
   ]
  },
  {
   "cell_type": "code",
   "execution_count": 4,
   "metadata": {},
   "outputs": [
    {
     "name": "stdout",
     "output_type": "stream",
     "text": [
      "{'vector_type': dense, 'values': [0.04931640625, -0.01328277587890625, ..., -0.0196380615234375, -0.010955810546875]}\n"
     ]
    }
   ],
   "source": [
    "data = [\n",
    "    {\"id\": \"vec1\", \"text\": \"Apple is a popular fruit known for its sweetness and crisp texture.\"},\n",
    "    {\"id\": \"vec2\", \"text\": \"The tech company Apple is known for its innovative products like the iPhone.\"},\n",
    "    {\"id\": \"vec3\", \"text\": \"Many people enjoy eating apples as a healthy snack.\"},\n",
    "    {\"id\": \"vec4\", \"text\": \"Apple Inc. has revolutionized the tech industry with its sleek designs and user-friendly interfaces.\"},\n",
    "    {\"id\": \"vec5\", \"text\": \"An apple a day keeps the doctor away, as the saying goes.\"},\n",
    "    {\"id\": \"vec6\", \"text\": \"Apple Computer Company was founded on April 1, 1976, by Steve Jobs, Steve Wozniak, and Ronald Wayne as a partnership.\"}\n",
    "]\n",
    "\n",
    "embeddings = pc.inference.embed(\n",
    "    model=\"multilingual-e5-large\",\n",
    "    inputs=[d['text'] for d in data],\n",
    "    parameters={\"input_type\": \"passage\", \"truncate\": \"END\"}\n",
    ")\n",
    "print(embeddings[0])"
   ]
  },
  {
   "cell_type": "code",
   "execution_count": 5,
   "metadata": {},
   "outputs": [
    {
     "data": {
      "text/plain": [
       "{'upserted_count': 6}"
      ]
     },
     "execution_count": 5,
     "metadata": {},
     "output_type": "execute_result"
    }
   ],
   "source": [
    "# Wait for the index to be ready\n",
    "while not pc.describe_index(index_name).status['ready']:\n",
    "    time.sleep(1)\n",
    "\n",
    "index = pc.Index(index_name)\n",
    "\n",
    "vectors = []\n",
    "for d, e in zip(data, embeddings):\n",
    "    vectors.append({\n",
    "        \"id\": d['id'],\n",
    "        \"values\": e['values'],\n",
    "        \"metadata\": {'text': d['text']}\n",
    "    })\n",
    "\n",
    "index.upsert(\n",
    "    vectors=vectors,\n",
    "    namespace=\"ns1\"\n",
    ")"
   ]
  },
  {
   "cell_type": "code",
   "execution_count": 7,
   "metadata": {},
   "outputs": [
    {
     "name": "stdout",
     "output_type": "stream",
     "text": [
      "{'dimension': 1024,\n",
      " 'index_fullness': 0.0,\n",
      " 'metric': 'cosine',\n",
      " 'namespaces': {'ns1': {'vector_count': 6}},\n",
      " 'total_vector_count': 6,\n",
      " 'vector_type': 'dense'}\n"
     ]
    }
   ],
   "source": [
    "print(index.describe_index_stats())"
   ]
  },
  {
   "cell_type": "markdown",
   "metadata": {},
   "source": [
    "# Query"
   ]
  },
  {
   "cell_type": "code",
   "execution_count": 8,
   "metadata": {},
   "outputs": [],
   "source": [
    "query = \"Tell me about the tech company known as Apple.\"\n",
    "\n",
    "embedding = pc.inference.embed(\n",
    "    model=\"multilingual-e5-large\",\n",
    "    inputs=[query],\n",
    "    parameters={\n",
    "        \"input_type\": \"query\"\n",
    "    }\n",
    ")"
   ]
  },
  {
   "cell_type": "code",
   "execution_count": 9,
   "metadata": {},
   "outputs": [
    {
     "name": "stdout",
     "output_type": "stream",
     "text": [
      "{'matches': [{'id': 'vec2',\n",
      "              'metadata': {'text': 'The tech company Apple is known for its '\n",
      "                                   'innovative products like the iPhone.'},\n",
      "              'score': 0.872760534,\n",
      "              'values': []},\n",
      "             {'id': 'vec4',\n",
      "              'metadata': {'text': 'Apple Inc. has revolutionized the tech '\n",
      "                                   'industry with its sleek designs and '\n",
      "                                   'user-friendly interfaces.'},\n",
      "              'score': 0.852285385,\n",
      "              'values': []},\n",
      "             {'id': 'vec6',\n",
      "              'metadata': {'text': 'Apple Computer Company was founded on '\n",
      "                                   'April 1, 1976, by Steve Jobs, Steve '\n",
      "                                   'Wozniak, and Ronald Wayne as a '\n",
      "                                   'partnership.'},\n",
      "              'score': 0.850212216,\n",
      "              'values': []}],\n",
      " 'namespace': 'ns1',\n",
      " 'usage': {'read_units': 1}}\n"
     ]
    }
   ],
   "source": [
    "results = index.query(\n",
    "    namespace=\"ns1\",\n",
    "    vector=embedding[0].values,\n",
    "    top_k=3,\n",
    "    include_values=False,\n",
    "    include_metadata=True\n",
    ")\n",
    "\n",
    "print(results)"
   ]
  },
  {
   "cell_type": "markdown",
   "metadata": {},
   "source": [
    "# Now use our dataset"
   ]
  },
  {
   "cell_type": "code",
   "execution_count": 13,
   "metadata": {},
   "outputs": [],
   "source": [
    "JD_PATH = \"../../data/jd_origin\"\n",
    "jd_folder = JD_PATH\n",
    "for jd_path in os.listdir(jd_folder):\n",
    "    full_path = os.path.join(jd_folder, jd_path)\n",
    "#일단 chunk가 어떤느낌으로 만드는지 뜯어보자"
   ]
  },
  {
   "cell_type": "code",
   "execution_count": 14,
   "metadata": {},
   "outputs": [],
   "source": [
    "emb_model = load_emb_model()\n",
    "preprocessed_doc = preprocess(full_path)    #dataframe\n",
    "total_chunks = get_chunks(preprocessed_doc, set_splitter(emb_model))"
   ]
  },
  {
   "cell_type": "code",
   "execution_count": 19,
   "metadata": {},
   "outputs": [
    {
     "data": {
      "text/plain": [
       "1536"
      ]
     },
     "execution_count": 19,
     "metadata": {},
     "output_type": "execute_result"
    }
   ],
   "source": [
    "len(emb_model.embed_query(\"test\"))"
   ]
  },
  {
   "cell_type": "code",
   "execution_count": 11,
   "metadata": {},
   "outputs": [],
   "source": [
    "from pinecone import Pinecone\n",
    "\n",
    "pc = Pinecone(api_key=\"pcsk_XAVgY_KVbSNbJSbZyAEL7b2YUXQd1ACAEJVG7w92uk4x4qnE3wHYC8c8xw25sHKhZVNk4\")\n",
    "# index = pc.Index(\"jd-dataset\")"
   ]
  },
  {
   "cell_type": "code",
   "execution_count": 20,
   "metadata": {},
   "outputs": [],
   "source": [
    "pc.create_index(\n",
    "    name=\"jd-dataset\",\n",
    "    dimension=1536 , # Replace with your model dimensions\n",
    "    metric=\"cosine\", # Replace with your model metric\n",
    "    spec=ServerlessSpec(\n",
    "        cloud=\"aws\",\n",
    "        region=\"us-east-1\"\n",
    "    ) \n",
    ")"
   ]
  },
  {
   "cell_type": "code",
   "execution_count": 30,
   "metadata": {},
   "outputs": [],
   "source": [
    "index = pc.Index(\"jd-dataset\")\n",
    "uuids = [str(uuid4()) for _ in range(len(total_chunks))]"
   ]
  },
  {
   "cell_type": "code",
   "execution_count": 31,
   "metadata": {},
   "outputs": [],
   "source": [
    "from langchain_pinecone import PineconeVectorStore\n",
    "\n",
    "vector_store = PineconeVectorStore(index=index, embedding=emb_model)"
   ]
  },
  {
   "cell_type": "code",
   "execution_count": 32,
   "metadata": {},
   "outputs": [
    {
     "data": {
      "text/plain": [
       "['42429ae2-d2a2-4b6b-a408-d749ed2ace0d',\n",
       " '98f405d8-4bfd-44fb-83d1-93303e23a6ee',\n",
       " 'e7d5087e-fbe2-4321-9b61-9648a205a9ca',\n",
       " 'a408b223-07b2-4af4-93ee-8c43558159f8',\n",
       " 'fbf6f85a-812f-41ad-9134-87240e7f9e60',\n",
       " '5efe7067-65c7-40a7-bfd6-940fc26c2859',\n",
       " '62ccb903-abe4-4c55-ace0-dbaea0f56d54',\n",
       " 'a39ef5ea-3cee-4989-aea6-b32662df0393',\n",
       " '4a2cd8be-c3e5-4da1-84e6-7a8047f3b9d4',\n",
       " 'dffdeb54-1d16-42a9-8328-3f3812beba75',\n",
       " '9a7e2755-ec24-437c-9a4e-c5fbda7befb5',\n",
       " '4b5ef61d-fed4-482e-98ab-3d8ace16210d',\n",
       " 'ed9097b4-8267-4069-bb55-71ae6ff8bec1',\n",
       " '76b95158-3ee1-4729-b48d-06e790f939a1',\n",
       " 'a97ad777-0f9f-449d-a505-6aae99f91b22',\n",
       " 'd3df2ed4-b041-4b48-9ec9-a3435d49b8f1',\n",
       " '85f78357-0dd9-4828-852d-a944d651cf7d',\n",
       " '6153b126-163d-4c33-8034-8d10587bb1e6',\n",
       " '950f549c-007f-4abd-82ff-580035ea7b4c',\n",
       " '5ed88665-1e66-4f73-941c-f79bfaf7e7cd',\n",
       " '6bd3cf3c-52a8-4edc-8305-326590f2bedb',\n",
       " '92168abb-17fe-428d-912d-72962d98f3fa',\n",
       " '4087622e-2f87-4def-9382-f39888085f15',\n",
       " '7bac60ff-270c-4811-b6e6-54a2e56cdf97',\n",
       " '378434f5-05c7-4efa-9e77-c09c4a5deb2b',\n",
       " '5a3a71a7-40f3-4dea-9324-cc6c878d47f7',\n",
       " '540992e3-3a00-4ada-9e1c-da403b4a7c90',\n",
       " 'd07f6eb5-1edb-4fbb-84d0-2f50fb00199a',\n",
       " '1bd6deb7-a5fc-4dbe-9356-c8681f251a88',\n",
       " '78cbb108-7dea-4188-90f4-33dc409d7f55',\n",
       " '49e24f30-450f-49bb-b081-ffba052571f9',\n",
       " '3e50b5c9-ff7e-45c6-92c9-082756d22bb6',\n",
       " 'b747e126-eeba-42d7-aa46-b58c1e1486a5',\n",
       " '330b119c-28c7-45fe-a0dd-d4b4edf1a6cc',\n",
       " 'a8a52261-188d-4a2c-9c4f-2eacf2be634d',\n",
       " '5615ea15-b5a1-4ac2-bd91-162b3d3ae341',\n",
       " 'e26ad3ea-be09-4320-94d4-0223fa818eba',\n",
       " '86be9563-5b1a-4af4-905f-98bf1749dbae',\n",
       " 'ff8f2563-e2f6-4f76-ad8d-a6063ce899ac',\n",
       " 'e8538907-d97f-4139-b8bb-f042722feee5',\n",
       " '3a474602-0b1a-446c-9d18-a8d9f0fd7232',\n",
       " 'fd55b8ac-03cc-407d-8aa2-3b1819295a22',\n",
       " '37d291e4-e5f4-47e5-845f-c47495ee6e6a',\n",
       " 'aff0323f-ede6-4c8d-925e-4f18c9944524',\n",
       " '346d6bca-a23a-404d-8372-9ea04d17fcbd',\n",
       " 'e035bb05-73ff-4216-a7df-0d71e0cf4a5b',\n",
       " 'bf766057-51e3-4298-a057-d3e2d76853b6',\n",
       " '0a71fc9f-99bf-4bbd-99fa-3141959a0d50',\n",
       " 'a5e4e946-1213-4e72-8170-c7ae399da685',\n",
       " 'e90e8251-868b-4cfb-8e40-69e4789bb0a0',\n",
       " 'a7d35d72-cb16-44e4-b5c6-9305f6e419c8',\n",
       " 'dba2cc1a-ad21-4a1c-bc87-907c277c9b16',\n",
       " 'd4a50cff-3d40-4967-9cbb-df1236627276',\n",
       " '7760d962-4ae4-4eb8-9889-0f9c05f61121',\n",
       " 'cad4820c-c386-4f5b-a4e5-f772ff6fc0b6',\n",
       " '74cb05c1-e2d9-4f56-868c-83a204480773',\n",
       " '4c0b2178-e4c4-4a8a-8cae-ef4c83216ec3',\n",
       " '434584df-98ba-4bb4-a9c5-0d92fbc2987d',\n",
       " '602f45bf-9596-4b3b-bf21-58389087ca5e',\n",
       " '7d7bca63-ada8-4107-a188-5d40012d317a',\n",
       " '525d5586-9b66-49ba-a730-e6cbad808935',\n",
       " 'f456ac25-ea5f-4379-8c11-54b4e7f1b205',\n",
       " '85c6be8a-882b-4ab8-8ea3-7e0b3b2963d0',\n",
       " 'c71175c2-fcac-4ebb-883b-6f896bc036dd',\n",
       " 'e0f2f5a3-0a42-4a0f-8fa6-39b69319b8a8',\n",
       " 'ee70db9f-7e37-4af7-af04-298fceedf7d3',\n",
       " '88406ffc-f05d-41fd-a588-8f605762df26',\n",
       " '525b7619-3c6e-43f3-b9e4-55eacf90d06a',\n",
       " '264a7c39-fb96-48f7-9347-a2e4ab579183',\n",
       " '92573578-6bad-4371-b91a-f261667afb37',\n",
       " 'daf360d7-43e5-4403-b4e7-003026503295',\n",
       " 'f71673a6-8307-4bd9-a52c-2d1619d1cd29',\n",
       " '59b43aa2-52d1-419a-9db4-2d1b0afd239d',\n",
       " 'd373d7d2-d153-4f9f-8bb4-4f64020dcaa6',\n",
       " 'f84877e5-d33d-48cf-b482-02140c2352ec',\n",
       " '64b06328-28c7-405e-a57b-35c4c62bf644',\n",
       " 'dba39704-c3ca-42f2-a97e-b27b59fed215',\n",
       " '19826f57-6f6d-4e49-a307-0bb44df87c54',\n",
       " '5a08156a-0b0b-4dd4-bc5e-bc5d3f2363c0',\n",
       " 'a3616b2c-2c21-45b1-bc3f-14f31132d4b6',\n",
       " '10c0f40e-22f1-404b-9f81-41a18572fcf6',\n",
       " '5a29ec34-85ef-411c-9581-0b5ab308008f',\n",
       " '7fa6dd83-1002-4a1e-b470-b2e705e9b26a',\n",
       " 'da19635f-f12f-4e05-b954-82219d7c7d5b',\n",
       " 'ab6c20a7-f374-485c-a9a2-48bd66d6e5bb',\n",
       " 'cbd185ae-4b86-4ced-b3b5-2fbeb630c77f',\n",
       " 'feb811ee-d76d-4fea-860c-6a568a2c5217',\n",
       " '32aec854-4ac1-455f-be6c-4f76233b8e7c',\n",
       " 'e707a107-94a3-41ee-8bab-d8eabf9eeb96',\n",
       " 'a2c5690d-acd7-4c60-9553-9e53b0a38276',\n",
       " 'f3eb8d30-40b4-4077-be0c-6a807d2a7703',\n",
       " '7072e8c9-76d0-4c0a-b378-e1dc3c589aab',\n",
       " 'f0224f52-4578-4e42-951f-d917020b1a5b']"
      ]
     },
     "execution_count": 32,
     "metadata": {},
     "output_type": "execute_result"
    }
   ],
   "source": [
    "vector_store.add_documents(documents=total_chunks, ids=uuids)"
   ]
  },
  {
   "cell_type": "code",
   "execution_count": 41,
   "metadata": {},
   "outputs": [
    {
     "name": "stdout",
     "output_type": "stream",
     "text": [
      "* in Computer Science or a related field is required. 8+ years’ experience in applied AI/ML to solve data challenges. Deep understanding of statistical modeling, machine learning, and deep\n",
      "learning, with a track record of solving problems with these methods. Experience in solving technical problems in data privacy and conversational\n",
      "systems is preferred. Strong programming skills with extensive experience in Java or Python. Proven track record of innovation and sharing insights through publications\n",
      "and patents. Excellent problem-solving, analytical and communication skills. Adaptable to evolving priorities, accepting challenges outside one's comfort\n",
      "zone and learning new technologies. Ability to think through solutions from a short term and long-term lens in an\n",
      "iterative development cycle. Our compensation reflects the cost of labor across several U.S. geographic\n",
      "markets, and we pay differently based on those defined markets. [{'company': 'Adobe', 'company_url': 'https://www.indeed.com/cmp/Adobe', 'date_posted': '2024-11-11', 'description': \"Our Company  \\n  \\nChanging the world through digital experiences is what Adobe’s all about. We\\ngive everyone—from emerging artists to global brands—everything they need to\\ndesign and deliver exceptional digital experiences! We’re passionate about\\nempowering people to create beautiful and powerful images, videos, and apps,\\nand transform how companies interact with customers across every screen.  \\n  \\nWe’re on a mission to hire the very best and are committed to creating\\nexceptional employee experiences where everyone is respected and has access to\\nequal opportunity. We realize that new ideas can come from everywhere in the\\norganization, and we know the next big idea could be yours!  \\n  \\nOur Company  \\nChanging the world through digital experiences is what Adobe’s all about. We\\ngive everyone—from emerging artists to global brands—everything they need to\\ndesign and deliver exceptional digital experiences! We’re passionate about\\nempowering people to create beautiful and powerful images, videos, and apps,\\nand transform how companies interact with customers across every screen.  \\n  \\nWe’re on a mission to hire the very best and are committed to creating\\nexceptional employee experiences where everyone is respected and has access to\\nequal opportunity. We realize that new ideas can come from everywhere in the\\norganization, and we know the next big idea could be yours!  \\n  \\nThe Opportunity  \\nWe are applying innovative AI and ML technologies to power digital businesses,\\nhelping companies design and deliver personalized experiences to their\\ncustomers. Real-Time CDP Collaboration enables brands discover, reach, and\\nmeasure high-value audiences without third-party cookies through advanced data\\ncollaboration between advertisers and publishers, with a focus on customer\\nprivacy.  \\n  \\nWe are looking for a Staff Machine Learning Engineer to build the foundational\\ndata management and query processing capabilities in RTCDP Collaboration, with\\nan emphasis on supporting audience overlap, expansion and measurement\\noperations interactively in a privacy-safe manner. As part of building these\\nservices, you will work with an exceptionally talented and collaborative team,\\ninnovate to design & implement statistical data representations, tackle\\ncomplex data management & query evaluation challenges, and build highly\\nperformant services.  \\n  \\nWhat you'll Do  \\nCollaborate with a team of engineers & product managers in building privacy-\\nsafe data management and query processing capabilities.  \\nInnovate in designing and implementing probabilistic data representations to\\nsupport interactive queries.  \\nExtend architecture and implementation to support newer class of collaboration\\nqueries.  \\nImprove performance of systems to scale with evolving workload requirements.  \\nDeploy production services and iteratively improve them based on customer\\nfeedback.  \\nParticipate in entire lifecycle including architecture, design, coding,\\nreviews and validation.  \\n  \\nWhat you need to succeed  \\nPh.D. in Computer Science or a related field is required.  \\n8+ years’ experience in applied AI/ML to solve data challenges.  \\nDeep understanding of statistical modeling, machine learning, and deep\\nlearning, with a track record of solving problems with these methods.  \\nExperience in solving technical problems in data privacy and conversational\\nsystems is preferred.  \\nStrong programming skills with extensive experience in Java or Python.  \\nProven track record of innovation and sharing insights through publications\\nand patents.  \\nExcellent problem-solving, analytical and communication skills.  \\nAdaptable to evolving priorities, accepting challenges outside one's comfort\\nzone and learning new technologies.  \\nAbility to think through solutions from a short term and long-term lens in an\\niterative development cycle.  \\nOur compensation reflects the cost of labor across several U.S. geographic\\nmarkets, and we pay differently based on those defined markets. The U.S. pay\\nrange for this position is $150,700 -- $284,400 annually. Pay within this\\nrange varies by work location and may also depend on job-related knowledge,\\nskills, and experience. Your recruiter can share more about the specific\\nsalary range for the job location during the hiring process.  \\n  \\nAt Adobe, for sales roles starting salaries are expressed as total target\\ncompensation (TTC = base + commission), and short-term incentives are in the\\nform of sales commission plans. Non-sales roles starting salaries are\\nexpressed as base salary and short-term incentives are in the form of the\\nAnnual Incentive Plan (AIP).  \\n  \\nIn addition, certain roles may be eligible for long-term incentives in the\\nform of a new hire equity award.  \\n  \\nAdobe will consider qualified applicants with arrest or conviction records for\\nemployment in accordance with state and local laws and “fair chance”\\nordinances.  \\n  \\nAdobe is proud to be an Equal Employment Opportunity and affirmative action\\nemployer. We do not discriminate based on gender, race or color, ethnicity or\\nnational origin, age, disability, religion, sexual orientation, gender\\nidentity or expression, veteran status, or any other applicable\\ncharacteristics protected by law. Learn more.  \\n  \\nAdobe aims to make Adobe.com accessible to any and all users. If you have a\\ndisability or special need that requires accommodation to navigate our website\\nor complete the application process, email accommodations@adobe.com or call\\n(408) 536-3015.  \\n  \\nAdobe values a free and open marketplace for all employees and has policies in\\nplace to ensure that we do not enter into illegal agreements with other\\ncompanies to not recruit or hire each other’s employees.\", 'is_remote': False, 'job_type': 'fulltime', 'job_url': 'https://www.indeed.com/viewjob?jk=6c19dea67d8d40d8', 'location': 'San Jose, CA, USA', 'title': 'Machine Learning Engineer'}]\n",
      "* In this position you should have the following; excellent interpersonal skills\n",
      "with the ability to communicate at all levels. Strong problem solving and\n",
      "creative skills and the ability to exercise sound judgment. Most important,\n",
      "demonstrate a high level of integrity and dependability with a strong sense of\n",
      "urgency and results-orientation. How you'll _create opportunities_ in this Senior Data Scientist role:\n",
      "\n",
      "  * Service Specialization: Develop service specific knowledge through greater exposure to peers, internal experts, clients, regular self-study, and formal training opportunities. Gain exposure to a variety of client situations to develop business skills. [{'company': 'CliftonLarsonAllen', 'company_url': 'https://www.indeed.com/cmp/Cliftonlarsonallen', 'date_posted': '2024-11-11', 'description': \"CLA is a top 10 national professional services firm where our purpose is to\\n_create opportunities_ every day, for our clients, our people, and our\\ncommunities through industry-focused wealth advisory, digital, audit, tax,\\nconsulting, and outsourcing services. Even with more than 8,500 people, 130\\nU.S. locations, and a global reach, we promise to know you and help you.\\n\\nCLA is dedicated to building a\\n\\nculture\\n\\nthat invites different beliefs and perspectives to the table, so we can truly\\nknow and help our clients, communities, and each other.\\n\\nOur Perks:\\n\\n  * Flexible PTO (designed to offer flexible time away for you!)\\n  * Up to 12 weeks paid parental leave\\n  * Paid Volunteer Time Off\\n  * Mental health coverage\\n  * Quarterly Wellness stipend\\n  * Fertility benefits\\n  * Complete list of benefits \\n\\nhere\\n\\nCLA is growing and seeking to hire an experienced Senior Data Scientist to\\njoin our talented Information Technology team. The position offers growth,\\nflexibility and a collaborative work environment.\\n\\nIn this position you should have the following; excellent interpersonal skills\\nwith the ability to communicate at all levels. Strong problem solving and\\ncreative skills and the ability to exercise sound judgment. Most important,\\ndemonstrate a high level of integrity and dependability with a strong sense of\\nurgency and results-orientation.\\n\\nHow you'll _create opportunities_ in this Senior Data Scientist role:\\n\\n  * Service Specialization: Develop service specific knowledge through greater exposure to peers, internal experts, clients, regular self-study, and formal training opportunities. Gain exposure to a variety of client situations to develop business skills. Retain knowledge gained and performance feedback provided to transfer into future work. Approach all problems and projects with a high level of professionalism, objectivity and an open mind to new ideas and solutions.\\n\\n  * Data Analysis: Participate and take ownership in the collection, analysis, and automated collection of data using a variety of data tools. Together with the Data Analytics team, support the building and implementing of models, algorithms, and simulations supporting solutions for external clients and internal projects. Assess the effectiveness and accuracy of new data sources and data gathering techniques.\\n\\n  * Data Development: Working under the guidance of a variety of Data Analytics team members, gain exposure to developing custom data models and algorithms to apply to data sets. Execute predictive and inferential analytics, machine learning, and artificial intelligence techniques. Use existing processes and tools to monitor and analyze solution performance and accuracy, and communicate findings to team members and end users.\\n\\n  * Collaboration: Work individually as well as in collaboration with others. Interaction with others will primarily be virtual with leadership and colleagues from other offices. Take on additional roles beyond technical development and client service that may include: serving as primary contact with clients or business leaders on internal projects, take on administrative tasks, perform support roles, and get involved in new business development.\\n\\n  * Collaboration: Work individually as well as in collaboration with others. Interaction with others will primarily be virtual with leadership and colleagues from other offices. Take on additional roles beyond technical development that may include: serving as primary contact with business leaders on internal projects, take on administrative tasks, perform support roles, and get involved in new program/project development.\\n\\nWhat you will need:\\n\\n  * 2 years of relevant experience\\n    * Experience in data analytics, statics, data science, financial consulting, computer science or related field preferred.\\n    * Experience with API's, web scraping, SQL/no-SQL databases, and cloud-based data solutions preferred.\\n  * Bachelor's degree or a combination of relevant experience and training may be considered in lieu of a degree.\\n\\n#LI-DJ1\\n\\nEqual Opportunity Employer /AA Employer/Minorities/Women/Protected\\nVeterans/Individuals with Disabilities.\\n\\n  \\nWellness at CLA\\n\\nTo support our CLA family members, we focus on their physical, financial,\\nsocial, and emotional well-being and offer comprehensive benefit options that\\ninclude health, dental, vision, 401k and much more.\\n\\nTo view a complete list of benefits click\\n\\nhere\\n\\n.\", 'is_remote': False, 'job_type': 'fulltime', 'job_url': 'https://www.indeed.com/viewjob?jk=f3e2cddc886fddb3', 'location': 'Minneapolis, MN, USA', 'title': 'Senior Data Scientist'}]\n"
     ]
    }
   ],
   "source": [
    "results = vector_store.similarity_search(\n",
    "    \"I want Data Scientist position\",\n",
    "    k=2,\n",
    ")\n",
    "for res in results:\n",
    "    print(f\"* {res.page_content} [{res.metadata}]\")"
   ]
  },
  {
   "cell_type": "markdown",
   "metadata": {},
   "source": [
    "## Query by retrieval"
   ]
  },
  {
   "cell_type": "code",
   "execution_count": 44,
   "metadata": {},
   "outputs": [
    {
     "data": {
      "text/plain": [
       "[Document(id='b747e126-eeba-42d7-aa46-b58c1e1486a5', metadata={'company': 'Johnny Clean', 'company_url': 'https://www.indeed.com/cmp/Johnny-Clean-Car-Wash-1', 'date_posted': '2024-11-11', 'description': \"**Position Summary**\\n\\nJohnny Clean Car Wash is seeking an **Operational Data Scientist** with proven\\nexperience in **subscription-based businesses** to join our team at the\\nDeerfield Beach Support Center in Florida. This role is tailored for a data\\nscientist who not only excels in technical analysis but also deeply\\nunderstands the unique dynamics of recurring revenue models and membership-\\nbased customer experiences. At Johnny Clean, we've built a strong foundation\\nwith our data warehouse and PowerBI dashboards; now, we need a data\\nprofessional who knows the ins and outs of subscription models to help us\\nscale effectively, improve member satisfaction, and identify operational\\nopportunities. This role involves a balance of office-based data work and in-\\nfield insights gathering, ensuring you're fully immersed in our business\\noperations and customer journey.  \\n\\n**Our Company**\\n\\nWe are a family business that has served tens of millions of customers since\\n1963. Our new brand, Johnny Clean, has three operating locations and many more\\nwithin the development and entitlement process.\\n\\nOur Hospitality, Quality, and Speed are within the top 1% of the Carwash\\nIndustry. How? It's simple. We have passionate, enthusiastic, smart, and\\ncaring people on our team that deliver a world class experience to our\\ncustomers every day.\\n\\n**Key Responsibilities**\\n\\n  * **Data Analysis and Subscription Insights**\\n    * Analyze and interpret data specific to membership patterns, customer retention, and subscription health, leveraging your deep understanding of subscription models to drive actionable insights.\\n    * Identify trends and key metrics within our membership base to help optimize offerings, enhance member engagement, and drive subscriber growth.\\n  * **Subscription Model Optimization and Machine Learning**\\n    * Use advanced modeling techniques to forecast membership trends, churn, and other critical metrics in a subscription-based environment.\\n    * Continuously refine models to ensure they provide ongoing value, particularly in forecasting subscriber behavior and improving membership experience.\\n  * **Field Integration and Customer-Centric Insights**\\n    * Regularly spend time in the field at Johnny Clean locations to develop a firsthand understanding of the customer experience, identifying areas where subscription insights can improve operations.\\n    * Translate data findings into concrete actions that directly enhance the customer journey and improve member satisfaction across all touchpoints.\\n  * **Subscription-Focused Dashboards and Reporting**\\n    * Build and maintain PowerBI dashboards that specifically track membership KPIs, including member acquisition, churn, lifetime value, and other metrics critical to a subscription-based business.\\n    * Ensure that data visualizations highlight membership-specific insights that enable leaders to make informed, data-driven decisions.\\n  * **Cross-Functional Collaboration and Subscription Strategy Alignment**\\n    * Collaborate closely with operations, customer experience, and leadership teams to ensure alignment on subscription and member-based goals.\\n    * Communicate complex insights in ways that drive strategic planning, particularly in areas such as customer retention, loyalty programs, and growth strategies.\\n  * **Quality Control and Data Integrity in Membership Tracking**\\n    * Ensure the integrity of subscription data by performing quality checks and cross-referencing sources, focusing on the nuances specific to recurring revenue and membership lifecycle.\\n    * Develop processes that maintain the accuracy and reliability of data critical to measuring subscription performance and membership health.\\n\\n**Qualifications**\\n\\n  * **Education & Experience**: Bachelor's degree in Data Science, Business Analytics, or a related field. **3-4 years of experience in a data-focused role within a subscription-based business** is essential. Your deep understanding of membership lifecycle, customer retention strategies, and subscription dynamics is key to excelling in this role.\\n  * **Technical Skills** : Proficiency in Azure and PowerBI, with a strong foundation in SQL. Experience with machine learning tools and programming (e.g., Python, R) is a plus.\\n  * **Subscription Model Expertise** : Demonstrated experience in managing data within a subscription business, especially around churn prediction, member engagement, and lifecycle management.\\n  * **Problem-Solving Skills** : Strong analytical skills, particularly in addressing subscription-specific challenges and providing strategic solutions based on data insights.\\n  * **Communication Skills** : Ability to convey complex data concepts related to subscription metrics and membership health to non-technical team members, ensuring clarity and actionable insights.\\n\\n**Compensation & Benefits**\\n\\n  * **Salary** : $110,000-$140,000 annually, based on experience and qualifications.\\n  * **Location** : In-office at our Deerfield Beach Support Center, with required travel to field locations as needed.\\n  * **Additional Perks** : Competitive benefits, free car washes, career development opportunities, and more.\\n\\n**Our Promise**\\n\\nJoining Johnny Clean means becoming part of a team dedicated to **Clean. Fast.\\nAwesome** service. As an Operational Data Scientist with subscription business\\nexperience, you'll play a vital role in shaping the customer experience and\\nmembership growth. We look forward to welcoming someone who is passionate\\nabout leveraging data to enhance our member relationships and ready to grow\\nwith us as we bring Johnny Clean to new markets and audiences.\", 'is_remote': False, 'job_type': 'fulltime', 'job_url': 'https://www.indeed.com/viewjob?jk=4172e3ff386cfe54', 'location': 'Deerfield Beach, FL, USA', 'title': 'Data Scientist'}, page_content=\"It's simple.\")]"
      ]
     },
     "execution_count": 44,
     "metadata": {},
     "output_type": "execute_result"
    }
   ],
   "source": [
    "retriever = vector_store.as_retriever(\n",
    "    search_type=\"similarity_score_threshold\",\n",
    "    search_kwargs={\"k\": 1, \"score_threshold\": 0.2},\n",
    ")\n",
    "retriever.invoke(\"Stealing from the bank is a crime\")"
   ]
  },
  {
   "cell_type": "code",
   "execution_count": null,
   "metadata": {},
   "outputs": [],
   "source": []
  },
  {
   "cell_type": "code",
   "execution_count": null,
   "metadata": {},
   "outputs": [],
   "source": []
  },
  {
   "cell_type": "code",
   "execution_count": null,
   "metadata": {},
   "outputs": [],
   "source": []
  },
  {
   "cell_type": "code",
   "execution_count": null,
   "metadata": {},
   "outputs": [],
   "source": []
  }
 ],
 "metadata": {
  "kernelspec": {
   "display_name": "RAG",
   "language": "python",
   "name": "python3"
  },
  "language_info": {
   "codemirror_mode": {
    "name": "ipython",
    "version": 3
   },
   "file_extension": ".py",
   "mimetype": "text/x-python",
   "name": "python",
   "nbconvert_exporter": "python",
   "pygments_lexer": "ipython3",
   "version": "3.10.12"
  }
 },
 "nbformat": 4,
 "nbformat_minor": 2
}
